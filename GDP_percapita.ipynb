{
 "cells": [
  {
   "cell_type": "code",
   "execution_count": 26,
   "metadata": {},
   "outputs": [],
   "source": [
    "import pandas as pd\n",
    "import matplotlib.pyplot as plt\n",
    "import seaborn as sns\n",
    "import chart_studio.plotly as py\n",
    "import plotly.graph_objs as go\n",
    "from plotly.offline import download_plotlyjs, init_notebook_mode, plot, iplot\n",
    "import numpy as np"
   ]
  },
  {
   "cell_type": "code",
   "execution_count": 27,
   "metadata": {},
   "outputs": [
    {
     "data": {
      "text/html": [
       "<div>\n",
       "<style scoped>\n",
       "    .dataframe tbody tr th:only-of-type {\n",
       "        vertical-align: middle;\n",
       "    }\n",
       "\n",
       "    .dataframe tbody tr th {\n",
       "        vertical-align: top;\n",
       "    }\n",
       "\n",
       "    .dataframe thead th {\n",
       "        text-align: right;\n",
       "    }\n",
       "</style>\n",
       "<table border=\"1\" class=\"dataframe\">\n",
       "  <thead>\n",
       "    <tr style=\"text-align: right;\">\n",
       "      <th></th>\n",
       "      <th>Country Name</th>\n",
       "      <th>Country Code</th>\n",
       "      <th>Indicator Name</th>\n",
       "      <th>Indicator Code</th>\n",
       "      <th>1960</th>\n",
       "      <th>1961</th>\n",
       "      <th>1962</th>\n",
       "      <th>1963</th>\n",
       "      <th>1964</th>\n",
       "      <th>1965</th>\n",
       "      <th>...</th>\n",
       "      <th>2010</th>\n",
       "      <th>2011</th>\n",
       "      <th>2012</th>\n",
       "      <th>2013</th>\n",
       "      <th>2014</th>\n",
       "      <th>2015</th>\n",
       "      <th>2016</th>\n",
       "      <th>2017</th>\n",
       "      <th>2018</th>\n",
       "      <th>2019</th>\n",
       "    </tr>\n",
       "  </thead>\n",
       "  <tbody>\n",
       "    <tr>\n",
       "      <th>0</th>\n",
       "      <td>Aruba</td>\n",
       "      <td>ABW</td>\n",
       "      <td>GDP per capita (current US$)</td>\n",
       "      <td>NY.GDP.PCAP.CD</td>\n",
       "      <td>NaN</td>\n",
       "      <td>NaN</td>\n",
       "      <td>NaN</td>\n",
       "      <td>NaN</td>\n",
       "      <td>NaN</td>\n",
       "      <td>NaN</td>\n",
       "      <td>...</td>\n",
       "      <td>23512.602596</td>\n",
       "      <td>24985.993281</td>\n",
       "      <td>24713.698045</td>\n",
       "      <td>25025.099563</td>\n",
       "      <td>25533.56978</td>\n",
       "      <td>25796.380251</td>\n",
       "      <td>25239.600411</td>\n",
       "      <td>25630.266492</td>\n",
       "      <td>NaN</td>\n",
       "      <td>NaN</td>\n",
       "    </tr>\n",
       "  </tbody>\n",
       "</table>\n",
       "<p>1 rows × 64 columns</p>\n",
       "</div>"
      ],
      "text/plain": [
       "  Country Name Country Code                Indicator Name  Indicator Code  \\\n",
       "0        Aruba          ABW  GDP per capita (current US$)  NY.GDP.PCAP.CD   \n",
       "\n",
       "   1960  1961  1962  1963  1964  1965  ...          2010          2011  \\\n",
       "0   NaN   NaN   NaN   NaN   NaN   NaN  ...  23512.602596  24985.993281   \n",
       "\n",
       "           2012          2013         2014          2015          2016  \\\n",
       "0  24713.698045  25025.099563  25533.56978  25796.380251  25239.600411   \n",
       "\n",
       "           2017  2018  2019  \n",
       "0  25630.266492   NaN   NaN  \n",
       "\n",
       "[1 rows x 64 columns]"
      ]
     },
     "execution_count": 27,
     "metadata": {},
     "output_type": "execute_result"
    }
   ],
   "source": [
    "gdp = pd.read_excel('./data/GDP_percapita.xls')\n",
    "gdp.head(1)"
   ]
  },
  {
   "cell_type": "code",
   "execution_count": 28,
   "metadata": {},
   "outputs": [],
   "source": [
    "gdp = gdp[['Country Name', '2015', '2016', '2017', '2018']]"
   ]
  },
  {
   "cell_type": "code",
   "execution_count": 29,
   "metadata": {},
   "outputs": [],
   "source": [
    "gdp = gdp.dropna(thresh=3)"
   ]
  },
  {
   "cell_type": "code",
   "execution_count": 30,
   "metadata": {
    "scrolled": true
   },
   "outputs": [
    {
     "data": {
      "text/html": [
       "<div>\n",
       "<style scoped>\n",
       "    .dataframe tbody tr th:only-of-type {\n",
       "        vertical-align: middle;\n",
       "    }\n",
       "\n",
       "    .dataframe tbody tr th {\n",
       "        vertical-align: top;\n",
       "    }\n",
       "\n",
       "    .dataframe thead th {\n",
       "        text-align: right;\n",
       "    }\n",
       "</style>\n",
       "<table border=\"1\" class=\"dataframe\">\n",
       "  <thead>\n",
       "    <tr style=\"text-align: right;\">\n",
       "      <th></th>\n",
       "      <th>Country Name</th>\n",
       "      <th>2015</th>\n",
       "      <th>2016</th>\n",
       "      <th>2017</th>\n",
       "      <th>2018</th>\n",
       "      <th>average</th>\n",
       "    </tr>\n",
       "  </thead>\n",
       "  <tbody>\n",
       "    <tr>\n",
       "      <th>119</th>\n",
       "      <td>Monaco</td>\n",
       "      <td>165937.865343</td>\n",
       "      <td>169915.804840</td>\n",
       "      <td>167101.759377</td>\n",
       "      <td>185741.279992</td>\n",
       "      <td>172174.177388</td>\n",
       "    </tr>\n",
       "    <tr>\n",
       "      <th>114</th>\n",
       "      <td>Luxembourg</td>\n",
       "      <td>101376.496574</td>\n",
       "      <td>104278.390972</td>\n",
       "      <td>107361.306947</td>\n",
       "      <td>116639.888047</td>\n",
       "      <td>107414.020635</td>\n",
       "    </tr>\n",
       "    <tr>\n",
       "      <th>33</th>\n",
       "      <td>Switzerland</td>\n",
       "      <td>82081.609206</td>\n",
       "      <td>80172.193304</td>\n",
       "      <td>80450.045820</td>\n",
       "      <td>82796.547163</td>\n",
       "      <td>81375.098873</td>\n",
       "    </tr>\n",
       "    <tr>\n",
       "      <th>87</th>\n",
       "      <td>Isle of Man</td>\n",
       "      <td>81606.280033</td>\n",
       "      <td>79155.541672</td>\n",
       "      <td>80989.172211</td>\n",
       "      <td>NaN</td>\n",
       "      <td>80583.664639</td>\n",
       "    </tr>\n",
       "    <tr>\n",
       "      <th>116</th>\n",
       "      <td>Macao SAR, China</td>\n",
       "      <td>75340.986981</td>\n",
       "      <td>74061.086035</td>\n",
       "      <td>81516.674925</td>\n",
       "      <td>87208.535913</td>\n",
       "      <td>79531.820963</td>\n",
       "    </tr>\n",
       "    <tr>\n",
       "      <th>47</th>\n",
       "      <td>Cayman Islands</td>\n",
       "      <td>76280.486253</td>\n",
       "      <td>78296.099927</td>\n",
       "      <td>81124.513479</td>\n",
       "      <td>NaN</td>\n",
       "      <td>78567.033220</td>\n",
       "    </tr>\n",
       "    <tr>\n",
       "      <th>143</th>\n",
       "      <td>Norway</td>\n",
       "      <td>74355.515858</td>\n",
       "      <td>70460.560532</td>\n",
       "      <td>75496.754058</td>\n",
       "      <td>81697.245984</td>\n",
       "      <td>75502.519108</td>\n",
       "    </tr>\n",
       "    <tr>\n",
       "      <th>89</th>\n",
       "      <td>Ireland</td>\n",
       "      <td>61995.422779</td>\n",
       "      <td>63197.082374</td>\n",
       "      <td>69649.882740</td>\n",
       "      <td>78806.431996</td>\n",
       "      <td>68412.204972</td>\n",
       "    </tr>\n",
       "    <tr>\n",
       "      <th>92</th>\n",
       "      <td>Iceland</td>\n",
       "      <td>52428.595763</td>\n",
       "      <td>61757.949306</td>\n",
       "      <td>71314.774196</td>\n",
       "      <td>73191.116315</td>\n",
       "      <td>64673.108895</td>\n",
       "    </tr>\n",
       "    <tr>\n",
       "      <th>161</th>\n",
       "      <td>Qatar</td>\n",
       "      <td>63039.016555</td>\n",
       "      <td>57163.060992</td>\n",
       "      <td>61264.396478</td>\n",
       "      <td>68793.784437</td>\n",
       "      <td>62565.064615</td>\n",
       "    </tr>\n",
       "    <tr>\n",
       "      <th>202</th>\n",
       "      <td>United States</td>\n",
       "      <td>56803.472433</td>\n",
       "      <td>57904.201961</td>\n",
       "      <td>59927.929834</td>\n",
       "      <td>62794.585652</td>\n",
       "      <td>59357.547470</td>\n",
       "    </tr>\n",
       "    <tr>\n",
       "      <th>168</th>\n",
       "      <td>Singapore</td>\n",
       "      <td>55646.618747</td>\n",
       "      <td>56724.170386</td>\n",
       "      <td>60297.793781</td>\n",
       "      <td>64581.944018</td>\n",
       "      <td>59312.631733</td>\n",
       "    </tr>\n",
       "    <tr>\n",
       "      <th>53</th>\n",
       "      <td>Denmark</td>\n",
       "      <td>53254.856004</td>\n",
       "      <td>54663.998372</td>\n",
       "      <td>57141.059835</td>\n",
       "      <td>61350.347909</td>\n",
       "      <td>56602.565530</td>\n",
       "    </tr>\n",
       "    <tr>\n",
       "      <th>10</th>\n",
       "      <td>Australia</td>\n",
       "      <td>56755.721712</td>\n",
       "      <td>49971.131456</td>\n",
       "      <td>54066.471269</td>\n",
       "      <td>57373.686684</td>\n",
       "      <td>54541.752780</td>\n",
       "    </tr>\n",
       "    <tr>\n",
       "      <th>65</th>\n",
       "      <td>Faroe Islands</td>\n",
       "      <td>52404.659333</td>\n",
       "      <td>55822.914720</td>\n",
       "      <td>NaN</td>\n",
       "      <td>NaN</td>\n",
       "      <td>54113.787027</td>\n",
       "    </tr>\n",
       "    <tr>\n",
       "      <th>180</th>\n",
       "      <td>Sweden</td>\n",
       "      <td>51397.191756</td>\n",
       "      <td>51974.196555</td>\n",
       "      <td>53744.429032</td>\n",
       "      <td>54608.360255</td>\n",
       "      <td>52931.044400</td>\n",
       "    </tr>\n",
       "    <tr>\n",
       "      <th>142</th>\n",
       "      <td>Netherlands</td>\n",
       "      <td>45175.231893</td>\n",
       "      <td>46007.852921</td>\n",
       "      <td>48554.992276</td>\n",
       "      <td>53024.059213</td>\n",
       "      <td>48190.534076</td>\n",
       "    </tr>\n",
       "    <tr>\n",
       "      <th>11</th>\n",
       "      <td>Austria</td>\n",
       "      <td>44178.047378</td>\n",
       "      <td>45237.805092</td>\n",
       "      <td>47431.630608</td>\n",
       "      <td>51461.954780</td>\n",
       "      <td>47077.359464</td>\n",
       "    </tr>\n",
       "    <tr>\n",
       "      <th>172</th>\n",
       "      <td>San Marino</td>\n",
       "      <td>45774.587890</td>\n",
       "      <td>46692.351092</td>\n",
       "      <td>48494.551411</td>\n",
       "      <td>NaN</td>\n",
       "      <td>46987.163464</td>\n",
       "    </tr>\n",
       "    <tr>\n",
       "      <th>78</th>\n",
       "      <td>Greenland</td>\n",
       "      <td>44536.401308</td>\n",
       "      <td>48181.874188</td>\n",
       "      <td>NaN</td>\n",
       "      <td>NaN</td>\n",
       "      <td>46359.137748</td>\n",
       "    </tr>\n",
       "    <tr>\n",
       "      <th>62</th>\n",
       "      <td>Finland</td>\n",
       "      <td>42811.212994</td>\n",
       "      <td>43777.440089</td>\n",
       "      <td>46191.931156</td>\n",
       "      <td>50152.340141</td>\n",
       "      <td>45733.231095</td>\n",
       "    </tr>\n",
       "    <tr>\n",
       "      <th>32</th>\n",
       "      <td>Canada</td>\n",
       "      <td>43495.054387</td>\n",
       "      <td>42279.900823</td>\n",
       "      <td>45069.927254</td>\n",
       "      <td>46232.989623</td>\n",
       "      <td>44269.468022</td>\n",
       "    </tr>\n",
       "    <tr>\n",
       "      <th>50</th>\n",
       "      <td>Germany</td>\n",
       "      <td>41139.544569</td>\n",
       "      <td>42098.920445</td>\n",
       "      <td>44240.044110</td>\n",
       "      <td>47603.027633</td>\n",
       "      <td>43770.384189</td>\n",
       "    </tr>\n",
       "    <tr>\n",
       "      <th>14</th>\n",
       "      <td>Belgium</td>\n",
       "      <td>40991.808138</td>\n",
       "      <td>42012.099900</td>\n",
       "      <td>44219.561996</td>\n",
       "      <td>47518.636039</td>\n",
       "      <td>43685.526518</td>\n",
       "    </tr>\n",
       "    <tr>\n",
       "      <th>68</th>\n",
       "      <td>United Kingdom</td>\n",
       "      <td>44966.101925</td>\n",
       "      <td>41074.167280</td>\n",
       "      <td>40361.417383</td>\n",
       "      <td>42943.902270</td>\n",
       "      <td>42336.397214</td>\n",
       "    </tr>\n",
       "    <tr>\n",
       "      <th>146</th>\n",
       "      <td>New Zealand</td>\n",
       "      <td>38559.547038</td>\n",
       "      <td>40026.852196</td>\n",
       "      <td>42260.125177</td>\n",
       "      <td>41945.331669</td>\n",
       "      <td>40697.964020</td>\n",
       "    </tr>\n",
       "    <tr>\n",
       "      <th>5</th>\n",
       "      <td>United Arab Emirates</td>\n",
       "      <td>38663.383807</td>\n",
       "      <td>38141.846759</td>\n",
       "      <td>39811.634702</td>\n",
       "      <td>43004.953358</td>\n",
       "      <td>39905.454656</td>\n",
       "    </tr>\n",
       "    <tr>\n",
       "      <th>93</th>\n",
       "      <td>Israel</td>\n",
       "      <td>35776.795171</td>\n",
       "      <td>37321.624037</td>\n",
       "      <td>40541.862091</td>\n",
       "      <td>41715.029284</td>\n",
       "      <td>38838.827646</td>\n",
       "    </tr>\n",
       "    <tr>\n",
       "      <th>4</th>\n",
       "      <td>Andorra</td>\n",
       "      <td>36039.653496</td>\n",
       "      <td>37224.108916</td>\n",
       "      <td>39134.393371</td>\n",
       "      <td>42029.762737</td>\n",
       "      <td>38606.979630</td>\n",
       "    </tr>\n",
       "    <tr>\n",
       "      <th>64</th>\n",
       "      <td>France</td>\n",
       "      <td>36613.375216</td>\n",
       "      <td>36962.222290</td>\n",
       "      <td>38679.127148</td>\n",
       "      <td>41463.644023</td>\n",
       "      <td>38429.592169</td>\n",
       "    </tr>\n",
       "    <tr>\n",
       "      <th>...</th>\n",
       "      <td>...</td>\n",
       "      <td>...</td>\n",
       "      <td>...</td>\n",
       "      <td>...</td>\n",
       "      <td>...</td>\n",
       "      <td>...</td>\n",
       "    </tr>\n",
       "    <tr>\n",
       "      <th>100</th>\n",
       "      <td>Kyrgyz Republic</td>\n",
       "      <td>1121.082835</td>\n",
       "      <td>1120.666513</td>\n",
       "      <td>1242.769643</td>\n",
       "      <td>1281.363661</td>\n",
       "      <td>1191.470663</td>\n",
       "    </tr>\n",
       "    <tr>\n",
       "      <th>112</th>\n",
       "      <td>Lesotho</td>\n",
       "      <td>1112.081441</td>\n",
       "      <td>1115.336075</td>\n",
       "      <td>1226.612630</td>\n",
       "      <td>1299.153126</td>\n",
       "      <td>1188.295818</td>\n",
       "    </tr>\n",
       "    <tr>\n",
       "      <th>213</th>\n",
       "      <td>Yemen, Rep.</td>\n",
       "      <td>1608.744312</td>\n",
       "      <td>1139.870568</td>\n",
       "      <td>963.494721</td>\n",
       "      <td>944.408499</td>\n",
       "      <td>1164.129525</td>\n",
       "    </tr>\n",
       "    <tr>\n",
       "      <th>133</th>\n",
       "      <td>Mauritania</td>\n",
       "      <td>1193.400596</td>\n",
       "      <td>1123.888166</td>\n",
       "      <td>1145.547947</td>\n",
       "      <td>1188.834588</td>\n",
       "      <td>1162.917824</td>\n",
       "    </tr>\n",
       "    <tr>\n",
       "      <th>198</th>\n",
       "      <td>Tanzania</td>\n",
       "      <td>947.933446</td>\n",
       "      <td>966.474622</td>\n",
       "      <td>1004.841121</td>\n",
       "      <td>1050.675254</td>\n",
       "      <td>992.481111</td>\n",
       "    </tr>\n",
       "    <tr>\n",
       "      <th>144</th>\n",
       "      <td>Nepal</td>\n",
       "      <td>792.552891</td>\n",
       "      <td>777.147596</td>\n",
       "      <td>911.444267</td>\n",
       "      <td>1033.912431</td>\n",
       "      <td>878.764296</td>\n",
       "    </tr>\n",
       "    <tr>\n",
       "      <th>189</th>\n",
       "      <td>Tajikistan</td>\n",
       "      <td>929.095857</td>\n",
       "      <td>802.518004</td>\n",
       "      <td>806.041573</td>\n",
       "      <td>826.621531</td>\n",
       "      <td>841.069241</td>\n",
       "    </tr>\n",
       "    <tr>\n",
       "      <th>15</th>\n",
       "      <td>Benin</td>\n",
       "      <td>784.278407</td>\n",
       "      <td>789.084915</td>\n",
       "      <td>829.478803</td>\n",
       "      <td>901.543871</td>\n",
       "      <td>826.096499</td>\n",
       "    </tr>\n",
       "    <tr>\n",
       "      <th>126</th>\n",
       "      <td>Mali</td>\n",
       "      <td>751.170594</td>\n",
       "      <td>779.874933</td>\n",
       "      <td>828.511976</td>\n",
       "      <td>899.659908</td>\n",
       "      <td>814.804353</td>\n",
       "    </tr>\n",
       "    <tr>\n",
       "      <th>72</th>\n",
       "      <td>Guinea</td>\n",
       "      <td>769.256014</td>\n",
       "      <td>732.962173</td>\n",
       "      <td>855.573640</td>\n",
       "      <td>878.599613</td>\n",
       "      <td>809.097860</td>\n",
       "    </tr>\n",
       "    <tr>\n",
       "      <th>84</th>\n",
       "      <td>Haiti</td>\n",
       "      <td>815.728284</td>\n",
       "      <td>735.301770</td>\n",
       "      <td>765.727294</td>\n",
       "      <td>868.342025</td>\n",
       "      <td>796.274843</td>\n",
       "    </tr>\n",
       "    <tr>\n",
       "      <th>164</th>\n",
       "      <td>Rwanda</td>\n",
       "      <td>728.081879</td>\n",
       "      <td>726.347974</td>\n",
       "      <td>762.914375</td>\n",
       "      <td>772.944460</td>\n",
       "      <td>747.572172</td>\n",
       "    </tr>\n",
       "    <tr>\n",
       "      <th>61</th>\n",
       "      <td>Ethiopia</td>\n",
       "      <td>640.541891</td>\n",
       "      <td>717.124593</td>\n",
       "      <td>768.425026</td>\n",
       "      <td>772.313530</td>\n",
       "      <td>724.601260</td>\n",
       "    </tr>\n",
       "    <tr>\n",
       "      <th>186</th>\n",
       "      <td>Chad</td>\n",
       "      <td>775.707524</td>\n",
       "      <td>692.978596</td>\n",
       "      <td>664.303316</td>\n",
       "      <td>728.343235</td>\n",
       "      <td>715.333168</td>\n",
       "    </tr>\n",
       "    <tr>\n",
       "      <th>108</th>\n",
       "      <td>Liberia</td>\n",
       "      <td>710.383858</td>\n",
       "      <td>714.623392</td>\n",
       "      <td>698.701764</td>\n",
       "      <td>677.322179</td>\n",
       "      <td>700.257798</td>\n",
       "    </tr>\n",
       "    <tr>\n",
       "      <th>73</th>\n",
       "      <td>Gambia, The</td>\n",
       "      <td>660.723571</td>\n",
       "      <td>682.718020</td>\n",
       "      <td>679.777333</td>\n",
       "      <td>716.118489</td>\n",
       "      <td>684.834353</td>\n",
       "    </tr>\n",
       "    <tr>\n",
       "      <th>74</th>\n",
       "      <td>Guinea-Bissau</td>\n",
       "      <td>603.158513</td>\n",
       "      <td>661.007655</td>\n",
       "      <td>736.725566</td>\n",
       "      <td>NaN</td>\n",
       "      <td>666.963911</td>\n",
       "    </tr>\n",
       "    <tr>\n",
       "      <th>199</th>\n",
       "      <td>Uganda</td>\n",
       "      <td>709.021039</td>\n",
       "      <td>608.705735</td>\n",
       "      <td>631.522720</td>\n",
       "      <td>642.776744</td>\n",
       "      <td>648.006559</td>\n",
       "    </tr>\n",
       "    <tr>\n",
       "      <th>16</th>\n",
       "      <td>Burkina Faso</td>\n",
       "      <td>575.314454</td>\n",
       "      <td>582.795444</td>\n",
       "      <td>642.429839</td>\n",
       "      <td>715.122904</td>\n",
       "      <td>628.915660</td>\n",
       "    </tr>\n",
       "    <tr>\n",
       "      <th>187</th>\n",
       "      <td>Togo</td>\n",
       "      <td>570.680737</td>\n",
       "      <td>597.065459</td>\n",
       "      <td>624.544946</td>\n",
       "      <td>679.257084</td>\n",
       "      <td>617.887056</td>\n",
       "    </tr>\n",
       "    <tr>\n",
       "      <th>1</th>\n",
       "      <td>Afghanistan</td>\n",
       "      <td>578.466353</td>\n",
       "      <td>547.228110</td>\n",
       "      <td>556.302139</td>\n",
       "      <td>520.896603</td>\n",
       "      <td>550.723301</td>\n",
       "    </tr>\n",
       "    <tr>\n",
       "      <th>170</th>\n",
       "      <td>Sierra Leone</td>\n",
       "      <td>588.228453</td>\n",
       "      <td>501.415713</td>\n",
       "      <td>499.380708</td>\n",
       "      <td>533.991184</td>\n",
       "      <td>530.754014</td>\n",
       "    </tr>\n",
       "    <tr>\n",
       "      <th>39</th>\n",
       "      <td>Congo, Dem. Rep.</td>\n",
       "      <td>497.316961</td>\n",
       "      <td>471.318840</td>\n",
       "      <td>467.074237</td>\n",
       "      <td>561.777182</td>\n",
       "      <td>499.371805</td>\n",
       "    </tr>\n",
       "    <tr>\n",
       "      <th>121</th>\n",
       "      <td>Madagascar</td>\n",
       "      <td>467.235277</td>\n",
       "      <td>475.955366</td>\n",
       "      <td>515.292739</td>\n",
       "      <td>527.501285</td>\n",
       "      <td>496.496167</td>\n",
       "    </tr>\n",
       "    <tr>\n",
       "      <th>132</th>\n",
       "      <td>Mozambique</td>\n",
       "      <td>589.859028</td>\n",
       "      <td>428.926488</td>\n",
       "      <td>461.415094</td>\n",
       "      <td>498.957220</td>\n",
       "      <td>494.789458</td>\n",
       "    </tr>\n",
       "    <tr>\n",
       "      <th>31</th>\n",
       "      <td>Central African Republic</td>\n",
       "      <td>377.271254</td>\n",
       "      <td>401.918238</td>\n",
       "      <td>449.786424</td>\n",
       "      <td>475.721251</td>\n",
       "      <td>426.174292</td>\n",
       "    </tr>\n",
       "    <tr>\n",
       "      <th>139</th>\n",
       "      <td>Niger</td>\n",
       "      <td>360.853384</td>\n",
       "      <td>362.131132</td>\n",
       "      <td>375.869490</td>\n",
       "      <td>413.980305</td>\n",
       "      <td>378.208578</td>\n",
       "    </tr>\n",
       "    <tr>\n",
       "      <th>135</th>\n",
       "      <td>Malawi</td>\n",
       "      <td>380.597033</td>\n",
       "      <td>315.777326</td>\n",
       "      <td>356.717573</td>\n",
       "      <td>389.398033</td>\n",
       "      <td>360.622491</td>\n",
       "    </tr>\n",
       "    <tr>\n",
       "      <th>173</th>\n",
       "      <td>Somalia</td>\n",
       "      <td>293.455236</td>\n",
       "      <td>295.967852</td>\n",
       "      <td>309.055355</td>\n",
       "      <td>314.544166</td>\n",
       "      <td>303.255652</td>\n",
       "    </tr>\n",
       "    <tr>\n",
       "      <th>13</th>\n",
       "      <td>Burundi</td>\n",
       "      <td>305.549773</td>\n",
       "      <td>282.193130</td>\n",
       "      <td>292.997631</td>\n",
       "      <td>271.752044</td>\n",
       "      <td>288.123145</td>\n",
       "    </tr>\n",
       "  </tbody>\n",
       "</table>\n",
       "<p>204 rows × 6 columns</p>\n",
       "</div>"
      ],
      "text/plain": [
       "                 Country Name           2015           2016           2017  \\\n",
       "119                    Monaco  165937.865343  169915.804840  167101.759377   \n",
       "114                Luxembourg  101376.496574  104278.390972  107361.306947   \n",
       "33                Switzerland   82081.609206   80172.193304   80450.045820   \n",
       "87                Isle of Man   81606.280033   79155.541672   80989.172211   \n",
       "116          Macao SAR, China   75340.986981   74061.086035   81516.674925   \n",
       "47             Cayman Islands   76280.486253   78296.099927   81124.513479   \n",
       "143                    Norway   74355.515858   70460.560532   75496.754058   \n",
       "89                    Ireland   61995.422779   63197.082374   69649.882740   \n",
       "92                    Iceland   52428.595763   61757.949306   71314.774196   \n",
       "161                     Qatar   63039.016555   57163.060992   61264.396478   \n",
       "202             United States   56803.472433   57904.201961   59927.929834   \n",
       "168                 Singapore   55646.618747   56724.170386   60297.793781   \n",
       "53                    Denmark   53254.856004   54663.998372   57141.059835   \n",
       "10                  Australia   56755.721712   49971.131456   54066.471269   \n",
       "65              Faroe Islands   52404.659333   55822.914720            NaN   \n",
       "180                    Sweden   51397.191756   51974.196555   53744.429032   \n",
       "142               Netherlands   45175.231893   46007.852921   48554.992276   \n",
       "11                    Austria   44178.047378   45237.805092   47431.630608   \n",
       "172                San Marino   45774.587890   46692.351092   48494.551411   \n",
       "78                  Greenland   44536.401308   48181.874188            NaN   \n",
       "62                    Finland   42811.212994   43777.440089   46191.931156   \n",
       "32                     Canada   43495.054387   42279.900823   45069.927254   \n",
       "50                    Germany   41139.544569   42098.920445   44240.044110   \n",
       "14                    Belgium   40991.808138   42012.099900   44219.561996   \n",
       "68             United Kingdom   44966.101925   41074.167280   40361.417383   \n",
       "146               New Zealand   38559.547038   40026.852196   42260.125177   \n",
       "5        United Arab Emirates   38663.383807   38141.846759   39811.634702   \n",
       "93                     Israel   35776.795171   37321.624037   40541.862091   \n",
       "4                     Andorra   36039.653496   37224.108916   39134.393371   \n",
       "64                     France   36613.375216   36962.222290   38679.127148   \n",
       "..                        ...            ...            ...            ...   \n",
       "100           Kyrgyz Republic    1121.082835    1120.666513    1242.769643   \n",
       "112                   Lesotho    1112.081441    1115.336075    1226.612630   \n",
       "213               Yemen, Rep.    1608.744312    1139.870568     963.494721   \n",
       "133                Mauritania    1193.400596    1123.888166    1145.547947   \n",
       "198                  Tanzania     947.933446     966.474622    1004.841121   \n",
       "144                     Nepal     792.552891     777.147596     911.444267   \n",
       "189                Tajikistan     929.095857     802.518004     806.041573   \n",
       "15                      Benin     784.278407     789.084915     829.478803   \n",
       "126                      Mali     751.170594     779.874933     828.511976   \n",
       "72                     Guinea     769.256014     732.962173     855.573640   \n",
       "84                      Haiti     815.728284     735.301770     765.727294   \n",
       "164                    Rwanda     728.081879     726.347974     762.914375   \n",
       "61                   Ethiopia     640.541891     717.124593     768.425026   \n",
       "186                      Chad     775.707524     692.978596     664.303316   \n",
       "108                   Liberia     710.383858     714.623392     698.701764   \n",
       "73                Gambia, The     660.723571     682.718020     679.777333   \n",
       "74              Guinea-Bissau     603.158513     661.007655     736.725566   \n",
       "199                    Uganda     709.021039     608.705735     631.522720   \n",
       "16               Burkina Faso     575.314454     582.795444     642.429839   \n",
       "187                      Togo     570.680737     597.065459     624.544946   \n",
       "1                 Afghanistan     578.466353     547.228110     556.302139   \n",
       "170              Sierra Leone     588.228453     501.415713     499.380708   \n",
       "39           Congo, Dem. Rep.     497.316961     471.318840     467.074237   \n",
       "121                Madagascar     467.235277     475.955366     515.292739   \n",
       "132                Mozambique     589.859028     428.926488     461.415094   \n",
       "31   Central African Republic     377.271254     401.918238     449.786424   \n",
       "139                     Niger     360.853384     362.131132     375.869490   \n",
       "135                    Malawi     380.597033     315.777326     356.717573   \n",
       "173                   Somalia     293.455236     295.967852     309.055355   \n",
       "13                    Burundi     305.549773     282.193130     292.997631   \n",
       "\n",
       "              2018        average  \n",
       "119  185741.279992  172174.177388  \n",
       "114  116639.888047  107414.020635  \n",
       "33    82796.547163   81375.098873  \n",
       "87             NaN   80583.664639  \n",
       "116   87208.535913   79531.820963  \n",
       "47             NaN   78567.033220  \n",
       "143   81697.245984   75502.519108  \n",
       "89    78806.431996   68412.204972  \n",
       "92    73191.116315   64673.108895  \n",
       "161   68793.784437   62565.064615  \n",
       "202   62794.585652   59357.547470  \n",
       "168   64581.944018   59312.631733  \n",
       "53    61350.347909   56602.565530  \n",
       "10    57373.686684   54541.752780  \n",
       "65             NaN   54113.787027  \n",
       "180   54608.360255   52931.044400  \n",
       "142   53024.059213   48190.534076  \n",
       "11    51461.954780   47077.359464  \n",
       "172            NaN   46987.163464  \n",
       "78             NaN   46359.137748  \n",
       "62    50152.340141   45733.231095  \n",
       "32    46232.989623   44269.468022  \n",
       "50    47603.027633   43770.384189  \n",
       "14    47518.636039   43685.526518  \n",
       "68    42943.902270   42336.397214  \n",
       "146   41945.331669   40697.964020  \n",
       "5     43004.953358   39905.454656  \n",
       "93    41715.029284   38838.827646  \n",
       "4     42029.762737   38606.979630  \n",
       "64    41463.644023   38429.592169  \n",
       "..             ...            ...  \n",
       "100    1281.363661    1191.470663  \n",
       "112    1299.153126    1188.295818  \n",
       "213     944.408499    1164.129525  \n",
       "133    1188.834588    1162.917824  \n",
       "198    1050.675254     992.481111  \n",
       "144    1033.912431     878.764296  \n",
       "189     826.621531     841.069241  \n",
       "15      901.543871     826.096499  \n",
       "126     899.659908     814.804353  \n",
       "72      878.599613     809.097860  \n",
       "84      868.342025     796.274843  \n",
       "164     772.944460     747.572172  \n",
       "61      772.313530     724.601260  \n",
       "186     728.343235     715.333168  \n",
       "108     677.322179     700.257798  \n",
       "73      716.118489     684.834353  \n",
       "74             NaN     666.963911  \n",
       "199     642.776744     648.006559  \n",
       "16      715.122904     628.915660  \n",
       "187     679.257084     617.887056  \n",
       "1       520.896603     550.723301  \n",
       "170     533.991184     530.754014  \n",
       "39      561.777182     499.371805  \n",
       "121     527.501285     496.496167  \n",
       "132     498.957220     494.789458  \n",
       "31      475.721251     426.174292  \n",
       "139     413.980305     378.208578  \n",
       "135     389.398033     360.622491  \n",
       "173     314.544166     303.255652  \n",
       "13      271.752044     288.123145  \n",
       "\n",
       "[204 rows x 6 columns]"
      ]
     },
     "execution_count": 30,
     "metadata": {},
     "output_type": "execute_result"
    }
   ],
   "source": [
    "gdp['average'] = gdp.iloc[:, 1:].astype(float).mean(axis=1)\n",
    "gdp.sort_values('average', ascending=False)"
   ]
  },
  {
   "cell_type": "code",
   "execution_count": 31,
   "metadata": {},
   "outputs": [],
   "source": [
    "#Remove Monaco from dataset because it is an outlier and does not show up on a map\n",
    "gdp = gdp.loc[gdp['Country Name']!='Monaco']"
   ]
  },
  {
   "cell_type": "code",
   "execution_count": 32,
   "metadata": {},
   "outputs": [],
   "source": [
    "#Luxembourg is another outlier that is difficult to visualize on a map\n",
    "gdp = gdp.loc[gdp['Country Name']!='Luxembourg']"
   ]
  },
  {
   "cell_type": "code",
   "execution_count": 33,
   "metadata": {},
   "outputs": [],
   "source": [
    "# Read in world happiness report to merge with gdp datase\n",
    "whr15 = pd.read_csv('C:/Users/valer/Desktop/Capstone/World_Happiness_Report/data/2015.csv')"
   ]
  },
  {
   "cell_type": "code",
   "execution_count": 34,
   "metadata": {},
   "outputs": [],
   "source": [
    "#Rename columns to be able to merge datasets\n",
    "gdp = gdp.rename(columns={'Country Name' : 'Country'})"
   ]
  },
  {
   "cell_type": "code",
   "execution_count": 35,
   "metadata": {
    "scrolled": true
   },
   "outputs": [
    {
     "data": {
      "text/html": [
       "<div>\n",
       "<style scoped>\n",
       "    .dataframe tbody tr th:only-of-type {\n",
       "        vertical-align: middle;\n",
       "    }\n",
       "\n",
       "    .dataframe tbody tr th {\n",
       "        vertical-align: top;\n",
       "    }\n",
       "\n",
       "    .dataframe thead th {\n",
       "        text-align: right;\n",
       "    }\n",
       "</style>\n",
       "<table border=\"1\" class=\"dataframe\">\n",
       "  <thead>\n",
       "    <tr style=\"text-align: right;\">\n",
       "      <th></th>\n",
       "      <th>Country</th>\n",
       "      <th>2015</th>\n",
       "      <th>2016</th>\n",
       "      <th>2017</th>\n",
       "      <th>2018</th>\n",
       "      <th>average</th>\n",
       "      <th>Region</th>\n",
       "      <th>Happiness Rank</th>\n",
       "      <th>Happiness Score</th>\n",
       "      <th>Standard Error</th>\n",
       "      <th>Economy (GDP per Capita)</th>\n",
       "      <th>Family</th>\n",
       "      <th>Health (Life Expectancy)</th>\n",
       "      <th>Freedom</th>\n",
       "      <th>Trust (Government Corruption)</th>\n",
       "      <th>Generosity</th>\n",
       "      <th>Dystopia Residual</th>\n",
       "    </tr>\n",
       "  </thead>\n",
       "  <tbody>\n",
       "    <tr>\n",
       "      <th>0</th>\n",
       "      <td>Afghanistan</td>\n",
       "      <td>578.466353</td>\n",
       "      <td>547.228110</td>\n",
       "      <td>556.302139</td>\n",
       "      <td>520.896603</td>\n",
       "      <td>550.723301</td>\n",
       "      <td>Southern Asia</td>\n",
       "      <td>153</td>\n",
       "      <td>3.575</td>\n",
       "      <td>0.03084</td>\n",
       "      <td>0.31982</td>\n",
       "      <td>0.30285</td>\n",
       "      <td>0.30335</td>\n",
       "      <td>0.23414</td>\n",
       "      <td>0.09719</td>\n",
       "      <td>0.36510</td>\n",
       "      <td>1.95210</td>\n",
       "    </tr>\n",
       "    <tr>\n",
       "      <th>1</th>\n",
       "      <td>Angola</td>\n",
       "      <td>4166.979684</td>\n",
       "      <td>3506.072885</td>\n",
       "      <td>4095.812942</td>\n",
       "      <td>3432.385736</td>\n",
       "      <td>3800.312812</td>\n",
       "      <td>Sub-Saharan Africa</td>\n",
       "      <td>137</td>\n",
       "      <td>4.033</td>\n",
       "      <td>0.04758</td>\n",
       "      <td>0.75778</td>\n",
       "      <td>0.86040</td>\n",
       "      <td>0.16683</td>\n",
       "      <td>0.10384</td>\n",
       "      <td>0.07122</td>\n",
       "      <td>0.12344</td>\n",
       "      <td>1.94939</td>\n",
       "    </tr>\n",
       "    <tr>\n",
       "      <th>2</th>\n",
       "      <td>Albania</td>\n",
       "      <td>3952.829458</td>\n",
       "      <td>4124.108907</td>\n",
       "      <td>4532.890162</td>\n",
       "      <td>5268.848504</td>\n",
       "      <td>4469.669258</td>\n",
       "      <td>Central and Eastern Europe</td>\n",
       "      <td>95</td>\n",
       "      <td>4.959</td>\n",
       "      <td>0.05013</td>\n",
       "      <td>0.87867</td>\n",
       "      <td>0.80434</td>\n",
       "      <td>0.81325</td>\n",
       "      <td>0.35733</td>\n",
       "      <td>0.06413</td>\n",
       "      <td>0.14272</td>\n",
       "      <td>1.89894</td>\n",
       "    </tr>\n",
       "    <tr>\n",
       "      <th>3</th>\n",
       "      <td>United Arab Emirates</td>\n",
       "      <td>38663.383807</td>\n",
       "      <td>38141.846759</td>\n",
       "      <td>39811.634702</td>\n",
       "      <td>43004.953358</td>\n",
       "      <td>39905.454656</td>\n",
       "      <td>Middle East and Northern Africa</td>\n",
       "      <td>20</td>\n",
       "      <td>6.901</td>\n",
       "      <td>0.03729</td>\n",
       "      <td>1.42727</td>\n",
       "      <td>1.12575</td>\n",
       "      <td>0.80925</td>\n",
       "      <td>0.64157</td>\n",
       "      <td>0.38583</td>\n",
       "      <td>0.26428</td>\n",
       "      <td>2.24743</td>\n",
       "    </tr>\n",
       "    <tr>\n",
       "      <th>4</th>\n",
       "      <td>Argentina</td>\n",
       "      <td>13789.060425</td>\n",
       "      <td>12790.242473</td>\n",
       "      <td>14591.863381</td>\n",
       "      <td>11683.949622</td>\n",
       "      <td>13213.778975</td>\n",
       "      <td>Latin America and Caribbean</td>\n",
       "      <td>30</td>\n",
       "      <td>6.574</td>\n",
       "      <td>0.04612</td>\n",
       "      <td>1.05351</td>\n",
       "      <td>1.24823</td>\n",
       "      <td>0.78723</td>\n",
       "      <td>0.44974</td>\n",
       "      <td>0.08484</td>\n",
       "      <td>0.11451</td>\n",
       "      <td>2.83600</td>\n",
       "    </tr>\n",
       "  </tbody>\n",
       "</table>\n",
       "</div>"
      ],
      "text/plain": [
       "                Country          2015          2016          2017  \\\n",
       "0           Afghanistan    578.466353    547.228110    556.302139   \n",
       "1                Angola   4166.979684   3506.072885   4095.812942   \n",
       "2               Albania   3952.829458   4124.108907   4532.890162   \n",
       "3  United Arab Emirates  38663.383807  38141.846759  39811.634702   \n",
       "4             Argentina  13789.060425  12790.242473  14591.863381   \n",
       "\n",
       "           2018       average                           Region  \\\n",
       "0    520.896603    550.723301                    Southern Asia   \n",
       "1   3432.385736   3800.312812               Sub-Saharan Africa   \n",
       "2   5268.848504   4469.669258       Central and Eastern Europe   \n",
       "3  43004.953358  39905.454656  Middle East and Northern Africa   \n",
       "4  11683.949622  13213.778975      Latin America and Caribbean   \n",
       "\n",
       "   Happiness Rank  Happiness Score  Standard Error  Economy (GDP per Capita)  \\\n",
       "0             153            3.575         0.03084                   0.31982   \n",
       "1             137            4.033         0.04758                   0.75778   \n",
       "2              95            4.959         0.05013                   0.87867   \n",
       "3              20            6.901         0.03729                   1.42727   \n",
       "4              30            6.574         0.04612                   1.05351   \n",
       "\n",
       "    Family  Health (Life Expectancy)  Freedom  Trust (Government Corruption)  \\\n",
       "0  0.30285                   0.30335  0.23414                        0.09719   \n",
       "1  0.86040                   0.16683  0.10384                        0.07122   \n",
       "2  0.80434                   0.81325  0.35733                        0.06413   \n",
       "3  1.12575                   0.80925  0.64157                        0.38583   \n",
       "4  1.24823                   0.78723  0.44974                        0.08484   \n",
       "\n",
       "   Generosity  Dystopia Residual  \n",
       "0     0.36510            1.95210  \n",
       "1     0.12344            1.94939  \n",
       "2     0.14272            1.89894  \n",
       "3     0.26428            2.24743  \n",
       "4     0.11451            2.83600  "
      ]
     },
     "execution_count": 35,
     "metadata": {},
     "output_type": "execute_result"
    }
   ],
   "source": [
    "#Merge gdp and WHR\n",
    "gdp_whr15 = gdp.merge(whr15, on='Country', how='inner')\n",
    "gdp_whr15.head()"
   ]
  },
  {
   "cell_type": "markdown",
   "metadata": {},
   "source": [
    "### Ascribe rank to the average GDP and dystopia levels"
   ]
  },
  {
   "cell_type": "code",
   "execution_count": 36,
   "metadata": {},
   "outputs": [],
   "source": [
    "gdp_whr15['rank'] = gdp_whr15.average.rank(ascending=0).astype(int)"
   ]
  },
  {
   "cell_type": "code",
   "execution_count": 37,
   "metadata": {},
   "outputs": [],
   "source": [
    "gdp_whr15['dystopia_rank'] = gdp_whr15['Dystopia Residual'].rank(ascending=False)"
   ]
  },
  {
   "cell_type": "markdown",
   "metadata": {},
   "source": [
    "### GDP per capita vs Happiness Rank - positive correlation observed"
   ]
  },
  {
   "cell_type": "code",
   "execution_count": 38,
   "metadata": {
    "scrolled": true
   },
   "outputs": [
    {
     "data": {
      "text/plain": [
       "Text(0.5, 1.0, 'GDP per Capita vs Happiness Rank')"
      ]
     },
     "execution_count": 38,
     "metadata": {},
     "output_type": "execute_result"
    },
    {
     "data": {
      "image/png": "[encoded data removed]",
      "text/plain": [
       "<Figure size 864x576 with 1 Axes>"
      ]
     },
     "metadata": {
      "needs_background": "light"
     },
     "output_type": "display_data"
    }
   ],
   "source": [
    "plt.figure(figsize=(12,8))\n",
    "sns.scatterplot(data=gdp_whr15, x='Happiness Rank', y='rank', hue='Country', legend=False)\n",
    "plt.xlabel('Happiness Rank', fontsize=12)\n",
    "plt.ylabel('GDP per Capita Rank', fontsize=12)\n",
    "plt.title('GDP per Capita vs Happiness Rank')"
   ]
  },
  {
   "cell_type": "code",
   "execution_count": 39,
   "metadata": {},
   "outputs": [
    {
     "name": "stdout",
     "output_type": "stream",
     "text": [
      "0.812159675046509\n"
     ]
    }
   ],
   "source": [
    "# Get Pearson correlation coefficient\n",
    "def pearson_r(x,y):\n",
    "    corr_mat = np.corrcoef(x,y)\n",
    "    return corr_mat[1,0]\n",
    "r=pearson_r(gdp_whr15['Happiness Rank'], gdp_whr15['rank'])\n",
    "print(r)"
   ]
  },
  {
   "cell_type": "markdown",
   "metadata": {},
   "source": [
    "### Plot GDP per capita vs dystopia - no correlation "
   ]
  },
  {
   "cell_type": "code",
   "execution_count": 40,
   "metadata": {},
   "outputs": [
    {
     "data": {
      "text/plain": [
       "Text(0.5, 1.0, 'GDP per Capita vs Dystopia Rank')"
      ]
     },
     "execution_count": 40,
     "metadata": {},
     "output_type": "execute_result"
    },
    {
     "data": {
      "image/png": "[encoded data removed]",
      "text/plain": [
       "<Figure size 864x576 with 1 Axes>"
      ]
     },
     "metadata": {
      "needs_background": "light"
     },
     "output_type": "display_data"
    }
   ],
   "source": [
    "plt.figure(figsize=(12,8))\n",
    "sns.scatterplot(data=gdp_whr15, x='dystopia_rank', y='rank', hue='Country', legend=False)\n",
    "plt.xlabel('Dystopia Rank', fontsize=12)\n",
    "plt.ylabel('GDP per Capita Rank', fontsize=12)\n",
    "plt.title('GDP per Capita vs Dystopia Rank', fontsize=14)"
   ]
  },
  {
   "cell_type": "code",
   "execution_count": 41,
   "metadata": {},
   "outputs": [
    {
     "data": {
      "text/plain": [
       "14573.745969566327"
      ]
     },
     "execution_count": 41,
     "metadata": {},
     "output_type": "execute_result"
    }
   ],
   "source": [
    "# World avg GDP per capita\n",
    "gdp.average.mean()"
   ]
  },
  {
   "cell_type": "markdown",
   "metadata": {},
   "source": [
    "### Subset dataframe to only include the happiest and least happiest countries (gdp_top & gdp_bottom, respectively)"
   ]
  },
  {
   "cell_type": "code",
   "execution_count": 42,
   "metadata": {},
   "outputs": [],
   "source": [
    "top_countries = ('Denmark', 'Switzerland', 'Iceland', 'Norway', 'Finland', 'Canada', 'Netherlands', 'New Zealand', \n",
    "'Australia', 'Sweden', 'Austria')\n",
    "\n",
    "gdp_top = gdp.loc[gdp['Country'].isin(top_countries)]"
   ]
  },
  {
   "cell_type": "code",
   "execution_count": 43,
   "metadata": {},
   "outputs": [
    {
     "data": {
      "text/plain": [
       "(array([ 0,  1,  2,  3,  4,  5,  6,  7,  8,  9, 10]),\n",
       " <a list of 11 Text xticklabel objects>)"
      ]
     },
     "execution_count": 43,
     "metadata": {},
     "output_type": "execute_result"
    },
    {
     "data": {
      "image/png": "[encoded data removed]",
      "text/plain": [
       "<Figure size 864x576 with 1 Axes>"
      ]
     },
     "metadata": {
      "needs_background": "light"
     },
     "output_type": "display_data"
    }
   ],
   "source": [
    "gdp_top.plot(kind='bar', x='Country', y='average', color='c', figsize=(12,8))\n",
    "plt.axhline(y=15801, color='black', linestyle='--')\n",
    "\n",
    "plt.legend(labels=('World Avg.', 'GDP per Capita Avg.'))\n",
    "plt.xlabel('')\n",
    "plt.ylabel('GDP per Capita (USD)', fontsize=12)\n",
    "plt.title('GDP per Capita of Happiest Countries', fontsize=16)\n",
    "plt.xticks(rotation=0)"
   ]
  },
  {
   "cell_type": "code",
   "execution_count": 44,
   "metadata": {},
   "outputs": [],
   "source": [
    "bottom_countries = ('Togo', 'Burundi', 'Syria', 'Benin', 'Rwanda', 'Afghanistan', 'Burkina Faso', 'Ivory Coast', 'Guinea',\n",
    "'Chad', 'Liberia', 'Tanzania', 'Madagascar', 'Central African Republic', 'South Sudan', 'Yemen', 'Haiti', 'Malawi', 'Botswana')\n",
    "\n",
    "gdp_bottom = gdp.loc[gdp['Country'].isin(bottom_countries)]"
   ]
  },
  {
   "cell_type": "code",
   "execution_count": 45,
   "metadata": {
    "scrolled": true
   },
   "outputs": [
    {
     "data": {
      "text/plain": [
       "Text(0.5, 1.0, 'GDP per Capita of Least Happiest Countries')"
      ]
     },
     "execution_count": 45,
     "metadata": {},
     "output_type": "execute_result"
    },
    {
     "data": {
      "image/png": "[encoded data removed]",
      "text/plain": [
       "<Figure size 864x576 with 1 Axes>"
      ]
     },
     "metadata": {
      "needs_background": "light"
     },
     "output_type": "display_data"
    }
   ],
   "source": [
    "gdp_bottom.plot(kind='bar', x='Country', y='average', color='c', figsize=(12,8))\n",
    "plt.axhline(y=15801, color='black', linestyle='--')\n",
    "plt.legend(labels=('World Avg.', 'GDP per Capita Avg.'))\n",
    "plt.xlabel('')\n",
    "plt.ylabel('GDP per Capita (USD)', fontsize=12)\n",
    "plt.title('GDP per Capita of Least Happiest Countries', fontsize=16)\n"
   ]
  },
  {
   "cell_type": "markdown",
   "metadata": {},
   "source": [
    "### World map of average GDP per capita"
   ]
  },
  {
   "cell_type": "code",
   "execution_count": 46,
   "metadata": {},
   "outputs": [
    {
     "data": {
      "application/vnd.plotly.v1+json": {
       "config": {
        "linkText": "Export to plot.ly",
        "plotlyServerURL": "https://plot.ly",
        "showLink": false
       },
       "data": [
        {
         "colorbar": {
          "title": {
           "text": "GDP per Capita"
          }
         },
         "colorscale": [
          [
           0,
           "rgb(158,1,66)"
          ],
          [
           0.1,
           "rgb(213,62,79)"
          ],
          [
           0.2,
           "rgb(244,109,67)"
          ],
          [
           0.3,
           "rgb(253,174,97)"
          ],
          [
           0.4,
           "rgb(254,224,139)"
          ],
          [
           0.5,
           "rgb(255,255,191)"
          ],
          [
           0.6,
           "rgb(230,245,152)"
          ],
          [
           0.7,
           "rgb(171,221,164)"
          ],
          [
           0.8,
           "rgb(102,194,165)"
          ],
          [
           0.9,
           "rgb(50,136,189)"
          ],
          [
           1,
           "rgb(94,79,162)"
          ]
         ],
         "locationmode": "country names",
         "locations": [
          "Afghanistan",
          "Angola",
          "Albania",
          "United Arab Emirates",
          "Argentina",
          "Armenia",
          "Australia",
          "Austria",
          "Azerbaijan",
          "Burundi",
          "Belgium",
          "Benin",
          "Burkina Faso",
          "Bangladesh",
          "Bulgaria",
          "Bahrain",
          "Bosnia and Herzegovina",
          "Belarus",
          "Bolivia",
          "Brazil",
          "Bhutan",
          "Botswana",
          "Central African Republic",
          "Canada",
          "Switzerland",
          "Chile",
          "China",
          "Ivory Coast",
          "Cameroon",
          "Colombia",
          "Comoros",
          "Costa Rica",
          "Cyprus",
          "Czech Republic",
          "Germany",
          "Djibouti",
          "Denmark",
          "Dominican Republic",
          "Algeria",
          "Ecuador",
          "Egypt",
          "Spain",
          "Estonia",
          "Ethiopia",
          "Finland",
          "France",
          "Gabon",
          "United Kingdom",
          "Georgia",
          "Ghana",
          "Guinea",
          "Guinea",
          "Greece",
          "Guatemala",
          "Honduras",
          "Croatia",
          "Haiti",
          "Hungary",
          "Indonesia",
          "India",
          "Ireland",
          "Iran",
          "Iraq",
          "Iceland",
          "Israel",
          "Italy",
          "Jamaica",
          "Jordan",
          "Japan",
          "Kazakhstan",
          "Kenya",
          "Cambodia",
          "Kuwait",
          "Lebanon",
          "Liberia",
          "Libya",
          "Sri Lanka",
          "Lesotho",
          "Lithuania",
          "Latvia",
          "Morocco",
          "Moldova",
          "Madagascar",
          "Mexico",
          "Mali",
          "Malta",
          "Myanmar",
          "Montenegro",
          "Mongolia",
          "Mozambique",
          "Mauritania",
          "Mauritius",
          "Malawi",
          "Malaysia",
          "Niger",
          "Nigeria",
          "Nicaragua",
          "Netherlands",
          "Norway",
          "Nepal",
          "New Zealand",
          "Oman",
          "Pakistan",
          "Panama",
          "Peru",
          "Philippines",
          "Poland",
          "Portugal",
          "Paraguay",
          "Qatar",
          "Romania",
          "Russia",
          "Rwanda",
          "Saudi Arabia",
          "Sudan",
          "Senegal",
          "Singapore",
          "Sierra Leone",
          "El Salvador",
          "Serbia",
          "Suriname",
          "Slovenia",
          "Sweden",
          "Chad",
          "Togo",
          "Thailand",
          "Tajikistan",
          "Turkmenistan",
          "Trinidad and Tobago",
          "Tunisia",
          "Turkey",
          "Tanzania",
          "Uganda",
          "Ukraine",
          "Uruguay",
          "United States",
          "Uzbekistan",
          "Vietnam",
          "Kosovo",
          "South Africa",
          "Zambia",
          "Zimbabwe"
         ],
         "text": [
          "Afghanistan",
          "Angola",
          "Albania",
          "United Arab Emirates",
          "Argentina",
          "Armenia",
          "Australia",
          "Austria",
          "Azerbaijan",
          "Burundi",
          "Belgium",
          "Benin",
          "Burkina Faso",
          "Bangladesh",
          "Bulgaria",
          "Bahrain",
          "Bosnia and Herzegovina",
          "Belarus",
          "Bolivia",
          "Brazil",
          "Bhutan",
          "Botswana",
          "Central African Republic",
          "Canada",
          "Switzerland",
          "Chile",
          "China",
          "Ivory Coast",
          "Cameroon",
          "Colombia",
          "Comoros",
          "Costa Rica",
          "Cyprus",
          "Czech Republic",
          "Germany",
          "Djibouti",
          "Denmark",
          "Dominican Republic",
          "Algeria",
          "Ecuador",
          "Egypt",
          "Spain",
          "Estonia",
          "Ethiopia",
          "Finland",
          "France",
          "Gabon",
          "United Kingdom",
          "Georgia",
          "Ghana",
          "Guinea",
          "Guinea",
          "Greece",
          "Guatemala",
          "Honduras",
          "Croatia",
          "Haiti",
          "Hungary",
          "Indonesia",
          "India",
          "Ireland",
          "Iran",
          "Iraq",
          "Iceland",
          "Israel",
          "Italy",
          "Jamaica",
          "Jordan",
          "Japan",
          "Kazakhstan",
          "Kenya",
          "Cambodia",
          "Kuwait",
          "Lebanon",
          "Liberia",
          "Libya",
          "Sri Lanka",
          "Lesotho",
          "Lithuania",
          "Latvia",
          "Morocco",
          "Moldova",
          "Madagascar",
          "Mexico",
          "Mali",
          "Malta",
          "Myanmar",
          "Montenegro",
          "Mongolia",
          "Mozambique",
          "Mauritania",
          "Mauritius",
          "Malawi",
          "Malaysia",
          "Niger",
          "Nigeria",
          "Nicaragua",
          "Netherlands",
          "Norway",
          "Nepal",
          "New Zealand",
          "Oman",
          "Pakistan",
          "Panama",
          "Peru",
          "Philippines",
          "Poland",
          "Portugal",
          "Paraguay",
          "Qatar",
          "Romania",
          "Russia",
          "Rwanda",
          "Saudi Arabia",
          "Sudan",
          "Senegal",
          "Singapore",
          "Sierra Leone",
          "El Salvador",
          "Serbia",
          "Suriname",
          "Slovenia",
          "Sweden",
          "Chad",
          "Togo",
          "Thailand",
          "Tajikistan",
          "Turkmenistan",
          "Trinidad and Tobago",
          "Tunisia",
          "Turkey",
          "Tanzania",
          "Uganda",
          "Ukraine",
          "Uruguay",
          "United States",
          "Uzbekistan",
          "Vietnam",
          "Kosovo",
          "South Africa",
          "Zambia",
          "Zimbabwe"
         ],
         "type": "choropleth",
         "z": [
          550.7233010799288,
          3800.3128116255384,
          4469.66925779811,
          39905.45465635832,
          13213.778975176785,
          3831.4245458487767,
          54541.752780323426,
          47077.35946449307,
          4562.3317575865085,
          288.12314456582953,
          43685.52651828979,
          826.0964990829063,
          628.915660299982,
          1478.0827275302408,
          7990.969998561275,
          23268.58017779237,
          5295.556112434653,
          5755.854655903644,
          3253.0863391785256,
          9082.149169783572,
          3148.458396992799,
          7548.895001063539,
          426.17429156171954,
          44269.46802182079,
          81375.09887308454,
          14570.742128021064,
          8660.516795765821,
          1545.2060601939081,
          1411.4256901483527,
          6272.705578991253,
          1312.5255792670728,
          11686.375184196424,
          25289.17160575,
          19909.368238542036,
          43770.384189185956,
          2876.807125140421,
          56602.56553008063,
          7465.591907085427,
          4070.8255988454034,
          6185.739556666162,
          3028.40838439996,
          27677.346825823068,
          19840.930507584893,
          724.601260009964,
          45733.23109483734,
          38429.59216925616,
          7381.62939530965,
          42336.39721448495,
          4287.627620508305,
          1981.3982982308894,
          809.097859867307,
          10130.79374371997,
          18872.986742581452,
          4270.9458111958465,
          2398.715983624866,
          13116.35273558271,
          796.2748434375915,
          14065.883320905272,
          3656.2626938677736,
          1831.5302537429254,
          68412.20497241366,
          5269.913946990077,
          5201.496009926058,
          64673.108895200305,
          38838.827645613346,
          31994.09937317659,
          5043.5657226823405,
          4153.44800736354,
          37735.18465848284,
          9321.449050003004,
          1506.5306394470945,
          1334.3298038137127,
          30319.158201439786,
          7848.227553730971,
          700.2577982120049,
          5342.810269002813,
          3984.296126711457,
          1188.2958178799174,
          16310.735539938425,
          15315.263095354432,
          3011.7439636217396,
          2600.8611541112796,
          496.49616675542245,
          9324.392558946125,
          814.8043527559103,
          26652.589620268263,
          1225.3199557651874,
          7542.877886870901,
          3842.4699737883384,
          494.78945761864907,
          1162.9178241588324,
          10166.416156585085,
          360.62249146142943,
          10350.112503581164,
          378.2085777452229,
          2225.7928881004523,
          2088.626707885755,
          48190.53407581583,
          75502.51910794327,
          878.7642958601418,
          40697.96402009553,
          15604.547423753946,
          1418.1296126598263,
          14681.957252082952,
          6521.46070818893,
          2973.252886238943,
          13570.444214490602,
          21016.505444635557,
          5557.127291541792,
          62565.06461542561,
          10413.366803621622,
          10024.65555534868,
          747.5721720902006,
          21162.484084072363,
          2219.2864010330845,
          1344.2442889172714,
          59312.631732963215,
          530.7540144098442,
          3866.534515208805,
          6218.105864686815,
          6444.965271288101,
          23017.75640090158,
          52931.044399580715,
          715.3331676035416,
          617.8870563767083,
          6417.602618552538,
          841.0692412283294,
          6593.9887093007055,
          16958.689498087853,
          3622.3604184579,
          10413.295802065993,
          992.4811108262879,
          648.0065594427138,
          2512.0609799223853,
          16179.030820653494,
          59357.54747018731,
          2135.4407342737077,
          2302.3836595058265,
          3880.4249667464546,
          5878.515022659757,
          1423.2850725623098,
          1664.7636207237508
         ]
        }
       ],
       "layout": {
        "geo": {
         "projection": {
          "type": "miller"
         },
         "showframe": false
        },
        "template": {
         "data": {
          "bar": [
           {
            "error_x": {
             "color": "#2a3f5f"
            },
            "error_y": {
             "color": "#2a3f5f"
            },
            "marker": {
             "line": {
              "color": "#E5ECF6",
              "width": 0.5
             }
            },
            "type": "bar"
           }
          ],
          "barpolar": [
           {
            "marker": {
             "line": {
              "color": "#E5ECF6",
              "width": 0.5
             }
            },
            "type": "barpolar"
           }
          ],
          "carpet": [
           {
            "aaxis": {
             "endlinecolor": "#2a3f5f",
             "gridcolor": "white",
             "linecolor": "white",
             "minorgridcolor": "white",
             "startlinecolor": "#2a3f5f"
            },
            "baxis": {
             "endlinecolor": "#2a3f5f",
             "gridcolor": "white",
             "linecolor": "white",
             "minorgridcolor": "white",
             "startlinecolor": "#2a3f5f"
            },
            "type": "carpet"
           }
          ],
          "choropleth": [
           {
            "colorbar": {
             "outlinewidth": 0,
             "ticks": ""
            },
            "type": "choropleth"
           }
          ],
          "contour": [
           {
            "colorbar": {
             "outlinewidth": 0,
             "ticks": ""
            },
            "colorscale": [
             [
              0,
              "#0d0887"
             ],
             [
              0.1111111111111111,
              "#46039f"
             ],
             [
              0.2222222222222222,
              "#7201a8"
             ],
             [
              0.3333333333333333,
              "#9c179e"
             ],
             [
              0.4444444444444444,
              "#bd3786"
             ],
             [
              0.5555555555555556,
              "#d8576b"
             ],
             [
              0.6666666666666666,
              "#ed7953"
             ],
             [
              0.7777777777777778,
              "#fb9f3a"
             ],
             [
              0.8888888888888888,
              "#fdca26"
             ],
             [
              1,
              "#f0f921"
             ]
            ],
            "type": "contour"
           }
          ],
          "contourcarpet": [
           {
            "colorbar": {
             "outlinewidth": 0,
             "ticks": ""
            },
            "type": "contourcarpet"
           }
          ],
          "heatmap": [
           {
            "colorbar": {
             "outlinewidth": 0,
             "ticks": ""
            },
            "colorscale": [
             [
              0,
              "#0d0887"
             ],
             [
              0.1111111111111111,
              "#46039f"
             ],
             [
              0.2222222222222222,
              "#7201a8"
             ],
             [
              0.3333333333333333,
              "#9c179e"
             ],
             [
              0.4444444444444444,
              "#bd3786"
             ],
             [
              0.5555555555555556,
              "#d8576b"
             ],
             [
              0.6666666666666666,
              "#ed7953"
             ],
             [
              0.7777777777777778,
              "#fb9f3a"
             ],
             [
              0.8888888888888888,
              "#fdca26"
             ],
             [
              1,
              "#f0f921"
             ]
            ],
            "type": "heatmap"
           }
          ],
          "heatmapgl": [
           {
            "colorbar": {
             "outlinewidth": 0,
             "ticks": ""
            },
            "colorscale": [
             [
              0,
              "#0d0887"
             ],
             [
              0.1111111111111111,
              "#46039f"
             ],
             [
              0.2222222222222222,
              "#7201a8"
             ],
             [
              0.3333333333333333,
              "#9c179e"
             ],
             [
              0.4444444444444444,
              "#bd3786"
             ],
             [
              0.5555555555555556,
              "#d8576b"
             ],
             [
              0.6666666666666666,
              "#ed7953"
             ],
             [
              0.7777777777777778,
              "#fb9f3a"
             ],
             [
              0.8888888888888888,
              "#fdca26"
             ],
             [
              1,
              "#f0f921"
             ]
            ],
            "type": "heatmapgl"
           }
          ],
          "histogram": [
           {
            "marker": {
             "colorbar": {
              "outlinewidth": 0,
              "ticks": ""
             }
            },
            "type": "histogram"
           }
          ],
          "histogram2d": [
           {
            "colorbar": {
             "outlinewidth": 0,
             "ticks": ""
            },
            "colorscale": [
             [
              0,
              "#0d0887"
             ],
             [
              0.1111111111111111,
              "#46039f"
             ],
             [
              0.2222222222222222,
              "#7201a8"
             ],
             [
              0.3333333333333333,
              "#9c179e"
             ],
             [
              0.4444444444444444,
              "#bd3786"
             ],
             [
              0.5555555555555556,
              "#d8576b"
             ],
             [
              0.6666666666666666,
              "#ed7953"
             ],
             [
              0.7777777777777778,
              "#fb9f3a"
             ],
             [
              0.8888888888888888,
              "#fdca26"
             ],
             [
              1,
              "#f0f921"
             ]
            ],
            "type": "histogram2d"
           }
          ],
          "histogram2dcontour": [
           {
            "colorbar": {
             "outlinewidth": 0,
             "ticks": ""
            },
            "colorscale": [
             [
              0,
              "#0d0887"
             ],
             [
              0.1111111111111111,
              "#46039f"
             ],
             [
              0.2222222222222222,
              "#7201a8"
             ],
             [
              0.3333333333333333,
              "#9c179e"
             ],
             [
              0.4444444444444444,
              "#bd3786"
             ],
             [
              0.5555555555555556,
              "#d8576b"
             ],
             [
              0.6666666666666666,
              "#ed7953"
             ],
             [
              0.7777777777777778,
              "#fb9f3a"
             ],
             [
              0.8888888888888888,
              "#fdca26"
             ],
             [
              1,
              "#f0f921"
             ]
            ],
            "type": "histogram2dcontour"
           }
          ],
          "mesh3d": [
           {
            "colorbar": {
             "outlinewidth": 0,
             "ticks": ""
            },
            "type": "mesh3d"
           }
          ],
          "parcoords": [
           {
            "line": {
             "colorbar": {
              "outlinewidth": 0,
              "ticks": ""
             }
            },
            "type": "parcoords"
           }
          ],
          "scatter": [
           {
            "marker": {
             "colorbar": {
              "outlinewidth": 0,
              "ticks": ""
             }
            },
            "type": "scatter"
           }
          ],
          "scatter3d": [
           {
            "line": {
             "colorbar": {
              "outlinewidth": 0,
              "ticks": ""
             }
            },
            "marker": {
             "colorbar": {
              "outlinewidth": 0,
              "ticks": ""
             }
            },
            "type": "scatter3d"
           }
          ],
          "scattercarpet": [
           {
            "marker": {
             "colorbar": {
              "outlinewidth": 0,
              "ticks": ""
             }
            },
            "type": "scattercarpet"
           }
          ],
          "scattergeo": [
           {
            "marker": {
             "colorbar": {
              "outlinewidth": 0,
              "ticks": ""
             }
            },
            "type": "scattergeo"
           }
          ],
          "scattergl": [
           {
            "marker": {
             "colorbar": {
              "outlinewidth": 0,
              "ticks": ""
             }
            },
            "type": "scattergl"
           }
          ],
          "scattermapbox": [
           {
            "marker": {
             "colorbar": {
              "outlinewidth": 0,
              "ticks": ""
             }
            },
            "type": "scattermapbox"
           }
          ],
          "scatterpolar": [
           {
            "marker": {
             "colorbar": {
              "outlinewidth": 0,
              "ticks": ""
             }
            },
            "type": "scatterpolar"
           }
          ],
          "scatterpolargl": [
           {
            "marker": {
             "colorbar": {
              "outlinewidth": 0,
              "ticks": ""
             }
            },
            "type": "scatterpolargl"
           }
          ],
          "scatterternary": [
           {
            "marker": {
             "colorbar": {
              "outlinewidth": 0,
              "ticks": ""
             }
            },
            "type": "scatterternary"
           }
          ],
          "surface": [
           {
            "colorbar": {
             "outlinewidth": 0,
             "ticks": ""
            },
            "colorscale": [
             [
              0,
              "#0d0887"
             ],
             [
              0.1111111111111111,
              "#46039f"
             ],
             [
              0.2222222222222222,
              "#7201a8"
             ],
             [
              0.3333333333333333,
              "#9c179e"
             ],
             [
              0.4444444444444444,
              "#bd3786"
             ],
             [
              0.5555555555555556,
              "#d8576b"
             ],
             [
              0.6666666666666666,
              "#ed7953"
             ],
             [
              0.7777777777777778,
              "#fb9f3a"
             ],
             [
              0.8888888888888888,
              "#fdca26"
             ],
             [
              1,
              "#f0f921"
             ]
            ],
            "type": "surface"
           }
          ],
          "table": [
           {
            "cells": {
             "fill": {
              "color": "#EBF0F8"
             },
             "line": {
              "color": "white"
             }
            },
            "header": {
             "fill": {
              "color": "#C8D4E3"
             },
             "line": {
              "color": "white"
             }
            },
            "type": "table"
           }
          ]
         },
         "layout": {
          "annotationdefaults": {
           "arrowcolor": "#2a3f5f",
           "arrowhead": 0,
           "arrowwidth": 1
          },
          "colorscale": {
           "diverging": [
            [
             0,
             "#8e0152"
            ],
            [
             0.1,
             "#c51b7d"
            ],
            [
             0.2,
             "#de77ae"
            ],
            [
             0.3,
             "#f1b6da"
            ],
            [
             0.4,
             "#fde0ef"
            ],
            [
             0.5,
             "#f7f7f7"
            ],
            [
             0.6,
             "#e6f5d0"
            ],
            [
             0.7,
             "#b8e186"
            ],
            [
             0.8,
             "#7fbc41"
            ],
            [
             0.9,
             "#4d9221"
            ],
            [
             1,
             "#276419"
            ]
           ],
           "sequential": [
            [
             0,
             "#0d0887"
            ],
            [
             0.1111111111111111,
             "#46039f"
            ],
            [
             0.2222222222222222,
             "#7201a8"
            ],
            [
             0.3333333333333333,
             "#9c179e"
            ],
            [
             0.4444444444444444,
             "#bd3786"
            ],
            [
             0.5555555555555556,
             "#d8576b"
            ],
            [
             0.6666666666666666,
             "#ed7953"
            ],
            [
             0.7777777777777778,
             "#fb9f3a"
            ],
            [
             0.8888888888888888,
             "#fdca26"
            ],
            [
             1,
             "#f0f921"
            ]
           ],
           "sequentialminus": [
            [
             0,
             "#0d0887"
            ],
            [
             0.1111111111111111,
             "#46039f"
            ],
            [
             0.2222222222222222,
             "#7201a8"
            ],
            [
             0.3333333333333333,
             "#9c179e"
            ],
            [
             0.4444444444444444,
             "#bd3786"
            ],
            [
             0.5555555555555556,
             "#d8576b"
            ],
            [
             0.6666666666666666,
             "#ed7953"
            ],
            [
             0.7777777777777778,
             "#fb9f3a"
            ],
            [
             0.8888888888888888,
             "#fdca26"
            ],
            [
             1,
             "#f0f921"
            ]
           ]
          },
          "colorway": [
           "#636efa",
           "#EF553B",
           "#00cc96",
           "#ab63fa",
           "#FFA15A",
           "#19d3f3",
           "#FF6692",
           "#B6E880",
           "#FF97FF",
           "#FECB52"
          ],
          "font": {
           "color": "#2a3f5f"
          },
          "geo": {
           "bgcolor": "white",
           "lakecolor": "white",
           "landcolor": "#E5ECF6",
           "showlakes": true,
           "showland": true,
           "subunitcolor": "white"
          },
          "hoverlabel": {
           "align": "left"
          },
          "hovermode": "closest",
          "mapbox": {
           "style": "light"
          },
          "paper_bgcolor": "white",
          "plot_bgcolor": "#E5ECF6",
          "polar": {
           "angularaxis": {
            "gridcolor": "white",
            "linecolor": "white",
            "ticks": ""
           },
           "bgcolor": "#E5ECF6",
           "radialaxis": {
            "gridcolor": "white",
            "linecolor": "white",
            "ticks": ""
           }
          },
          "scene": {
           "xaxis": {
            "backgroundcolor": "#E5ECF6",
            "gridcolor": "white",
            "gridwidth": 2,
            "linecolor": "white",
            "showbackground": true,
            "ticks": "",
            "zerolinecolor": "white"
           },
           "yaxis": {
            "backgroundcolor": "#E5ECF6",
            "gridcolor": "white",
            "gridwidth": 2,
            "linecolor": "white",
            "showbackground": true,
            "ticks": "",
            "zerolinecolor": "white"
           },
           "zaxis": {
            "backgroundcolor": "#E5ECF6",
            "gridcolor": "white",
            "gridwidth": 2,
            "linecolor": "white",
            "showbackground": true,
            "ticks": "",
            "zerolinecolor": "white"
           }
          },
          "shapedefaults": {
           "line": {
            "color": "#2a3f5f"
           }
          },
          "ternary": {
           "aaxis": {
            "gridcolor": "white",
            "linecolor": "white",
            "ticks": ""
           },
           "baxis": {
            "gridcolor": "white",
            "linecolor": "white",
            "ticks": ""
           },
           "bgcolor": "#E5ECF6",
           "caxis": {
            "gridcolor": "white",
            "linecolor": "white",
            "ticks": ""
           }
          },
          "title": {
           "x": 0.05
          },
          "xaxis": {
           "automargin": true,
           "gridcolor": "white",
           "linecolor": "white",
           "ticks": "",
           "zerolinecolor": "white",
           "zerolinewidth": 2
          },
          "yaxis": {
           "automargin": true,
           "gridcolor": "white",
           "linecolor": "white",
           "ticks": "",
           "zerolinecolor": "white",
           "zerolinewidth": 2
          }
         }
        },
        "title": {
         "text": "Average GDP per Capita",
         "x": 0.5,
         "xanchor": "center",
         "y": 0.9,
         "yanchor": "top"
        }
       }
      },
      "text/html": [
       "<div>\n",
       "        \n",
       "        \n",
       "            <div id=\"54bfdb3a-d422-4397-bc3a-19859972dbca\" class=\"plotly-graph-div\" style=\"height:525px; width:100%;\"></div>\n",
       "            <script type=\"text/javascript\">\n",
       "                require([\"plotly\"], function(Plotly) {\n",
       "                    window.PLOTLYENV=window.PLOTLYENV || {};\n",
       "                    \n",
       "                if (document.getElementById(\"54bfdb3a-d422-4397-bc3a-19859972dbca\")) {\n",
       "                    Plotly.newPlot(\n",
       "                        '54bfdb3a-d422-4397-bc3a-19859972dbca',\n",
       "                        [{\"colorbar\": {\"title\": {\"text\": \"GDP per Capita\"}}, \"colorscale\": [[0.0, \"rgb(158,1,66)\"], [0.1, \"rgb(213,62,79)\"], [0.2, \"rgb(244,109,67)\"], [0.3, \"rgb(253,174,97)\"], [0.4, \"rgb(254,224,139)\"], [0.5, \"rgb(255,255,191)\"], [0.6, \"rgb(230,245,152)\"], [0.7, \"rgb(171,221,164)\"], [0.8, \"rgb(102,194,165)\"], [0.9, \"rgb(50,136,189)\"], [1.0, \"rgb(94,79,162)\"]], \"locationmode\": \"country names\", \"locations\": [\"Afghanistan\", \"Angola\", \"Albania\", \"United Arab Emirates\", \"Argentina\", \"Armenia\", \"Australia\", \"Austria\", \"Azerbaijan\", \"Burundi\", \"Belgium\", \"Benin\", \"Burkina Faso\", \"Bangladesh\", \"Bulgaria\", \"Bahrain\", \"Bosnia and Herzegovina\", \"Belarus\", \"Bolivia\", \"Brazil\", \"Bhutan\", \"Botswana\", \"Central African Republic\", \"Canada\", \"Switzerland\", \"Chile\", \"China\", \"Ivory Coast\", \"Cameroon\", \"Colombia\", \"Comoros\", \"Costa Rica\", \"Cyprus\", \"Czech Republic\", \"Germany\", \"Djibouti\", \"Denmark\", \"Dominican Republic\", \"Algeria\", \"Ecuador\", \"Egypt\", \"Spain\", \"Estonia\", \"Ethiopia\", \"Finland\", \"France\", \"Gabon\", \"United Kingdom\", \"Georgia\", \"Ghana\", \"Guinea\", \"Guinea\", \"Greece\", \"Guatemala\", \"Honduras\", \"Croatia\", \"Haiti\", \"Hungary\", \"Indonesia\", \"India\", \"Ireland\", \"Iran\", \"Iraq\", \"Iceland\", \"Israel\", \"Italy\", \"Jamaica\", \"Jordan\", \"Japan\", \"Kazakhstan\", \"Kenya\", \"Cambodia\", \"Kuwait\", \"Lebanon\", \"Liberia\", \"Libya\", \"Sri Lanka\", \"Lesotho\", \"Lithuania\", \"Latvia\", \"Morocco\", \"Moldova\", \"Madagascar\", \"Mexico\", \"Mali\", \"Malta\", \"Myanmar\", \"Montenegro\", \"Mongolia\", \"Mozambique\", \"Mauritania\", \"Mauritius\", \"Malawi\", \"Malaysia\", \"Niger\", \"Nigeria\", \"Nicaragua\", \"Netherlands\", \"Norway\", \"Nepal\", \"New Zealand\", \"Oman\", \"Pakistan\", \"Panama\", \"Peru\", \"Philippines\", \"Poland\", \"Portugal\", \"Paraguay\", \"Qatar\", \"Romania\", \"Russia\", \"Rwanda\", \"Saudi Arabia\", \"Sudan\", \"Senegal\", \"Singapore\", \"Sierra Leone\", \"El Salvador\", \"Serbia\", \"Suriname\", \"Slovenia\", \"Sweden\", \"Chad\", \"Togo\", \"Thailand\", \"Tajikistan\", \"Turkmenistan\", \"Trinidad and Tobago\", \"Tunisia\", \"Turkey\", \"Tanzania\", \"Uganda\", \"Ukraine\", \"Uruguay\", \"United States\", \"Uzbekistan\", \"Vietnam\", \"Kosovo\", \"South Africa\", \"Zambia\", \"Zimbabwe\"], \"text\": [\"Afghanistan\", \"Angola\", \"Albania\", \"United Arab Emirates\", \"Argentina\", \"Armenia\", \"Australia\", \"Austria\", \"Azerbaijan\", \"Burundi\", \"Belgium\", \"Benin\", \"Burkina Faso\", \"Bangladesh\", \"Bulgaria\", \"Bahrain\", \"Bosnia and Herzegovina\", \"Belarus\", \"Bolivia\", \"Brazil\", \"Bhutan\", \"Botswana\", \"Central African Republic\", \"Canada\", \"Switzerland\", \"Chile\", \"China\", \"Ivory Coast\", \"Cameroon\", \"Colombia\", \"Comoros\", \"Costa Rica\", \"Cyprus\", \"Czech Republic\", \"Germany\", \"Djibouti\", \"Denmark\", \"Dominican Republic\", \"Algeria\", \"Ecuador\", \"Egypt\", \"Spain\", \"Estonia\", \"Ethiopia\", \"Finland\", \"France\", \"Gabon\", \"United Kingdom\", \"Georgia\", \"Ghana\", \"Guinea\", \"Guinea\", \"Greece\", \"Guatemala\", \"Honduras\", \"Croatia\", \"Haiti\", \"Hungary\", \"Indonesia\", \"India\", \"Ireland\", \"Iran\", \"Iraq\", \"Iceland\", \"Israel\", \"Italy\", \"Jamaica\", \"Jordan\", \"Japan\", \"Kazakhstan\", \"Kenya\", \"Cambodia\", \"Kuwait\", \"Lebanon\", \"Liberia\", \"Libya\", \"Sri Lanka\", \"Lesotho\", \"Lithuania\", \"Latvia\", \"Morocco\", \"Moldova\", \"Madagascar\", \"Mexico\", \"Mali\", \"Malta\", \"Myanmar\", \"Montenegro\", \"Mongolia\", \"Mozambique\", \"Mauritania\", \"Mauritius\", \"Malawi\", \"Malaysia\", \"Niger\", \"Nigeria\", \"Nicaragua\", \"Netherlands\", \"Norway\", \"Nepal\", \"New Zealand\", \"Oman\", \"Pakistan\", \"Panama\", \"Peru\", \"Philippines\", \"Poland\", \"Portugal\", \"Paraguay\", \"Qatar\", \"Romania\", \"Russia\", \"Rwanda\", \"Saudi Arabia\", \"Sudan\", \"Senegal\", \"Singapore\", \"Sierra Leone\", \"El Salvador\", \"Serbia\", \"Suriname\", \"Slovenia\", \"Sweden\", \"Chad\", \"Togo\", \"Thailand\", \"Tajikistan\", \"Turkmenistan\", \"Trinidad and Tobago\", \"Tunisia\", \"Turkey\", \"Tanzania\", \"Uganda\", \"Ukraine\", \"Uruguay\", \"United States\", \"Uzbekistan\", \"Vietnam\", \"Kosovo\", \"South Africa\", \"Zambia\", \"Zimbabwe\"], \"type\": \"choropleth\", \"z\": [550.7233010799288, 3800.3128116255384, 4469.66925779811, 39905.45465635832, 13213.778975176785, 3831.4245458487767, 54541.752780323426, 47077.35946449307, 4562.3317575865085, 288.12314456582953, 43685.52651828979, 826.0964990829063, 628.915660299982, 1478.0827275302408, 7990.969998561275, 23268.58017779237, 5295.556112434653, 5755.854655903644, 3253.0863391785256, 9082.149169783572, 3148.458396992799, 7548.895001063539, 426.17429156171954, 44269.46802182079, 81375.09887308454, 14570.742128021064, 8660.516795765821, 1545.2060601939081, 1411.4256901483527, 6272.705578991253, 1312.5255792670728, 11686.375184196424, 25289.17160575, 19909.368238542036, 43770.384189185956, 2876.807125140421, 56602.56553008063, 7465.591907085427, 4070.8255988454034, 6185.739556666162, 3028.40838439996, 27677.346825823068, 19840.930507584893, 724.601260009964, 45733.23109483734, 38429.59216925616, 7381.62939530965, 42336.39721448495, 4287.627620508305, 1981.3982982308894, 809.097859867307, 10130.79374371997, 18872.986742581452, 4270.9458111958465, 2398.715983624866, 13116.35273558271, 796.2748434375915, 14065.883320905272, 3656.2626938677736, 1831.5302537429254, 68412.20497241366, 5269.913946990077, 5201.496009926058, 64673.108895200305, 38838.827645613346, 31994.09937317659, 5043.5657226823405, 4153.44800736354, 37735.18465848284, 9321.449050003004, 1506.5306394470945, 1334.3298038137127, 30319.158201439786, 7848.227553730971, 700.2577982120049, 5342.810269002813, 3984.296126711457, 1188.2958178799174, 16310.735539938425, 15315.263095354432, 3011.7439636217396, 2600.8611541112796, 496.49616675542245, 9324.392558946125, 814.8043527559103, 26652.589620268263, 1225.3199557651874, 7542.877886870901, 3842.4699737883384, 494.78945761864907, 1162.9178241588324, 10166.416156585085, 360.62249146142943, 10350.112503581164, 378.2085777452229, 2225.7928881004523, 2088.626707885755, 48190.53407581583, 75502.51910794327, 878.7642958601418, 40697.96402009553, 15604.547423753946, 1418.1296126598263, 14681.957252082952, 6521.46070818893, 2973.252886238943, 13570.444214490602, 21016.505444635557, 5557.127291541792, 62565.06461542561, 10413.366803621622, 10024.65555534868, 747.5721720902006, 21162.484084072363, 2219.2864010330845, 1344.2442889172714, 59312.631732963215, 530.7540144098442, 3866.534515208805, 6218.105864686815, 6444.965271288101, 23017.75640090158, 52931.044399580715, 715.3331676035416, 617.8870563767083, 6417.602618552538, 841.0692412283294, 6593.9887093007055, 16958.689498087853, 3622.3604184579, 10413.295802065993, 992.4811108262879, 648.0065594427138, 2512.0609799223853, 16179.030820653494, 59357.54747018731, 2135.4407342737077, 2302.3836595058265, 3880.4249667464546, 5878.515022659757, 1423.2850725623098, 1664.7636207237508]}],\n",
       "                        {\"geo\": {\"projection\": {\"type\": \"miller\"}, \"showframe\": false}, \"template\": {\"data\": {\"bar\": [{\"error_x\": {\"color\": \"#2a3f5f\"}, \"error_y\": {\"color\": \"#2a3f5f\"}, \"marker\": {\"line\": {\"color\": \"#E5ECF6\", \"width\": 0.5}}, \"type\": \"bar\"}], \"barpolar\": [{\"marker\": {\"line\": {\"color\": \"#E5ECF6\", \"width\": 0.5}}, \"type\": \"barpolar\"}], \"carpet\": [{\"aaxis\": {\"endlinecolor\": \"#2a3f5f\", \"gridcolor\": \"white\", \"linecolor\": \"white\", \"minorgridcolor\": \"white\", \"startlinecolor\": \"#2a3f5f\"}, \"baxis\": {\"endlinecolor\": \"#2a3f5f\", \"gridcolor\": \"white\", \"linecolor\": \"white\", \"minorgridcolor\": \"white\", \"startlinecolor\": \"#2a3f5f\"}, \"type\": \"carpet\"}], \"choropleth\": [{\"colorbar\": {\"outlinewidth\": 0, \"ticks\": \"\"}, \"type\": \"choropleth\"}], \"contour\": [{\"colorbar\": {\"outlinewidth\": 0, \"ticks\": \"\"}, \"colorscale\": [[0.0, \"#0d0887\"], [0.1111111111111111, \"#46039f\"], [0.2222222222222222, \"#7201a8\"], [0.3333333333333333, \"#9c179e\"], [0.4444444444444444, \"#bd3786\"], [0.5555555555555556, \"#d8576b\"], [0.6666666666666666, \"#ed7953\"], [0.7777777777777778, \"#fb9f3a\"], [0.8888888888888888, \"#fdca26\"], [1.0, \"#f0f921\"]], \"type\": \"contour\"}], \"contourcarpet\": [{\"colorbar\": {\"outlinewidth\": 0, \"ticks\": \"\"}, \"type\": \"contourcarpet\"}], \"heatmap\": [{\"colorbar\": {\"outlinewidth\": 0, \"ticks\": \"\"}, \"colorscale\": [[0.0, \"#0d0887\"], [0.1111111111111111, \"#46039f\"], [0.2222222222222222, \"#7201a8\"], [0.3333333333333333, \"#9c179e\"], [0.4444444444444444, \"#bd3786\"], [0.5555555555555556, \"#d8576b\"], [0.6666666666666666, \"#ed7953\"], [0.7777777777777778, \"#fb9f3a\"], [0.8888888888888888, \"#fdca26\"], [1.0, \"#f0f921\"]], \"type\": \"heatmap\"}], \"heatmapgl\": [{\"colorbar\": {\"outlinewidth\": 0, \"ticks\": \"\"}, \"colorscale\": [[0.0, \"#0d0887\"], [0.1111111111111111, \"#46039f\"], [0.2222222222222222, \"#7201a8\"], [0.3333333333333333, \"#9c179e\"], [0.4444444444444444, \"#bd3786\"], [0.5555555555555556, \"#d8576b\"], [0.6666666666666666, \"#ed7953\"], [0.7777777777777778, \"#fb9f3a\"], [0.8888888888888888, \"#fdca26\"], [1.0, \"#f0f921\"]], \"type\": \"heatmapgl\"}], \"histogram\": [{\"marker\": {\"colorbar\": {\"outlinewidth\": 0, \"ticks\": \"\"}}, \"type\": \"histogram\"}], \"histogram2d\": [{\"colorbar\": {\"outlinewidth\": 0, \"ticks\": \"\"}, \"colorscale\": [[0.0, \"#0d0887\"], [0.1111111111111111, \"#46039f\"], [0.2222222222222222, \"#7201a8\"], [0.3333333333333333, \"#9c179e\"], [0.4444444444444444, \"#bd3786\"], [0.5555555555555556, \"#d8576b\"], [0.6666666666666666, \"#ed7953\"], [0.7777777777777778, \"#fb9f3a\"], [0.8888888888888888, \"#fdca26\"], [1.0, \"#f0f921\"]], \"type\": \"histogram2d\"}], \"histogram2dcontour\": [{\"colorbar\": {\"outlinewidth\": 0, \"ticks\": \"\"}, \"colorscale\": [[0.0, \"#0d0887\"], [0.1111111111111111, \"#46039f\"], [0.2222222222222222, \"#7201a8\"], [0.3333333333333333, \"#9c179e\"], [0.4444444444444444, \"#bd3786\"], [0.5555555555555556, \"#d8576b\"], [0.6666666666666666, \"#ed7953\"], [0.7777777777777778, \"#fb9f3a\"], [0.8888888888888888, \"#fdca26\"], [1.0, \"#f0f921\"]], \"type\": \"histogram2dcontour\"}], \"mesh3d\": [{\"colorbar\": {\"outlinewidth\": 0, \"ticks\": \"\"}, \"type\": \"mesh3d\"}], \"parcoords\": [{\"line\": {\"colorbar\": {\"outlinewidth\": 0, \"ticks\": \"\"}}, \"type\": \"parcoords\"}], \"scatter\": [{\"marker\": {\"colorbar\": {\"outlinewidth\": 0, \"ticks\": \"\"}}, \"type\": \"scatter\"}], \"scatter3d\": [{\"line\": {\"colorbar\": {\"outlinewidth\": 0, \"ticks\": \"\"}}, \"marker\": {\"colorbar\": {\"outlinewidth\": 0, \"ticks\": \"\"}}, \"type\": \"scatter3d\"}], \"scattercarpet\": [{\"marker\": {\"colorbar\": {\"outlinewidth\": 0, \"ticks\": \"\"}}, \"type\": \"scattercarpet\"}], \"scattergeo\": [{\"marker\": {\"colorbar\": {\"outlinewidth\": 0, \"ticks\": \"\"}}, \"type\": \"scattergeo\"}], \"scattergl\": [{\"marker\": {\"colorbar\": {\"outlinewidth\": 0, \"ticks\": \"\"}}, \"type\": \"scattergl\"}], \"scattermapbox\": [{\"marker\": {\"colorbar\": {\"outlinewidth\": 0, \"ticks\": \"\"}}, \"type\": \"scattermapbox\"}], \"scatterpolar\": [{\"marker\": {\"colorbar\": {\"outlinewidth\": 0, \"ticks\": \"\"}}, \"type\": \"scatterpolar\"}], \"scatterpolargl\": [{\"marker\": {\"colorbar\": {\"outlinewidth\": 0, \"ticks\": \"\"}}, \"type\": \"scatterpolargl\"}], \"scatterternary\": [{\"marker\": {\"colorbar\": {\"outlinewidth\": 0, \"ticks\": \"\"}}, \"type\": \"scatterternary\"}], \"surface\": [{\"colorbar\": {\"outlinewidth\": 0, \"ticks\": \"\"}, \"colorscale\": [[0.0, \"#0d0887\"], [0.1111111111111111, \"#46039f\"], [0.2222222222222222, \"#7201a8\"], [0.3333333333333333, \"#9c179e\"], [0.4444444444444444, \"#bd3786\"], [0.5555555555555556, \"#d8576b\"], [0.6666666666666666, \"#ed7953\"], [0.7777777777777778, \"#fb9f3a\"], [0.8888888888888888, \"#fdca26\"], [1.0, \"#f0f921\"]], \"type\": \"surface\"}], \"table\": [{\"cells\": {\"fill\": {\"color\": \"#EBF0F8\"}, \"line\": {\"color\": \"white\"}}, \"header\": {\"fill\": {\"color\": \"#C8D4E3\"}, \"line\": {\"color\": \"white\"}}, \"type\": \"table\"}]}, \"layout\": {\"annotationdefaults\": {\"arrowcolor\": \"#2a3f5f\", \"arrowhead\": 0, \"arrowwidth\": 1}, \"colorscale\": {\"diverging\": [[0, \"#8e0152\"], [0.1, \"#c51b7d\"], [0.2, \"#de77ae\"], [0.3, \"#f1b6da\"], [0.4, \"#fde0ef\"], [0.5, \"#f7f7f7\"], [0.6, \"#e6f5d0\"], [0.7, \"#b8e186\"], [0.8, \"#7fbc41\"], [0.9, \"#4d9221\"], [1, \"#276419\"]], \"sequential\": [[0.0, \"#0d0887\"], [0.1111111111111111, \"#46039f\"], [0.2222222222222222, \"#7201a8\"], [0.3333333333333333, \"#9c179e\"], [0.4444444444444444, \"#bd3786\"], [0.5555555555555556, \"#d8576b\"], [0.6666666666666666, \"#ed7953\"], [0.7777777777777778, \"#fb9f3a\"], [0.8888888888888888, \"#fdca26\"], [1.0, \"#f0f921\"]], \"sequentialminus\": [[0.0, \"#0d0887\"], [0.1111111111111111, \"#46039f\"], [0.2222222222222222, \"#7201a8\"], [0.3333333333333333, \"#9c179e\"], [0.4444444444444444, \"#bd3786\"], [0.5555555555555556, \"#d8576b\"], [0.6666666666666666, \"#ed7953\"], [0.7777777777777778, \"#fb9f3a\"], [0.8888888888888888, \"#fdca26\"], [1.0, \"#f0f921\"]]}, \"colorway\": [\"#636efa\", \"#EF553B\", \"#00cc96\", \"#ab63fa\", \"#FFA15A\", \"#19d3f3\", \"#FF6692\", \"#B6E880\", \"#FF97FF\", \"#FECB52\"], \"font\": {\"color\": \"#2a3f5f\"}, \"geo\": {\"bgcolor\": \"white\", \"lakecolor\": \"white\", \"landcolor\": \"#E5ECF6\", \"showlakes\": true, \"showland\": true, \"subunitcolor\": \"white\"}, \"hoverlabel\": {\"align\": \"left\"}, \"hovermode\": \"closest\", \"mapbox\": {\"style\": \"light\"}, \"paper_bgcolor\": \"white\", \"plot_bgcolor\": \"#E5ECF6\", \"polar\": {\"angularaxis\": {\"gridcolor\": \"white\", \"linecolor\": \"white\", \"ticks\": \"\"}, \"bgcolor\": \"#E5ECF6\", \"radialaxis\": {\"gridcolor\": \"white\", \"linecolor\": \"white\", \"ticks\": \"\"}}, \"scene\": {\"xaxis\": {\"backgroundcolor\": \"#E5ECF6\", \"gridcolor\": \"white\", \"gridwidth\": 2, \"linecolor\": \"white\", \"showbackground\": true, \"ticks\": \"\", \"zerolinecolor\": \"white\"}, \"yaxis\": {\"backgroundcolor\": \"#E5ECF6\", \"gridcolor\": \"white\", \"gridwidth\": 2, \"linecolor\": \"white\", \"showbackground\": true, \"ticks\": \"\", \"zerolinecolor\": \"white\"}, \"zaxis\": {\"backgroundcolor\": \"#E5ECF6\", \"gridcolor\": \"white\", \"gridwidth\": 2, \"linecolor\": \"white\", \"showbackground\": true, \"ticks\": \"\", \"zerolinecolor\": \"white\"}}, \"shapedefaults\": {\"line\": {\"color\": \"#2a3f5f\"}}, \"ternary\": {\"aaxis\": {\"gridcolor\": \"white\", \"linecolor\": \"white\", \"ticks\": \"\"}, \"baxis\": {\"gridcolor\": \"white\", \"linecolor\": \"white\", \"ticks\": \"\"}, \"bgcolor\": \"#E5ECF6\", \"caxis\": {\"gridcolor\": \"white\", \"linecolor\": \"white\", \"ticks\": \"\"}}, \"title\": {\"x\": 0.05}, \"xaxis\": {\"automargin\": true, \"gridcolor\": \"white\", \"linecolor\": \"white\", \"ticks\": \"\", \"zerolinecolor\": \"white\", \"zerolinewidth\": 2}, \"yaxis\": {\"automargin\": true, \"gridcolor\": \"white\", \"linecolor\": \"white\", \"ticks\": \"\", \"zerolinecolor\": \"white\", \"zerolinewidth\": 2}}}, \"title\": {\"text\": \"Average GDP per Capita\", \"x\": 0.5, \"xanchor\": \"center\", \"y\": 0.9, \"yanchor\": \"top\"}},\n",
       "                        {\"responsive\": true}\n",
       "                    ).then(function(){\n",
       "                            \n",
       "var gd = document.getElementById('54bfdb3a-d422-4397-bc3a-19859972dbca');\n",
       "var x = new MutationObserver(function (mutations, observer) {{\n",
       "        var display = window.getComputedStyle(gd).display;\n",
       "        if (!display || display === 'none') {{\n",
       "            console.log([gd, 'removed!']);\n",
       "            Plotly.purge(gd);\n",
       "            observer.disconnect();\n",
       "        }}\n",
       "}});\n",
       "\n",
       "// Listen for the removal of the full notebook cells\n",
       "var notebookContainer = gd.closest('#notebook-container');\n",
       "if (notebookContainer) {{\n",
       "    x.observe(notebookContainer, {childList: true});\n",
       "}}\n",
       "\n",
       "// Listen for the clearing of the current output cell\n",
       "var outputEl = gd.closest('.output');\n",
       "if (outputEl) {{\n",
       "    x.observe(outputEl, {childList: true});\n",
       "}}\n",
       "\n",
       "                        })\n",
       "                };\n",
       "                });\n",
       "            </script>\n",
       "        </div>"
      ]
     },
     "metadata": {},
     "output_type": "display_data"
    }
   ],
   "source": [
    "data = dict(type = 'choropleth', \n",
    "           locations = gdp_whr15['Country'],\n",
    "           locationmode = 'country names',\n",
    "           z = gdp_whr15['average'], \n",
    "           text = gdp_whr15['Country'],\n",
    "           colorbar = {'title':'GDP per Capita'},                              \n",
    "           colorscale = 'Spectral',\n",
    "           )\n",
    "layout = dict(title = 'Average GDP per Capita', \n",
    "                   geo = dict(showframe = False, \n",
    "                       projection = {'type': 'miller'}))\n",
    "\n",
    "choromap = go.Figure(data = [data], layout=layout)\n",
    "#not sure how to update layout above instead of using 'update_layout' code below\n",
    "choromap.update_layout(\n",
    "   title={\n",
    "      'y':0.9,\n",
    "      'x':0.5,\n",
    "      'xanchor': 'center',\n",
    "      'yanchor': 'top'})\n",
    "iplot(choromap)\n"
   ]
  },
  {
   "cell_type": "code",
   "execution_count": null,
   "metadata": {},
   "outputs": [],
   "source": []
  }
 ],
 "metadata": {
  "kernelspec": {
   "display_name": "Python 3",
   "language": "python",
   "name": "python3"
  },
  "language_info": {
   "codemirror_mode": {
    "name": "ipython",
    "version": 3
   },
   "file_extension": ".py",
   "mimetype": "text/x-python",
   "name": "python",
   "nbconvert_exporter": "python",
   "pygments_lexer": "ipython3",
   "version": "3.7.3"
  }
 },
 "nbformat": 4,
 "nbformat_minor": 2
}
