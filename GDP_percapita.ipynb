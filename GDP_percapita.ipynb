{
 "cells": [
  {
   "cell_type": "code",
   "execution_count": 2,
   "metadata": {},
   "outputs": [],
   "source": [
    "import pandas as pd\n",
    "import matplotlib.pyplot as plt\n",
    "import seaborn as sns\n",
    "import chart_studio.plotly as py\n",
    "import plotly.graph_objs as go\n",
    "from plotly.offline import download_plotlyjs, init_notebook_mode, plot, iplot"
   ]
  },
  {
   "cell_type": "code",
   "execution_count": 3,
   "metadata": {},
   "outputs": [
    {
     "data": {
      "text/html": [
       "<div>\n",
       "<style scoped>\n",
       "    .dataframe tbody tr th:only-of-type {\n",
       "        vertical-align: middle;\n",
       "    }\n",
       "\n",
       "    .dataframe tbody tr th {\n",
       "        vertical-align: top;\n",
       "    }\n",
       "\n",
       "    .dataframe thead th {\n",
       "        text-align: right;\n",
       "    }\n",
       "</style>\n",
       "<table border=\"1\" class=\"dataframe\">\n",
       "  <thead>\n",
       "    <tr style=\"text-align: right;\">\n",
       "      <th></th>\n",
       "      <th>Country Name</th>\n",
       "      <th>Country Code</th>\n",
       "      <th>Indicator Name</th>\n",
       "      <th>Indicator Code</th>\n",
       "      <th>1960</th>\n",
       "      <th>1961</th>\n",
       "      <th>1962</th>\n",
       "      <th>1963</th>\n",
       "      <th>1964</th>\n",
       "      <th>1965</th>\n",
       "      <th>...</th>\n",
       "      <th>2010</th>\n",
       "      <th>2011</th>\n",
       "      <th>2012</th>\n",
       "      <th>2013</th>\n",
       "      <th>2014</th>\n",
       "      <th>2015</th>\n",
       "      <th>2016</th>\n",
       "      <th>2017</th>\n",
       "      <th>2018</th>\n",
       "      <th>2019</th>\n",
       "    </tr>\n",
       "  </thead>\n",
       "  <tbody>\n",
       "    <tr>\n",
       "      <th>0</th>\n",
       "      <td>Aruba</td>\n",
       "      <td>ABW</td>\n",
       "      <td>GDP per capita (current US$)</td>\n",
       "      <td>NY.GDP.PCAP.CD</td>\n",
       "      <td>NaN</td>\n",
       "      <td>NaN</td>\n",
       "      <td>NaN</td>\n",
       "      <td>NaN</td>\n",
       "      <td>NaN</td>\n",
       "      <td>NaN</td>\n",
       "      <td>...</td>\n",
       "      <td>23512.602596</td>\n",
       "      <td>24985.993281</td>\n",
       "      <td>24713.698045</td>\n",
       "      <td>25025.099563</td>\n",
       "      <td>25533.56978</td>\n",
       "      <td>25796.380251</td>\n",
       "      <td>25239.600411</td>\n",
       "      <td>25630.266492</td>\n",
       "      <td>NaN</td>\n",
       "      <td>NaN</td>\n",
       "    </tr>\n",
       "  </tbody>\n",
       "</table>\n",
       "<p>1 rows × 64 columns</p>\n",
       "</div>"
      ],
      "text/plain": [
       "  Country Name Country Code                Indicator Name  Indicator Code  \\\n",
       "0        Aruba          ABW  GDP per capita (current US$)  NY.GDP.PCAP.CD   \n",
       "\n",
       "   1960  1961  1962  1963  1964  1965  ...          2010          2011  \\\n",
       "0   NaN   NaN   NaN   NaN   NaN   NaN  ...  23512.602596  24985.993281   \n",
       "\n",
       "           2012          2013         2014          2015          2016  \\\n",
       "0  24713.698045  25025.099563  25533.56978  25796.380251  25239.600411   \n",
       "\n",
       "           2017  2018  2019  \n",
       "0  25630.266492   NaN   NaN  \n",
       "\n",
       "[1 rows x 64 columns]"
      ]
     },
     "execution_count": 3,
     "metadata": {},
     "output_type": "execute_result"
    }
   ],
   "source": [
    "gdp = pd.read_excel('./data/GDP_percapita.xls')\n",
    "gdp.head(1)"
   ]
  },
  {
   "cell_type": "code",
   "execution_count": 4,
   "metadata": {},
   "outputs": [],
   "source": [
    "gdp = gdp[['Country Name', '2015', '2016', '2017', '2018']]"
   ]
  },
  {
   "cell_type": "code",
   "execution_count": 5,
   "metadata": {},
   "outputs": [],
   "source": [
    "gdp = gdp.dropna(thresh=3)"
   ]
  },
  {
   "cell_type": "code",
   "execution_count": 6,
   "metadata": {
    "scrolled": true
   },
   "outputs": [],
   "source": [
    "gdp['average'] = gdp.iloc[:, 1:].astype(float).mean(axis=1)"
   ]
  },
  {
   "cell_type": "code",
   "execution_count": 7,
   "metadata": {},
   "outputs": [
    {
     "data": {
      "text/html": [
       "<div>\n",
       "<style scoped>\n",
       "    .dataframe tbody tr th:only-of-type {\n",
       "        vertical-align: middle;\n",
       "    }\n",
       "\n",
       "    .dataframe tbody tr th {\n",
       "        vertical-align: top;\n",
       "    }\n",
       "\n",
       "    .dataframe thead th {\n",
       "        text-align: right;\n",
       "    }\n",
       "</style>\n",
       "<table border=\"1\" class=\"dataframe\">\n",
       "  <thead>\n",
       "    <tr style=\"text-align: right;\">\n",
       "      <th></th>\n",
       "      <th>Country Name</th>\n",
       "      <th>2015</th>\n",
       "      <th>2016</th>\n",
       "      <th>2017</th>\n",
       "      <th>2018</th>\n",
       "      <th>average</th>\n",
       "    </tr>\n",
       "  </thead>\n",
       "  <tbody>\n",
       "    <tr>\n",
       "      <th>147</th>\n",
       "      <td>Monaco</td>\n",
       "      <td>165937.865343</td>\n",
       "      <td>169915.804840</td>\n",
       "      <td>167101.759377</td>\n",
       "      <td>185741.279992</td>\n",
       "      <td>172174.177388</td>\n",
       "    </tr>\n",
       "    <tr>\n",
       "      <th>135</th>\n",
       "      <td>Liechtenstein</td>\n",
       "      <td>167290.939984</td>\n",
       "      <td>165028.245029</td>\n",
       "      <td>NaN</td>\n",
       "      <td>NaN</td>\n",
       "      <td>166159.592507</td>\n",
       "    </tr>\n",
       "    <tr>\n",
       "      <th>142</th>\n",
       "      <td>Luxembourg</td>\n",
       "      <td>101376.496574</td>\n",
       "      <td>104278.390972</td>\n",
       "      <td>107361.306947</td>\n",
       "      <td>116639.888047</td>\n",
       "      <td>107414.020635</td>\n",
       "    </tr>\n",
       "    <tr>\n",
       "      <th>35</th>\n",
       "      <td>Switzerland</td>\n",
       "      <td>82081.609206</td>\n",
       "      <td>80172.193304</td>\n",
       "      <td>80450.045820</td>\n",
       "      <td>82796.547163</td>\n",
       "      <td>81375.098873</td>\n",
       "    </tr>\n",
       "    <tr>\n",
       "      <th>106</th>\n",
       "      <td>Isle of Man</td>\n",
       "      <td>81606.280033</td>\n",
       "      <td>79155.541672</td>\n",
       "      <td>80989.172211</td>\n",
       "      <td>NaN</td>\n",
       "      <td>80583.664639</td>\n",
       "    </tr>\n",
       "  </tbody>\n",
       "</table>\n",
       "</div>"
      ],
      "text/plain": [
       "      Country Name           2015           2016           2017  \\\n",
       "147         Monaco  165937.865343  169915.804840  167101.759377   \n",
       "135  Liechtenstein  167290.939984  165028.245029            NaN   \n",
       "142     Luxembourg  101376.496574  104278.390972  107361.306947   \n",
       "35     Switzerland   82081.609206   80172.193304   80450.045820   \n",
       "106    Isle of Man   81606.280033   79155.541672   80989.172211   \n",
       "\n",
       "              2018        average  \n",
       "147  185741.279992  172174.177388  \n",
       "135            NaN  166159.592507  \n",
       "142  116639.888047  107414.020635  \n",
       "35    82796.547163   81375.098873  \n",
       "106            NaN   80583.664639  "
      ]
     },
     "execution_count": 7,
     "metadata": {},
     "output_type": "execute_result"
    }
   ],
   "source": [
    "gdp = gdp.sort_values('average', ascending=False)\n",
    "gdp.head()"
   ]
  },
  {
   "cell_type": "code",
   "execution_count": 8,
   "metadata": {},
   "outputs": [],
   "source": [
    "gdp['rank'] = gdp.average.rank(ascending=0).astype(int)"
   ]
  },
  {
   "cell_type": "code",
   "execution_count": 9,
   "metadata": {},
   "outputs": [
    {
     "data": {
      "text/html": [
       "<div>\n",
       "<style scoped>\n",
       "    .dataframe tbody tr th:only-of-type {\n",
       "        vertical-align: middle;\n",
       "    }\n",
       "\n",
       "    .dataframe tbody tr th {\n",
       "        vertical-align: top;\n",
       "    }\n",
       "\n",
       "    .dataframe thead th {\n",
       "        text-align: right;\n",
       "    }\n",
       "</style>\n",
       "<table border=\"1\" class=\"dataframe\">\n",
       "  <thead>\n",
       "    <tr style=\"text-align: right;\">\n",
       "      <th></th>\n",
       "      <th>Country Name</th>\n",
       "      <th>2015</th>\n",
       "      <th>2016</th>\n",
       "      <th>2017</th>\n",
       "      <th>2018</th>\n",
       "      <th>average</th>\n",
       "      <th>rank</th>\n",
       "    </tr>\n",
       "  </thead>\n",
       "  <tbody>\n",
       "    <tr>\n",
       "      <th>32</th>\n",
       "      <td>Central African Republic</td>\n",
       "      <td>377.271254</td>\n",
       "      <td>401.918238</td>\n",
       "      <td>449.786424</td>\n",
       "      <td>475.721251</td>\n",
       "      <td>426.174292</td>\n",
       "      <td>246</td>\n",
       "    </tr>\n",
       "    <tr>\n",
       "      <th>171</th>\n",
       "      <td>Niger</td>\n",
       "      <td>360.853384</td>\n",
       "      <td>362.131132</td>\n",
       "      <td>375.869490</td>\n",
       "      <td>413.980305</td>\n",
       "      <td>378.208578</td>\n",
       "      <td>247</td>\n",
       "    </tr>\n",
       "    <tr>\n",
       "      <th>166</th>\n",
       "      <td>Malawi</td>\n",
       "      <td>380.597033</td>\n",
       "      <td>315.777326</td>\n",
       "      <td>356.717573</td>\n",
       "      <td>389.398033</td>\n",
       "      <td>360.622491</td>\n",
       "      <td>248</td>\n",
       "    </tr>\n",
       "    <tr>\n",
       "      <th>211</th>\n",
       "      <td>Somalia</td>\n",
       "      <td>293.455236</td>\n",
       "      <td>295.967852</td>\n",
       "      <td>309.055355</td>\n",
       "      <td>314.544166</td>\n",
       "      <td>303.255652</td>\n",
       "      <td>249</td>\n",
       "    </tr>\n",
       "    <tr>\n",
       "      <th>14</th>\n",
       "      <td>Burundi</td>\n",
       "      <td>305.549773</td>\n",
       "      <td>282.193130</td>\n",
       "      <td>292.997631</td>\n",
       "      <td>271.752044</td>\n",
       "      <td>288.123145</td>\n",
       "      <td>250</td>\n",
       "    </tr>\n",
       "  </tbody>\n",
       "</table>\n",
       "</div>"
      ],
      "text/plain": [
       "                 Country Name        2015        2016        2017        2018  \\\n",
       "32   Central African Republic  377.271254  401.918238  449.786424  475.721251   \n",
       "171                     Niger  360.853384  362.131132  375.869490  413.980305   \n",
       "166                    Malawi  380.597033  315.777326  356.717573  389.398033   \n",
       "211                   Somalia  293.455236  295.967852  309.055355  314.544166   \n",
       "14                    Burundi  305.549773  282.193130  292.997631  271.752044   \n",
       "\n",
       "        average  rank  \n",
       "32   426.174292   246  \n",
       "171  378.208578   247  \n",
       "166  360.622491   248  \n",
       "211  303.255652   249  \n",
       "14   288.123145   250  "
      ]
     },
     "execution_count": 9,
     "metadata": {},
     "output_type": "execute_result"
    }
   ],
   "source": [
    "gdp.tail()"
   ]
  },
  {
   "cell_type": "code",
   "execution_count": 10,
   "metadata": {},
   "outputs": [],
   "source": [
    "whr15 = pd.read_csv('C:/Users/valer/Desktop/Capstone/World_Happiness_Report/data/2015.csv')"
   ]
  },
  {
   "cell_type": "code",
   "execution_count": 11,
   "metadata": {},
   "outputs": [],
   "source": [
    "gdp = gdp.rename(columns={'Country Name' : 'Country'})"
   ]
  },
  {
   "cell_type": "code",
   "execution_count": 26,
   "metadata": {
    "scrolled": true
   },
   "outputs": [
    {
     "data": {
      "text/html": [
       "<div>\n",
       "<style scoped>\n",
       "    .dataframe tbody tr th:only-of-type {\n",
       "        vertical-align: middle;\n",
       "    }\n",
       "\n",
       "    .dataframe tbody tr th {\n",
       "        vertical-align: top;\n",
       "    }\n",
       "\n",
       "    .dataframe thead th {\n",
       "        text-align: right;\n",
       "    }\n",
       "</style>\n",
       "<table border=\"1\" class=\"dataframe\">\n",
       "  <thead>\n",
       "    <tr style=\"text-align: right;\">\n",
       "      <th></th>\n",
       "      <th>Country</th>\n",
       "      <th>2015</th>\n",
       "      <th>2016</th>\n",
       "      <th>2017</th>\n",
       "      <th>2018</th>\n",
       "      <th>average</th>\n",
       "      <th>rank</th>\n",
       "      <th>Region</th>\n",
       "      <th>Happiness Rank</th>\n",
       "      <th>Happiness Score</th>\n",
       "      <th>Standard Error</th>\n",
       "      <th>Economy (GDP per Capita)</th>\n",
       "      <th>Family</th>\n",
       "      <th>Health (Life Expectancy)</th>\n",
       "      <th>Freedom</th>\n",
       "      <th>Trust (Government Corruption)</th>\n",
       "      <th>Generosity</th>\n",
       "      <th>Dystopia Residual</th>\n",
       "    </tr>\n",
       "  </thead>\n",
       "  <tbody>\n",
       "    <tr>\n",
       "      <th>0</th>\n",
       "      <td>Luxembourg</td>\n",
       "      <td>101376.496574</td>\n",
       "      <td>104278.390972</td>\n",
       "      <td>107361.306947</td>\n",
       "      <td>116639.888047</td>\n",
       "      <td>107414.020635</td>\n",
       "      <td>3</td>\n",
       "      <td>Western Europe</td>\n",
       "      <td>17</td>\n",
       "      <td>6.946</td>\n",
       "      <td>0.03499</td>\n",
       "      <td>1.56391</td>\n",
       "      <td>1.21963</td>\n",
       "      <td>0.91894</td>\n",
       "      <td>0.61583</td>\n",
       "      <td>0.37798</td>\n",
       "      <td>0.28034</td>\n",
       "      <td>1.96961</td>\n",
       "    </tr>\n",
       "    <tr>\n",
       "      <th>1</th>\n",
       "      <td>Switzerland</td>\n",
       "      <td>82081.609206</td>\n",
       "      <td>80172.193304</td>\n",
       "      <td>80450.045820</td>\n",
       "      <td>82796.547163</td>\n",
       "      <td>81375.098873</td>\n",
       "      <td>4</td>\n",
       "      <td>Western Europe</td>\n",
       "      <td>1</td>\n",
       "      <td>7.587</td>\n",
       "      <td>0.03411</td>\n",
       "      <td>1.39651</td>\n",
       "      <td>1.34951</td>\n",
       "      <td>0.94143</td>\n",
       "      <td>0.66557</td>\n",
       "      <td>0.41978</td>\n",
       "      <td>0.29678</td>\n",
       "      <td>2.51738</td>\n",
       "    </tr>\n",
       "    <tr>\n",
       "      <th>2</th>\n",
       "      <td>Norway</td>\n",
       "      <td>74355.515858</td>\n",
       "      <td>70460.560532</td>\n",
       "      <td>75496.754058</td>\n",
       "      <td>81697.245984</td>\n",
       "      <td>75502.519108</td>\n",
       "      <td>8</td>\n",
       "      <td>Western Europe</td>\n",
       "      <td>4</td>\n",
       "      <td>7.522</td>\n",
       "      <td>0.03880</td>\n",
       "      <td>1.45900</td>\n",
       "      <td>1.33095</td>\n",
       "      <td>0.88521</td>\n",
       "      <td>0.66973</td>\n",
       "      <td>0.36503</td>\n",
       "      <td>0.34699</td>\n",
       "      <td>2.46531</td>\n",
       "    </tr>\n",
       "    <tr>\n",
       "      <th>3</th>\n",
       "      <td>Ireland</td>\n",
       "      <td>61995.422779</td>\n",
       "      <td>63197.082374</td>\n",
       "      <td>69649.882740</td>\n",
       "      <td>78806.431996</td>\n",
       "      <td>68412.204972</td>\n",
       "      <td>9</td>\n",
       "      <td>Western Europe</td>\n",
       "      <td>18</td>\n",
       "      <td>6.940</td>\n",
       "      <td>0.03676</td>\n",
       "      <td>1.33596</td>\n",
       "      <td>1.36948</td>\n",
       "      <td>0.89533</td>\n",
       "      <td>0.61777</td>\n",
       "      <td>0.28703</td>\n",
       "      <td>0.45901</td>\n",
       "      <td>1.97570</td>\n",
       "    </tr>\n",
       "    <tr>\n",
       "      <th>4</th>\n",
       "      <td>Iceland</td>\n",
       "      <td>52428.595763</td>\n",
       "      <td>61757.949306</td>\n",
       "      <td>71314.774196</td>\n",
       "      <td>73191.116315</td>\n",
       "      <td>64673.108895</td>\n",
       "      <td>10</td>\n",
       "      <td>Western Europe</td>\n",
       "      <td>2</td>\n",
       "      <td>7.561</td>\n",
       "      <td>0.04884</td>\n",
       "      <td>1.30232</td>\n",
       "      <td>1.40223</td>\n",
       "      <td>0.94784</td>\n",
       "      <td>0.62877</td>\n",
       "      <td>0.14145</td>\n",
       "      <td>0.43630</td>\n",
       "      <td>2.70201</td>\n",
       "    </tr>\n",
       "  </tbody>\n",
       "</table>\n",
       "</div>"
      ],
      "text/plain": [
       "       Country           2015           2016           2017           2018  \\\n",
       "0   Luxembourg  101376.496574  104278.390972  107361.306947  116639.888047   \n",
       "1  Switzerland   82081.609206   80172.193304   80450.045820   82796.547163   \n",
       "2       Norway   74355.515858   70460.560532   75496.754058   81697.245984   \n",
       "3      Ireland   61995.422779   63197.082374   69649.882740   78806.431996   \n",
       "4      Iceland   52428.595763   61757.949306   71314.774196   73191.116315   \n",
       "\n",
       "         average  rank          Region  Happiness Rank  Happiness Score  \\\n",
       "0  107414.020635     3  Western Europe              17            6.946   \n",
       "1   81375.098873     4  Western Europe               1            7.587   \n",
       "2   75502.519108     8  Western Europe               4            7.522   \n",
       "3   68412.204972     9  Western Europe              18            6.940   \n",
       "4   64673.108895    10  Western Europe               2            7.561   \n",
       "\n",
       "   Standard Error  Economy (GDP per Capita)   Family  \\\n",
       "0         0.03499                   1.56391  1.21963   \n",
       "1         0.03411                   1.39651  1.34951   \n",
       "2         0.03880                   1.45900  1.33095   \n",
       "3         0.03676                   1.33596  1.36948   \n",
       "4         0.04884                   1.30232  1.40223   \n",
       "\n",
       "   Health (Life Expectancy)  Freedom  Trust (Government Corruption)  \\\n",
       "0                   0.91894  0.61583                        0.37798   \n",
       "1                   0.94143  0.66557                        0.41978   \n",
       "2                   0.88521  0.66973                        0.36503   \n",
       "3                   0.89533  0.61777                        0.28703   \n",
       "4                   0.94784  0.62877                        0.14145   \n",
       "\n",
       "   Generosity  Dystopia Residual  \n",
       "0     0.28034            1.96961  \n",
       "1     0.29678            2.51738  \n",
       "2     0.34699            2.46531  \n",
       "3     0.45901            1.97570  \n",
       "4     0.43630            2.70201  "
      ]
     },
     "execution_count": 26,
     "metadata": {},
     "output_type": "execute_result"
    }
   ],
   "source": [
    "gdp_whr15 = gdp.merge(whr15, on='Country', how='inner')\n",
    "gdp_whr15.head()"
   ]
  },
  {
   "cell_type": "code",
   "execution_count": 13,
   "metadata": {},
   "outputs": [],
   "source": [
    "gdp_whr15['dystopia_rank'] = gdp_whr15['Dystopia Residual'].rank(ascending=False)"
   ]
  },
  {
   "cell_type": "code",
   "execution_count": 14,
   "metadata": {
    "scrolled": false
   },
   "outputs": [
    {
     "data": {
      "text/plain": [
       "Text(0.5, 1.0, 'GDP per Capita vs Happiness Rank')"
      ]
     },
     "execution_count": 14,
     "metadata": {},
     "output_type": "execute_result"
    },
    {
     "data": {
      "image/png": "[encoded data removed]",
      "text/plain": [
       "<Figure size 864x576 with 1 Axes>"
      ]
     },
     "metadata": {
      "needs_background": "light"
     },
     "output_type": "display_data"
    }
   ],
   "source": [
    "plt.figure(figsize=(12,8))\n",
    "sns.scatterplot(data=gdp_whr15, x='Happiness Rank', y='rank', hue='Country', legend=False)\n",
    "plt.xlabel('Happiness Rank', fontsize=12)\n",
    "plt.ylabel('GDP per Capita Rank', fontsize=12)\n",
    "plt.title('GDP per Capita vs Happiness Rank')"
   ]
  },
  {
   "cell_type": "code",
   "execution_count": 18,
   "metadata": {},
   "outputs": [
    {
     "data": {
      "text/plain": [
       "Text(0.5, 1.0, 'GDP per Capita vs Dystopia Rank')"
      ]
     },
     "execution_count": 18,
     "metadata": {},
     "output_type": "execute_result"
    },
    {
     "data": {
      "image/png": "[encoded data removed]",
      "text/plain": [
       "<Figure size 864x576 with 1 Axes>"
      ]
     },
     "metadata": {
      "needs_background": "light"
     },
     "output_type": "display_data"
    }
   ],
   "source": [
    "plt.figure(figsize=(12,8))\n",
    "sns.scatterplot(data=gdp_whr15, x='dystopia_rank', y='rank', hue='Country', legend=False)\n",
    "plt.xlabel('Dystopia Rank', fontsize=12)\n",
    "plt.ylabel('GDP per Capita Rank', fontsize=12)\n",
    "plt.title('GDP per Capita vs Dystopia Rank', fontsize=14)"
   ]
  },
  {
   "cell_type": "code",
   "execution_count": 19,
   "metadata": {},
   "outputs": [
    {
     "data": {
      "text/plain": [
       "15640.914619274712"
      ]
     },
     "execution_count": 19,
     "metadata": {},
     "output_type": "execute_result"
    }
   ],
   "source": [
    "gdp.average.mean()"
   ]
  },
  {
   "cell_type": "code",
   "execution_count": 20,
   "metadata": {},
   "outputs": [],
   "source": [
    "top_countries = ('Denmark', 'Switzerland', 'Iceland', 'Norway', 'Finland', 'Canada', 'Netherlands', 'New Zealand', \n",
    "'Australia', 'Sweden', 'Austria')\n",
    "\n",
    "gdp_top = gdp.loc[gdp['Country'].isin(top_countries)]"
   ]
  },
  {
   "cell_type": "code",
   "execution_count": 21,
   "metadata": {},
   "outputs": [
    {
     "data": {
      "text/plain": [
       "Text(0.5, 1.0, 'GDP per Capita of Happiest Countries')"
      ]
     },
     "execution_count": 21,
     "metadata": {},
     "output_type": "execute_result"
    },
    {
     "data": {
      "image/png": "[encoded data removed]",
      "text/plain": [
       "<Figure size 720x432 with 1 Axes>"
      ]
     },
     "metadata": {
      "needs_background": "light"
     },
     "output_type": "display_data"
    }
   ],
   "source": [
    "gdp_top.plot(kind='bar', x='Country', y='average', color='c', figsize=(10,6))\n",
    "plt.axhline(y=15641, color='black', linestyle='--')\n",
    "\n",
    "plt.legend(labels=('World Avg.', 'GDP per Capita Avg.'))\n",
    "plt.xlabel('')\n",
    "plt.ylabel('GDP per Capita', fontsize=12)\n",
    "plt.title('GDP per Capita of Happiest Countries', fontsize=14)"
   ]
  },
  {
   "cell_type": "code",
   "execution_count": 22,
   "metadata": {},
   "outputs": [],
   "source": [
    "bottom_countries = ('Togo', 'Burundi', 'Syria', 'Benin', 'Rwanda', 'Afghanistan', 'Burkina Faso', 'Ivory Coast', 'Guinea',\n",
    "'Chad', 'Liberia', 'Tanzania', 'Madagascar', 'Central African Republic', 'South Sudan', 'Yemen', 'Haiti', 'Malawi', 'Botswana')\n",
    "\n",
    "gdp_bottom = gdp.loc[gdp['Country'].isin(bottom_countries)]"
   ]
  },
  {
   "cell_type": "code",
   "execution_count": 23,
   "metadata": {},
   "outputs": [
    {
     "data": {
      "text/plain": [
       "Text(0.5, 1.0, 'GDP per Capita of Least Happiest Countries')"
      ]
     },
     "execution_count": 23,
     "metadata": {},
     "output_type": "execute_result"
    },
    {
     "data": {
      "image/png": "[encoded data removed]",
      "text/plain": [
       "<Figure size 720x432 with 1 Axes>"
      ]
     },
     "metadata": {
      "needs_background": "light"
     },
     "output_type": "display_data"
    }
   ],
   "source": [
    "gdp_bottom.plot(kind='bar', x='Country', y='average', color='c', figsize=(10,6))\n",
    "plt.axhline(y=15641, color='black', linestyle='--')\n",
    "plt.legend(labels=('World Avg.', 'GDP per Capita Avg.'))\n",
    "plt.xlabel('')\n",
    "plt.ylabel('GDP per Capita', fontsize=12)\n",
    "plt.title('GDP per Capita of Least Happiest Countries', fontsize=14)"
   ]
  },
  {
   "cell_type": "code",
   "execution_count": 25,
   "metadata": {},
   "outputs": [
    {
     "data": {
      "application/vnd.plotly.v1+json": {
       "config": {
        "linkText": "Export to plot.ly",
        "plotlyServerURL": "https://plot.ly",
        "showLink": false
       },
       "data": [
        {
         "colorbar": {
          "title": {
           "text": "GDP per Capita"
          }
         },
         "colorscale": [
          [
           0,
           "rgb(158,1,66)"
          ],
          [
           0.1,
           "rgb(213,62,79)"
          ],
          [
           0.2,
           "rgb(244,109,67)"
          ],
          [
           0.3,
           "rgb(253,174,97)"
          ],
          [
           0.4,
           "rgb(254,224,139)"
          ],
          [
           0.5,
           "rgb(255,255,191)"
          ],
          [
           0.6,
           "rgb(230,245,152)"
          ],
          [
           0.7,
           "rgb(171,221,164)"
          ],
          [
           0.8,
           "rgb(102,194,165)"
          ],
          [
           0.9,
           "rgb(50,136,189)"
          ],
          [
           1,
           "rgb(94,79,162)"
          ]
         ],
         "locationmode": "country names",
         "locations": [
          "Monaco",
          "Liechtenstein",
          "Luxembourg",
          "Switzerland",
          "Isle of Man",
          "Macao SAR, China",
          "Cayman Islands",
          "Norway",
          "Ireland",
          "Iceland",
          "Qatar",
          "United States",
          "Singapore",
          "North America",
          "Denmark",
          "Australia",
          "Faroe Islands",
          "Sweden",
          "Netherlands",
          "Austria",
          "San Marino",
          "Greenland",
          "Finland",
          "Hong Kong SAR, China",
          "Canada",
          "Germany",
          "Belgium",
          "Post-demographic dividend",
          "United Kingdom",
          "High income",
          "New Zealand",
          "United Arab Emirates",
          "Israel",
          "Andorra",
          "France",
          "OECD members",
          "Japan",
          "Euro area",
          "Virgin Islands (U.S.)",
          "Guam",
          "European Union",
          "Italy",
          "Bahamas, The",
          "Puerto Rico",
          "Kuwait",
          "Brunei Darussalam",
          "Korea, Rep.",
          "Spain",
          "Malta",
          "Turks and Caicos Islands",
          "Aruba",
          "Cyprus",
          "Europe & Central Asia",
          "Bahrain",
          "Slovenia",
          "Northern Mariana Islands",
          "Saudi Arabia",
          "Portugal",
          "Czech Republic",
          "Estonia",
          "Curacao",
          "Greece",
          "St. Kitts and Nevis",
          "Slovak Republic",
          "Barbados",
          "Trinidad and Tobago",
          "Lithuania",
          "Palau",
          "Uruguay",
          "Oman",
          "Seychelles",
          "Antigua and Barbuda",
          "Latvia",
          "Panama",
          "Chile",
          "Hungary",
          "Central Europe and the Baltics",
          "Poland",
          "Other small states",
          "Argentina",
          "Croatia",
          "Small states",
          "Costa Rica",
          "American Samoa",
          "World",
          "Romania",
          "Turkey",
          "Malaysia",
          "East Asia & Pacific",
          "Mauritius",
          "Equatorial Guinea",
          "Russian Federation",
          "Grenada",
          "St. Lucia",
          "Caribbean small states",
          "Maldives",
          "Mexico",
          "Kazakhstan",
          "Brazil",
          "Latin America & Caribbean",
          "Latin America & the Caribbean (IDA & IBRD countries)",
          "Late-demographic dividend",
          "China",
          "Nauru",
          "Latin America & Caribbean (excluding high income)",
          "Upper middle income",
          "Cuba",
          "Europe & Central Asia (IDA & IBRD countries)",
          "Bulgaria",
          "Lebanon",
          "Europe & Central Asia (excluding high income)",
          "Dominica",
          "Botswana",
          "Montenegro",
          "Middle East & North Africa",
          "Dominican Republic",
          "Gabon",
          "St. Vincent and the Grenadines",
          "East Asia & Pacific (IDA & IBRD countries)",
          "East Asia & Pacific (excluding high income)",
          "Turkmenistan",
          "Peru",
          "Suriname",
          "Thailand",
          "Arab World",
          "Colombia",
          "Serbia",
          "Ecuador",
          "IBRD only",
          "South Africa",
          "Fiji",
          "Belarus",
          "Paraguay",
          "North Macedonia",
          "Namibia",
          "Libya",
          "Bosnia and Herzegovina",
          "Iran, Islamic Rep.",
          "Iraq",
          "Middle income",
          "Jamaica",
          "Belize",
          "IDA & IBRD total",
          "Low & middle income",
          "Guyana",
          "Azerbaijan",
          "Albania",
          "Georgia",
          "Guatemala",
          "Tonga",
          "Samoa",
          "Jordan",
          "Algeria",
          "Pacific island small states",
          "Sri Lanka",
          "Middle East & North Africa (IDA & IBRD countries)",
          "Middle East & North Africa (excluding high income)",
          "Kosovo",
          "El Salvador",
          "Mongolia",
          "Armenia",
          "Eswatini",
          "Angola",
          "Indonesia",
          "Tunisia",
          "Marshall Islands",
          "Early-demographic dividend",
          "Tuvalu",
          "Cabo Verde",
          "Bolivia",
          "Micronesia, Fed. Sts.",
          "Bhutan",
          "West Bank and Gaza",
          "Egypt, Arab Rep.",
          "Morocco",
          "Vanuatu",
          "Philippines",
          "Djibouti",
          "Papua New Guinea",
          "Moldova",
          "Ukraine",
          "Honduras",
          "Lao PDR",
          "Vietnam",
          "Nigeria",
          "Sudan",
          "Timor-Leste",
          "Uzbekistan",
          "Lower middle income",
          "Nicaragua",
          "Solomon Islands",
          "Ghana",
          "Congo, Rep.",
          "India",
          "IDA blend",
          "Sao Tome and Principe",
          "South Asia (IDA & IBRD)",
          "South Asia",
          "Zimbabwe",
          "Fragile and conflict affected situations",
          "Sub-Saharan Africa (IDA & IBRD countries)",
          "Sub-Saharan Africa",
          "Sub-Saharan Africa (excluding high income)",
          "Kiribati",
          "Cote d'Ivoire",
          "Kenya",
          "Pre-demographic dividend",
          "Bangladesh",
          "Zambia",
          "Pakistan",
          "Cameroon",
          "IDA total",
          "Senegal",
          "Cambodia",
          "Comoros",
          "Myanmar",
          "Kyrgyz Republic",
          "Lesotho",
          "Yemen, Rep.",
          "Mauritania",
          "IDA only",
          "Least developed countries: UN classification",
          "Tanzania",
          "Heavily indebted poor countries (HIPC)",
          "Nepal",
          "Tajikistan",
          "Benin",
          "Mali",
          "Guinea",
          "Haiti",
          "Low income",
          "Rwanda",
          "Ethiopia",
          "Chad",
          "Liberia",
          "Gambia, The",
          "Guinea-Bissau",
          "Uganda",
          "Burkina Faso",
          "Togo",
          "Afghanistan",
          "Sierra Leone",
          "Congo, Dem. Rep.",
          "Madagascar",
          "Mozambique",
          "Central African Republic",
          "Niger",
          "Malawi",
          "Somalia",
          "Burundi"
         ],
         "text": [
          "Monaco",
          "Liechtenstein",
          "Luxembourg",
          "Switzerland",
          "Isle of Man",
          "Macao SAR, China",
          "Cayman Islands",
          "Norway",
          "Ireland",
          "Iceland",
          "Qatar",
          "United States",
          "Singapore",
          "North America",
          "Denmark",
          "Australia",
          "Faroe Islands",
          "Sweden",
          "Netherlands",
          "Austria",
          "San Marino",
          "Greenland",
          "Finland",
          "Hong Kong SAR, China",
          "Canada",
          "Germany",
          "Belgium",
          "Post-demographic dividend",
          "United Kingdom",
          "High income",
          "New Zealand",
          "United Arab Emirates",
          "Israel",
          "Andorra",
          "France",
          "OECD members",
          "Japan",
          "Euro area",
          "Virgin Islands (U.S.)",
          "Guam",
          "European Union",
          "Italy",
          "Bahamas, The",
          "Puerto Rico",
          "Kuwait",
          "Brunei Darussalam",
          "Korea, Rep.",
          "Spain",
          "Malta",
          "Turks and Caicos Islands",
          "Aruba",
          "Cyprus",
          "Europe & Central Asia",
          "Bahrain",
          "Slovenia",
          "Northern Mariana Islands",
          "Saudi Arabia",
          "Portugal",
          "Czech Republic",
          "Estonia",
          "Curacao",
          "Greece",
          "St. Kitts and Nevis",
          "Slovak Republic",
          "Barbados",
          "Trinidad and Tobago",
          "Lithuania",
          "Palau",
          "Uruguay",
          "Oman",
          "Seychelles",
          "Antigua and Barbuda",
          "Latvia",
          "Panama",
          "Chile",
          "Hungary",
          "Central Europe and the Baltics",
          "Poland",
          "Other small states",
          "Argentina",
          "Croatia",
          "Small states",
          "Costa Rica",
          "American Samoa",
          "World",
          "Romania",
          "Turkey",
          "Malaysia",
          "East Asia & Pacific",
          "Mauritius",
          "Equatorial Guinea",
          "Russian Federation",
          "Grenada",
          "St. Lucia",
          "Caribbean small states",
          "Maldives",
          "Mexico",
          "Kazakhstan",
          "Brazil",
          "Latin America & Caribbean",
          "Latin America & the Caribbean (IDA & IBRD countries)",
          "Late-demographic dividend",
          "China",
          "Nauru",
          "Latin America & Caribbean (excluding high income)",
          "Upper middle income",
          "Cuba",
          "Europe & Central Asia (IDA & IBRD countries)",
          "Bulgaria",
          "Lebanon",
          "Europe & Central Asia (excluding high income)",
          "Dominica",
          "Botswana",
          "Montenegro",
          "Middle East & North Africa",
          "Dominican Republic",
          "Gabon",
          "St. Vincent and the Grenadines",
          "East Asia & Pacific (IDA & IBRD countries)",
          "East Asia & Pacific (excluding high income)",
          "Turkmenistan",
          "Peru",
          "Suriname",
          "Thailand",
          "Arab World",
          "Colombia",
          "Serbia",
          "Ecuador",
          "IBRD only",
          "South Africa",
          "Fiji",
          "Belarus",
          "Paraguay",
          "North Macedonia",
          "Namibia",
          "Libya",
          "Bosnia and Herzegovina",
          "Iran, Islamic Rep.",
          "Iraq",
          "Middle income",
          "Jamaica",
          "Belize",
          "IDA & IBRD total",
          "Low & middle income",
          "Guyana",
          "Azerbaijan",
          "Albania",
          "Georgia",
          "Guatemala",
          "Tonga",
          "Samoa",
          "Jordan",
          "Algeria",
          "Pacific island small states",
          "Sri Lanka",
          "Middle East & North Africa (IDA & IBRD countries)",
          "Middle East & North Africa (excluding high income)",
          "Kosovo",
          "El Salvador",
          "Mongolia",
          "Armenia",
          "Eswatini",
          "Angola",
          "Indonesia",
          "Tunisia",
          "Marshall Islands",
          "Early-demographic dividend",
          "Tuvalu",
          "Cabo Verde",
          "Bolivia",
          "Micronesia, Fed. Sts.",
          "Bhutan",
          "West Bank and Gaza",
          "Egypt, Arab Rep.",
          "Morocco",
          "Vanuatu",
          "Philippines",
          "Djibouti",
          "Papua New Guinea",
          "Moldova",
          "Ukraine",
          "Honduras",
          "Lao PDR",
          "Vietnam",
          "Nigeria",
          "Sudan",
          "Timor-Leste",
          "Uzbekistan",
          "Lower middle income",
          "Nicaragua",
          "Solomon Islands",
          "Ghana",
          "Congo, Rep.",
          "India",
          "IDA blend",
          "Sao Tome and Principe",
          "South Asia (IDA & IBRD)",
          "South Asia",
          "Zimbabwe",
          "Fragile and conflict affected situations",
          "Sub-Saharan Africa (IDA & IBRD countries)",
          "Sub-Saharan Africa",
          "Sub-Saharan Africa (excluding high income)",
          "Kiribati",
          "Cote d'Ivoire",
          "Kenya",
          "Pre-demographic dividend",
          "Bangladesh",
          "Zambia",
          "Pakistan",
          "Cameroon",
          "IDA total",
          "Senegal",
          "Cambodia",
          "Comoros",
          "Myanmar",
          "Kyrgyz Republic",
          "Lesotho",
          "Yemen, Rep.",
          "Mauritania",
          "IDA only",
          "Least developed countries: UN classification",
          "Tanzania",
          "Heavily indebted poor countries (HIPC)",
          "Nepal",
          "Tajikistan",
          "Benin",
          "Mali",
          "Guinea",
          "Haiti",
          "Low income",
          "Rwanda",
          "Ethiopia",
          "Chad",
          "Liberia",
          "Gambia, The",
          "Guinea-Bissau",
          "Uganda",
          "Burkina Faso",
          "Togo",
          "Afghanistan",
          "Sierra Leone",
          "Congo, Dem. Rep.",
          "Madagascar",
          "Mozambique",
          "Central African Republic",
          "Niger",
          "Malawi",
          "Somalia",
          "Burundi"
         ],
         "type": "choropleth",
         "z": [
          172174.17738796235,
          166159.592506547,
          107414.02063515599,
          81375.09887308454,
          80583.66463897987,
          79531.8209632829,
          78567.03321984659,
          75502.51910794327,
          68412.20497241366,
          64673.108895200305,
          62565.06461542561,
          59357.54747018731,
          59312.631732963215,
          57842.03811545338,
          56602.56553008063,
          54541.752780323426,
          54113.78702674086,
          52931.044399580715,
          48190.53407581583,
          47077.35946449307,
          46987.16346430191,
          46359.13774808195,
          45733.23109483734,
          45266.884151119324,
          44269.46802182079,
          43770.384189185956,
          43685.52651828979,
          42391.99322261587,
          42336.39721448495,
          42037.5330092657,
          40697.96402009553,
          39905.45465635832,
          38838.827645613346,
          38606.97963012298,
          38429.59216925616,
          38136.26360875006,
          37735.18465848284,
          36607.740497056155,
          35555.568703090634,
          35542.5326524417,
          33805.578687460555,
          31994.09937317659,
          31759.978212052374,
          30849.39774966609,
          30319.158201439786,
          29630.715252169593,
          28954.72849731568,
          27677.346825823068,
          26652.589620268263,
          25975.901016324184,
          25555.415717946114,
          25289.17160575,
          23384.012400516305,
          23268.58017779237,
          23017.75640090158,
          22625.302904126194,
          21162.484084072363,
          21016.505444635557,
          19909.368238542036,
          19840.930507584893,
          19633.029427664802,
          18872.986742581452,
          18818.03022485625,
          17441.966512297084,
          17219.915998606353,
          16958.689498087853,
          16310.735539938425,
          16185.469635449343,
          16179.030820653494,
          15604.547423753946,
          15485.193067921433,
          15398.52665286263,
          15315.263095354432,
          14681.957252082952,
          14570.742128021064,
          14065.883320905272,
          13847.26079353254,
          13570.444214490602,
          13362.579225647634,
          13213.778975176785,
          13116.35273558271,
          12118.230759534448,
          11686.375184196424,
          11457.605563867219,
          10642.569163114153,
          10413.366803621622,
          10413.295802065993,
          10350.112503581164,
          10197.39839730943,
          10166.416156585085,
          10130.79374371997,
          10024.65555534868,
          9882.336186419421,
          9830.008159739204,
          9698.89532582316,
          9528.482250183872,
          9324.392558946125,
          9321.449050003004,
          9082.149169783572,
          8971.51775321515,
          8820.325134849361,
          8744.991631045072,
          8660.516795765821,
          8641.930902284617,
          8526.261803576013,
          8459.532806941716,
          8279.459342680082,
          8246.70486543859,
          7990.969998561275,
          7848.227553730971,
          7710.628713269153,
          7660.8675290706005,
          7548.895001063539,
          7542.877886870901,
          7530.683185925686,
          7465.591907085427,
          7381.62939530965,
          7142.576259191824,
          7062.1936186057155,
          6988.530019737152,
          6593.9887093007055,
          6521.46070818893,
          6444.965271288101,
          6417.602618552538,
          6390.23242965475,
          6272.705578991253,
          6218.105864686815,
          6185.739556666162,
          5890.770267942078,
          5878.515022659757,
          5852.515523972548,
          5755.854655903644,
          5557.127291541792,
          5367.698262717293,
          5349.258739865707,
          5342.810269002813,
          5295.556112434653,
          5269.913946990077,
          5201.496009926058,
          5097.347326346704,
          5043.5657226823405,
          4841.6554282180805,
          4744.293580334706,
          4630.413873281719,
          4568.451835593938,
          4562.3317575865085,
          4469.66925779811,
          4287.627620508305,
          4270.9458111958465,
          4217.0716446194,
          4156.181323241596,
          4153.44800736354,
          4070.8255988454034,
          4009.997058240745,
          3984.296126711457,
          3916.7325984740905,
          3907.5716526136002,
          3880.4249667464546,
          3866.534515208805,
          3842.4699737883384,
          3831.4245458487767,
          3809.069370999973,
          3800.3128116255384,
          3656.2626938677736,
          3622.3604184579,
          3535.6178155153298,
          3435.936281728293,
          3431.752388856204,
          3275.5122045952194,
          3253.0863391785256,
          3194.767322817334,
          3148.458396992799,
          3123.873857486643,
          3028.40838439996,
          3011.7439636217396,
          2974.510650853145,
          2973.252886238943,
          2876.807125140421,
          2653.6259321330026,
          2600.8611541112796,
          2512.0609799223853,
          2398.715983624866,
          2352.4612523125134,
          2302.3836595058265,
          2225.7928881004523,
          2219.2864010330845,
          2168.6406951267345,
          2135.4407342737077,
          2112.4707439546214,
          2088.626707885755,
          2024.4050703114624,
          1981.3982982308894,
          1856.431949527319,
          1831.5302537429254,
          1820.5415230168774,
          1779.5364763382674,
          1740.0817189076472,
          1740.0817189076472,
          1664.7636207237508,
          1612.6885139714377,
          1597.4783982987685,
          1597.4783982987685,
          1596.2026414352204,
          1594.5611912366385,
          1545.2060601939081,
          1506.5306394470945,
          1479.7125287861184,
          1478.0827275302408,
          1423.2850725623098,
          1418.1296126598263,
          1411.4256901483527,
          1351.2754041630762,
          1344.2442889172714,
          1334.3298038137127,
          1312.5255792670728,
          1225.3199557651874,
          1191.4706629303892,
          1188.2958178799174,
          1164.1295251494605,
          1162.9178241588324,
          1108.7419797258722,
          1048.341304075889,
          992.4811108262879,
          943.4917106830188,
          878.7642958601418,
          841.0692412283294,
          826.0964990829063,
          814.8043527559103,
          809.097859867307,
          796.2748434375915,
          794.6007759900851,
          747.5721720902006,
          724.601260009964,
          715.3331676035416,
          700.2577982120049,
          684.8343532782028,
          666.9639113601228,
          648.0065594427138,
          628.915660299982,
          617.8870563767083,
          550.7233010799288,
          530.7540144098442,
          499.37180526759056,
          496.49616675542245,
          494.78945761864907,
          426.17429156171954,
          378.2085777452229,
          360.62249146142943,
          303.25565194572476,
          288.12314456582953
         ]
        }
       ],
       "layout": {
        "geo": {
         "projection": {
          "type": "miller"
         },
         "showframe": false
        },
        "template": {
         "data": {
          "bar": [
           {
            "error_x": {
             "color": "#2a3f5f"
            },
            "error_y": {
             "color": "#2a3f5f"
            },
            "marker": {
             "line": {
              "color": "#E5ECF6",
              "width": 0.5
             }
            },
            "type": "bar"
           }
          ],
          "barpolar": [
           {
            "marker": {
             "line": {
              "color": "#E5ECF6",
              "width": 0.5
             }
            },
            "type": "barpolar"
           }
          ],
          "carpet": [
           {
            "aaxis": {
             "endlinecolor": "#2a3f5f",
             "gridcolor": "white",
             "linecolor": "white",
             "minorgridcolor": "white",
             "startlinecolor": "#2a3f5f"
            },
            "baxis": {
             "endlinecolor": "#2a3f5f",
             "gridcolor": "white",
             "linecolor": "white",
             "minorgridcolor": "white",
             "startlinecolor": "#2a3f5f"
            },
            "type": "carpet"
           }
          ],
          "choropleth": [
           {
            "colorbar": {
             "outlinewidth": 0,
             "ticks": ""
            },
            "type": "choropleth"
           }
          ],
          "contour": [
           {
            "colorbar": {
             "outlinewidth": 0,
             "ticks": ""
            },
            "colorscale": [
             [
              0,
              "#0d0887"
             ],
             [
              0.1111111111111111,
              "#46039f"
             ],
             [
              0.2222222222222222,
              "#7201a8"
             ],
             [
              0.3333333333333333,
              "#9c179e"
             ],
             [
              0.4444444444444444,
              "#bd3786"
             ],
             [
              0.5555555555555556,
              "#d8576b"
             ],
             [
              0.6666666666666666,
              "#ed7953"
             ],
             [
              0.7777777777777778,
              "#fb9f3a"
             ],
             [
              0.8888888888888888,
              "#fdca26"
             ],
             [
              1,
              "#f0f921"
             ]
            ],
            "type": "contour"
           }
          ],
          "contourcarpet": [
           {
            "colorbar": {
             "outlinewidth": 0,
             "ticks": ""
            },
            "type": "contourcarpet"
           }
          ],
          "heatmap": [
           {
            "colorbar": {
             "outlinewidth": 0,
             "ticks": ""
            },
            "colorscale": [
             [
              0,
              "#0d0887"
             ],
             [
              0.1111111111111111,
              "#46039f"
             ],
             [
              0.2222222222222222,
              "#7201a8"
             ],
             [
              0.3333333333333333,
              "#9c179e"
             ],
             [
              0.4444444444444444,
              "#bd3786"
             ],
             [
              0.5555555555555556,
              "#d8576b"
             ],
             [
              0.6666666666666666,
              "#ed7953"
             ],
             [
              0.7777777777777778,
              "#fb9f3a"
             ],
             [
              0.8888888888888888,
              "#fdca26"
             ],
             [
              1,
              "#f0f921"
             ]
            ],
            "type": "heatmap"
           }
          ],
          "heatmapgl": [
           {
            "colorbar": {
             "outlinewidth": 0,
             "ticks": ""
            },
            "colorscale": [
             [
              0,
              "#0d0887"
             ],
             [
              0.1111111111111111,
              "#46039f"
             ],
             [
              0.2222222222222222,
              "#7201a8"
             ],
             [
              0.3333333333333333,
              "#9c179e"
             ],
             [
              0.4444444444444444,
              "#bd3786"
             ],
             [
              0.5555555555555556,
              "#d8576b"
             ],
             [
              0.6666666666666666,
              "#ed7953"
             ],
             [
              0.7777777777777778,
              "#fb9f3a"
             ],
             [
              0.8888888888888888,
              "#fdca26"
             ],
             [
              1,
              "#f0f921"
             ]
            ],
            "type": "heatmapgl"
           }
          ],
          "histogram": [
           {
            "marker": {
             "colorbar": {
              "outlinewidth": 0,
              "ticks": ""
             }
            },
            "type": "histogram"
           }
          ],
          "histogram2d": [
           {
            "colorbar": {
             "outlinewidth": 0,
             "ticks": ""
            },
            "colorscale": [
             [
              0,
              "#0d0887"
             ],
             [
              0.1111111111111111,
              "#46039f"
             ],
             [
              0.2222222222222222,
              "#7201a8"
             ],
             [
              0.3333333333333333,
              "#9c179e"
             ],
             [
              0.4444444444444444,
              "#bd3786"
             ],
             [
              0.5555555555555556,
              "#d8576b"
             ],
             [
              0.6666666666666666,
              "#ed7953"
             ],
             [
              0.7777777777777778,
              "#fb9f3a"
             ],
             [
              0.8888888888888888,
              "#fdca26"
             ],
             [
              1,
              "#f0f921"
             ]
            ],
            "type": "histogram2d"
           }
          ],
          "histogram2dcontour": [
           {
            "colorbar": {
             "outlinewidth": 0,
             "ticks": ""
            },
            "colorscale": [
             [
              0,
              "#0d0887"
             ],
             [
              0.1111111111111111,
              "#46039f"
             ],
             [
              0.2222222222222222,
              "#7201a8"
             ],
             [
              0.3333333333333333,
              "#9c179e"
             ],
             [
              0.4444444444444444,
              "#bd3786"
             ],
             [
              0.5555555555555556,
              "#d8576b"
             ],
             [
              0.6666666666666666,
              "#ed7953"
             ],
             [
              0.7777777777777778,
              "#fb9f3a"
             ],
             [
              0.8888888888888888,
              "#fdca26"
             ],
             [
              1,
              "#f0f921"
             ]
            ],
            "type": "histogram2dcontour"
           }
          ],
          "mesh3d": [
           {
            "colorbar": {
             "outlinewidth": 0,
             "ticks": ""
            },
            "type": "mesh3d"
           }
          ],
          "parcoords": [
           {
            "line": {
             "colorbar": {
              "outlinewidth": 0,
              "ticks": ""
             }
            },
            "type": "parcoords"
           }
          ],
          "scatter": [
           {
            "marker": {
             "colorbar": {
              "outlinewidth": 0,
              "ticks": ""
             }
            },
            "type": "scatter"
           }
          ],
          "scatter3d": [
           {
            "line": {
             "colorbar": {
              "outlinewidth": 0,
              "ticks": ""
             }
            },
            "marker": {
             "colorbar": {
              "outlinewidth": 0,
              "ticks": ""
             }
            },
            "type": "scatter3d"
           }
          ],
          "scattercarpet": [
           {
            "marker": {
             "colorbar": {
              "outlinewidth": 0,
              "ticks": ""
             }
            },
            "type": "scattercarpet"
           }
          ],
          "scattergeo": [
           {
            "marker": {
             "colorbar": {
              "outlinewidth": 0,
              "ticks": ""
             }
            },
            "type": "scattergeo"
           }
          ],
          "scattergl": [
           {
            "marker": {
             "colorbar": {
              "outlinewidth": 0,
              "ticks": ""
             }
            },
            "type": "scattergl"
           }
          ],
          "scattermapbox": [
           {
            "marker": {
             "colorbar": {
              "outlinewidth": 0,
              "ticks": ""
             }
            },
            "type": "scattermapbox"
           }
          ],
          "scatterpolar": [
           {
            "marker": {
             "colorbar": {
              "outlinewidth": 0,
              "ticks": ""
             }
            },
            "type": "scatterpolar"
           }
          ],
          "scatterpolargl": [
           {
            "marker": {
             "colorbar": {
              "outlinewidth": 0,
              "ticks": ""
             }
            },
            "type": "scatterpolargl"
           }
          ],
          "scatterternary": [
           {
            "marker": {
             "colorbar": {
              "outlinewidth": 0,
              "ticks": ""
             }
            },
            "type": "scatterternary"
           }
          ],
          "surface": [
           {
            "colorbar": {
             "outlinewidth": 0,
             "ticks": ""
            },
            "colorscale": [
             [
              0,
              "#0d0887"
             ],
             [
              0.1111111111111111,
              "#46039f"
             ],
             [
              0.2222222222222222,
              "#7201a8"
             ],
             [
              0.3333333333333333,
              "#9c179e"
             ],
             [
              0.4444444444444444,
              "#bd3786"
             ],
             [
              0.5555555555555556,
              "#d8576b"
             ],
             [
              0.6666666666666666,
              "#ed7953"
             ],
             [
              0.7777777777777778,
              "#fb9f3a"
             ],
             [
              0.8888888888888888,
              "#fdca26"
             ],
             [
              1,
              "#f0f921"
             ]
            ],
            "type": "surface"
           }
          ],
          "table": [
           {
            "cells": {
             "fill": {
              "color": "#EBF0F8"
             },
             "line": {
              "color": "white"
             }
            },
            "header": {
             "fill": {
              "color": "#C8D4E3"
             },
             "line": {
              "color": "white"
             }
            },
            "type": "table"
           }
          ]
         },
         "layout": {
          "annotationdefaults": {
           "arrowcolor": "#2a3f5f",
           "arrowhead": 0,
           "arrowwidth": 1
          },
          "colorscale": {
           "diverging": [
            [
             0,
             "#8e0152"
            ],
            [
             0.1,
             "#c51b7d"
            ],
            [
             0.2,
             "#de77ae"
            ],
            [
             0.3,
             "#f1b6da"
            ],
            [
             0.4,
             "#fde0ef"
            ],
            [
             0.5,
             "#f7f7f7"
            ],
            [
             0.6,
             "#e6f5d0"
            ],
            [
             0.7,
             "#b8e186"
            ],
            [
             0.8,
             "#7fbc41"
            ],
            [
             0.9,
             "#4d9221"
            ],
            [
             1,
             "#276419"
            ]
           ],
           "sequential": [
            [
             0,
             "#0d0887"
            ],
            [
             0.1111111111111111,
             "#46039f"
            ],
            [
             0.2222222222222222,
             "#7201a8"
            ],
            [
             0.3333333333333333,
             "#9c179e"
            ],
            [
             0.4444444444444444,
             "#bd3786"
            ],
            [
             0.5555555555555556,
             "#d8576b"
            ],
            [
             0.6666666666666666,
             "#ed7953"
            ],
            [
             0.7777777777777778,
             "#fb9f3a"
            ],
            [
             0.8888888888888888,
             "#fdca26"
            ],
            [
             1,
             "#f0f921"
            ]
           ],
           "sequentialminus": [
            [
             0,
             "#0d0887"
            ],
            [
             0.1111111111111111,
             "#46039f"
            ],
            [
             0.2222222222222222,
             "#7201a8"
            ],
            [
             0.3333333333333333,
             "#9c179e"
            ],
            [
             0.4444444444444444,
             "#bd3786"
            ],
            [
             0.5555555555555556,
             "#d8576b"
            ],
            [
             0.6666666666666666,
             "#ed7953"
            ],
            [
             0.7777777777777778,
             "#fb9f3a"
            ],
            [
             0.8888888888888888,
             "#fdca26"
            ],
            [
             1,
             "#f0f921"
            ]
           ]
          },
          "colorway": [
           "#636efa",
           "#EF553B",
           "#00cc96",
           "#ab63fa",
           "#FFA15A",
           "#19d3f3",
           "#FF6692",
           "#B6E880",
           "#FF97FF",
           "#FECB52"
          ],
          "font": {
           "color": "#2a3f5f"
          },
          "geo": {
           "bgcolor": "white",
           "lakecolor": "white",
           "landcolor": "#E5ECF6",
           "showlakes": true,
           "showland": true,
           "subunitcolor": "white"
          },
          "hoverlabel": {
           "align": "left"
          },
          "hovermode": "closest",
          "mapbox": {
           "style": "light"
          },
          "paper_bgcolor": "white",
          "plot_bgcolor": "#E5ECF6",
          "polar": {
           "angularaxis": {
            "gridcolor": "white",
            "linecolor": "white",
            "ticks": ""
           },
           "bgcolor": "#E5ECF6",
           "radialaxis": {
            "gridcolor": "white",
            "linecolor": "white",
            "ticks": ""
           }
          },
          "scene": {
           "xaxis": {
            "backgroundcolor": "#E5ECF6",
            "gridcolor": "white",
            "gridwidth": 2,
            "linecolor": "white",
            "showbackground": true,
            "ticks": "",
            "zerolinecolor": "white"
           },
           "yaxis": {
            "backgroundcolor": "#E5ECF6",
            "gridcolor": "white",
            "gridwidth": 2,
            "linecolor": "white",
            "showbackground": true,
            "ticks": "",
            "zerolinecolor": "white"
           },
           "zaxis": {
            "backgroundcolor": "#E5ECF6",
            "gridcolor": "white",
            "gridwidth": 2,
            "linecolor": "white",
            "showbackground": true,
            "ticks": "",
            "zerolinecolor": "white"
           }
          },
          "shapedefaults": {
           "line": {
            "color": "#2a3f5f"
           }
          },
          "ternary": {
           "aaxis": {
            "gridcolor": "white",
            "linecolor": "white",
            "ticks": ""
           },
           "baxis": {
            "gridcolor": "white",
            "linecolor": "white",
            "ticks": ""
           },
           "bgcolor": "#E5ECF6",
           "caxis": {
            "gridcolor": "white",
            "linecolor": "white",
            "ticks": ""
           }
          },
          "title": {
           "x": 0.05
          },
          "xaxis": {
           "automargin": true,
           "gridcolor": "white",
           "linecolor": "white",
           "ticks": "",
           "zerolinecolor": "white",
           "zerolinewidth": 2
          },
          "yaxis": {
           "automargin": true,
           "gridcolor": "white",
           "linecolor": "white",
           "ticks": "",
           "zerolinecolor": "white",
           "zerolinewidth": 2
          }
         }
        },
        "title": {
         "text": "Average GDP per Capita",
         "x": 0.5,
         "xanchor": "center",
         "y": 0.9,
         "yanchor": "top"
        }
       }
      },
      "text/html": [
       "<div>\n",
       "        \n",
       "        \n",
       "            <div id=\"5ff3ce5a-367e-4081-99ab-dd1fa422c06a\" class=\"plotly-graph-div\" style=\"height:525px; width:100%;\"></div>\n",
       "            <script type=\"text/javascript\">\n",
       "                require([\"plotly\"], function(Plotly) {\n",
       "                    window.PLOTLYENV=window.PLOTLYENV || {};\n",
       "                    \n",
       "                if (document.getElementById(\"5ff3ce5a-367e-4081-99ab-dd1fa422c06a\")) {\n",
       "                    Plotly.newPlot(\n",
       "                        '5ff3ce5a-367e-4081-99ab-dd1fa422c06a',\n",
       "                        [{\"colorbar\": {\"title\": {\"text\": \"GDP per Capita\"}}, \"colorscale\": [[0.0, \"rgb(158,1,66)\"], [0.1, \"rgb(213,62,79)\"], [0.2, \"rgb(244,109,67)\"], [0.3, \"rgb(253,174,97)\"], [0.4, \"rgb(254,224,139)\"], [0.5, \"rgb(255,255,191)\"], [0.6, \"rgb(230,245,152)\"], [0.7, \"rgb(171,221,164)\"], [0.8, \"rgb(102,194,165)\"], [0.9, \"rgb(50,136,189)\"], [1.0, \"rgb(94,79,162)\"]], \"locationmode\": \"country names\", \"locations\": [\"Monaco\", \"Liechtenstein\", \"Luxembourg\", \"Switzerland\", \"Isle of Man\", \"Macao SAR, China\", \"Cayman Islands\", \"Norway\", \"Ireland\", \"Iceland\", \"Qatar\", \"United States\", \"Singapore\", \"North America\", \"Denmark\", \"Australia\", \"Faroe Islands\", \"Sweden\", \"Netherlands\", \"Austria\", \"San Marino\", \"Greenland\", \"Finland\", \"Hong Kong SAR, China\", \"Canada\", \"Germany\", \"Belgium\", \"Post-demographic dividend\", \"United Kingdom\", \"High income\", \"New Zealand\", \"United Arab Emirates\", \"Israel\", \"Andorra\", \"France\", \"OECD members\", \"Japan\", \"Euro area\", \"Virgin Islands (U.S.)\", \"Guam\", \"European Union\", \"Italy\", \"Bahamas, The\", \"Puerto Rico\", \"Kuwait\", \"Brunei Darussalam\", \"Korea, Rep.\", \"Spain\", \"Malta\", \"Turks and Caicos Islands\", \"Aruba\", \"Cyprus\", \"Europe & Central Asia\", \"Bahrain\", \"Slovenia\", \"Northern Mariana Islands\", \"Saudi Arabia\", \"Portugal\", \"Czech Republic\", \"Estonia\", \"Curacao\", \"Greece\", \"St. Kitts and Nevis\", \"Slovak Republic\", \"Barbados\", \"Trinidad and Tobago\", \"Lithuania\", \"Palau\", \"Uruguay\", \"Oman\", \"Seychelles\", \"Antigua and Barbuda\", \"Latvia\", \"Panama\", \"Chile\", \"Hungary\", \"Central Europe and the Baltics\", \"Poland\", \"Other small states\", \"Argentina\", \"Croatia\", \"Small states\", \"Costa Rica\", \"American Samoa\", \"World\", \"Romania\", \"Turkey\", \"Malaysia\", \"East Asia & Pacific\", \"Mauritius\", \"Equatorial Guinea\", \"Russian Federation\", \"Grenada\", \"St. Lucia\", \"Caribbean small states\", \"Maldives\", \"Mexico\", \"Kazakhstan\", \"Brazil\", \"Latin America & Caribbean\", \"Latin America & the Caribbean (IDA & IBRD countries)\", \"Late-demographic dividend\", \"China\", \"Nauru\", \"Latin America & Caribbean (excluding high income)\", \"Upper middle income\", \"Cuba\", \"Europe & Central Asia (IDA & IBRD countries)\", \"Bulgaria\", \"Lebanon\", \"Europe & Central Asia (excluding high income)\", \"Dominica\", \"Botswana\", \"Montenegro\", \"Middle East & North Africa\", \"Dominican Republic\", \"Gabon\", \"St. Vincent and the Grenadines\", \"East Asia & Pacific (IDA & IBRD countries)\", \"East Asia & Pacific (excluding high income)\", \"Turkmenistan\", \"Peru\", \"Suriname\", \"Thailand\", \"Arab World\", \"Colombia\", \"Serbia\", \"Ecuador\", \"IBRD only\", \"South Africa\", \"Fiji\", \"Belarus\", \"Paraguay\", \"North Macedonia\", \"Namibia\", \"Libya\", \"Bosnia and Herzegovina\", \"Iran, Islamic Rep.\", \"Iraq\", \"Middle income\", \"Jamaica\", \"Belize\", \"IDA & IBRD total\", \"Low & middle income\", \"Guyana\", \"Azerbaijan\", \"Albania\", \"Georgia\", \"Guatemala\", \"Tonga\", \"Samoa\", \"Jordan\", \"Algeria\", \"Pacific island small states\", \"Sri Lanka\", \"Middle East & North Africa (IDA & IBRD countries)\", \"Middle East & North Africa (excluding high income)\", \"Kosovo\", \"El Salvador\", \"Mongolia\", \"Armenia\", \"Eswatini\", \"Angola\", \"Indonesia\", \"Tunisia\", \"Marshall Islands\", \"Early-demographic dividend\", \"Tuvalu\", \"Cabo Verde\", \"Bolivia\", \"Micronesia, Fed. Sts.\", \"Bhutan\", \"West Bank and Gaza\", \"Egypt, Arab Rep.\", \"Morocco\", \"Vanuatu\", \"Philippines\", \"Djibouti\", \"Papua New Guinea\", \"Moldova\", \"Ukraine\", \"Honduras\", \"Lao PDR\", \"Vietnam\", \"Nigeria\", \"Sudan\", \"Timor-Leste\", \"Uzbekistan\", \"Lower middle income\", \"Nicaragua\", \"Solomon Islands\", \"Ghana\", \"Congo, Rep.\", \"India\", \"IDA blend\", \"Sao Tome and Principe\", \"South Asia (IDA & IBRD)\", \"South Asia\", \"Zimbabwe\", \"Fragile and conflict affected situations\", \"Sub-Saharan Africa (IDA & IBRD countries)\", \"Sub-Saharan Africa\", \"Sub-Saharan Africa (excluding high income)\", \"Kiribati\", \"Cote d'Ivoire\", \"Kenya\", \"Pre-demographic dividend\", \"Bangladesh\", \"Zambia\", \"Pakistan\", \"Cameroon\", \"IDA total\", \"Senegal\", \"Cambodia\", \"Comoros\", \"Myanmar\", \"Kyrgyz Republic\", \"Lesotho\", \"Yemen, Rep.\", \"Mauritania\", \"IDA only\", \"Least developed countries: UN classification\", \"Tanzania\", \"Heavily indebted poor countries (HIPC)\", \"Nepal\", \"Tajikistan\", \"Benin\", \"Mali\", \"Guinea\", \"Haiti\", \"Low income\", \"Rwanda\", \"Ethiopia\", \"Chad\", \"Liberia\", \"Gambia, The\", \"Guinea-Bissau\", \"Uganda\", \"Burkina Faso\", \"Togo\", \"Afghanistan\", \"Sierra Leone\", \"Congo, Dem. Rep.\", \"Madagascar\", \"Mozambique\", \"Central African Republic\", \"Niger\", \"Malawi\", \"Somalia\", \"Burundi\"], \"text\": [\"Monaco\", \"Liechtenstein\", \"Luxembourg\", \"Switzerland\", \"Isle of Man\", \"Macao SAR, China\", \"Cayman Islands\", \"Norway\", \"Ireland\", \"Iceland\", \"Qatar\", \"United States\", \"Singapore\", \"North America\", \"Denmark\", \"Australia\", \"Faroe Islands\", \"Sweden\", \"Netherlands\", \"Austria\", \"San Marino\", \"Greenland\", \"Finland\", \"Hong Kong SAR, China\", \"Canada\", \"Germany\", \"Belgium\", \"Post-demographic dividend\", \"United Kingdom\", \"High income\", \"New Zealand\", \"United Arab Emirates\", \"Israel\", \"Andorra\", \"France\", \"OECD members\", \"Japan\", \"Euro area\", \"Virgin Islands (U.S.)\", \"Guam\", \"European Union\", \"Italy\", \"Bahamas, The\", \"Puerto Rico\", \"Kuwait\", \"Brunei Darussalam\", \"Korea, Rep.\", \"Spain\", \"Malta\", \"Turks and Caicos Islands\", \"Aruba\", \"Cyprus\", \"Europe & Central Asia\", \"Bahrain\", \"Slovenia\", \"Northern Mariana Islands\", \"Saudi Arabia\", \"Portugal\", \"Czech Republic\", \"Estonia\", \"Curacao\", \"Greece\", \"St. Kitts and Nevis\", \"Slovak Republic\", \"Barbados\", \"Trinidad and Tobago\", \"Lithuania\", \"Palau\", \"Uruguay\", \"Oman\", \"Seychelles\", \"Antigua and Barbuda\", \"Latvia\", \"Panama\", \"Chile\", \"Hungary\", \"Central Europe and the Baltics\", \"Poland\", \"Other small states\", \"Argentina\", \"Croatia\", \"Small states\", \"Costa Rica\", \"American Samoa\", \"World\", \"Romania\", \"Turkey\", \"Malaysia\", \"East Asia & Pacific\", \"Mauritius\", \"Equatorial Guinea\", \"Russian Federation\", \"Grenada\", \"St. Lucia\", \"Caribbean small states\", \"Maldives\", \"Mexico\", \"Kazakhstan\", \"Brazil\", \"Latin America & Caribbean\", \"Latin America & the Caribbean (IDA & IBRD countries)\", \"Late-demographic dividend\", \"China\", \"Nauru\", \"Latin America & Caribbean (excluding high income)\", \"Upper middle income\", \"Cuba\", \"Europe & Central Asia (IDA & IBRD countries)\", \"Bulgaria\", \"Lebanon\", \"Europe & Central Asia (excluding high income)\", \"Dominica\", \"Botswana\", \"Montenegro\", \"Middle East & North Africa\", \"Dominican Republic\", \"Gabon\", \"St. Vincent and the Grenadines\", \"East Asia & Pacific (IDA & IBRD countries)\", \"East Asia & Pacific (excluding high income)\", \"Turkmenistan\", \"Peru\", \"Suriname\", \"Thailand\", \"Arab World\", \"Colombia\", \"Serbia\", \"Ecuador\", \"IBRD only\", \"South Africa\", \"Fiji\", \"Belarus\", \"Paraguay\", \"North Macedonia\", \"Namibia\", \"Libya\", \"Bosnia and Herzegovina\", \"Iran, Islamic Rep.\", \"Iraq\", \"Middle income\", \"Jamaica\", \"Belize\", \"IDA & IBRD total\", \"Low & middle income\", \"Guyana\", \"Azerbaijan\", \"Albania\", \"Georgia\", \"Guatemala\", \"Tonga\", \"Samoa\", \"Jordan\", \"Algeria\", \"Pacific island small states\", \"Sri Lanka\", \"Middle East & North Africa (IDA & IBRD countries)\", \"Middle East & North Africa (excluding high income)\", \"Kosovo\", \"El Salvador\", \"Mongolia\", \"Armenia\", \"Eswatini\", \"Angola\", \"Indonesia\", \"Tunisia\", \"Marshall Islands\", \"Early-demographic dividend\", \"Tuvalu\", \"Cabo Verde\", \"Bolivia\", \"Micronesia, Fed. Sts.\", \"Bhutan\", \"West Bank and Gaza\", \"Egypt, Arab Rep.\", \"Morocco\", \"Vanuatu\", \"Philippines\", \"Djibouti\", \"Papua New Guinea\", \"Moldova\", \"Ukraine\", \"Honduras\", \"Lao PDR\", \"Vietnam\", \"Nigeria\", \"Sudan\", \"Timor-Leste\", \"Uzbekistan\", \"Lower middle income\", \"Nicaragua\", \"Solomon Islands\", \"Ghana\", \"Congo, Rep.\", \"India\", \"IDA blend\", \"Sao Tome and Principe\", \"South Asia (IDA & IBRD)\", \"South Asia\", \"Zimbabwe\", \"Fragile and conflict affected situations\", \"Sub-Saharan Africa (IDA & IBRD countries)\", \"Sub-Saharan Africa\", \"Sub-Saharan Africa (excluding high income)\", \"Kiribati\", \"Cote d'Ivoire\", \"Kenya\", \"Pre-demographic dividend\", \"Bangladesh\", \"Zambia\", \"Pakistan\", \"Cameroon\", \"IDA total\", \"Senegal\", \"Cambodia\", \"Comoros\", \"Myanmar\", \"Kyrgyz Republic\", \"Lesotho\", \"Yemen, Rep.\", \"Mauritania\", \"IDA only\", \"Least developed countries: UN classification\", \"Tanzania\", \"Heavily indebted poor countries (HIPC)\", \"Nepal\", \"Tajikistan\", \"Benin\", \"Mali\", \"Guinea\", \"Haiti\", \"Low income\", \"Rwanda\", \"Ethiopia\", \"Chad\", \"Liberia\", \"Gambia, The\", \"Guinea-Bissau\", \"Uganda\", \"Burkina Faso\", \"Togo\", \"Afghanistan\", \"Sierra Leone\", \"Congo, Dem. Rep.\", \"Madagascar\", \"Mozambique\", \"Central African Republic\", \"Niger\", \"Malawi\", \"Somalia\", \"Burundi\"], \"type\": \"choropleth\", \"z\": [172174.17738796235, 166159.592506547, 107414.02063515599, 81375.09887308454, 80583.66463897987, 79531.8209632829, 78567.03321984659, 75502.51910794327, 68412.20497241366, 64673.108895200305, 62565.06461542561, 59357.54747018731, 59312.631732963215, 57842.03811545338, 56602.56553008063, 54541.752780323426, 54113.78702674086, 52931.044399580715, 48190.53407581583, 47077.35946449307, 46987.16346430191, 46359.13774808195, 45733.23109483734, 45266.884151119324, 44269.46802182079, 43770.384189185956, 43685.52651828979, 42391.99322261587, 42336.39721448495, 42037.5330092657, 40697.96402009553, 39905.45465635832, 38838.827645613346, 38606.97963012298, 38429.59216925616, 38136.26360875006, 37735.18465848284, 36607.740497056155, 35555.568703090634, 35542.5326524417, 33805.578687460555, 31994.09937317659, 31759.978212052374, 30849.39774966609, 30319.158201439786, 29630.715252169593, 28954.72849731568, 27677.346825823068, 26652.589620268263, 25975.901016324184, 25555.415717946114, 25289.17160575, 23384.012400516305, 23268.58017779237, 23017.75640090158, 22625.302904126194, 21162.484084072363, 21016.505444635557, 19909.368238542036, 19840.930507584893, 19633.029427664802, 18872.986742581452, 18818.03022485625, 17441.966512297084, 17219.915998606353, 16958.689498087853, 16310.735539938425, 16185.469635449343, 16179.030820653494, 15604.547423753946, 15485.193067921433, 15398.52665286263, 15315.263095354432, 14681.957252082952, 14570.742128021064, 14065.883320905272, 13847.26079353254, 13570.444214490602, 13362.579225647634, 13213.778975176785, 13116.35273558271, 12118.230759534448, 11686.375184196424, 11457.605563867219, 10642.569163114153, 10413.366803621622, 10413.295802065993, 10350.112503581164, 10197.39839730943, 10166.416156585085, 10130.79374371997, 10024.65555534868, 9882.336186419421, 9830.008159739204, 9698.89532582316, 9528.482250183872, 9324.392558946125, 9321.449050003004, 9082.149169783572, 8971.51775321515, 8820.325134849361, 8744.991631045072, 8660.516795765821, 8641.930902284617, 8526.261803576013, 8459.532806941716, 8279.459342680082, 8246.70486543859, 7990.969998561275, 7848.227553730971, 7710.628713269153, 7660.8675290706005, 7548.895001063539, 7542.877886870901, 7530.683185925686, 7465.591907085427, 7381.62939530965, 7142.576259191824, 7062.1936186057155, 6988.530019737152, 6593.9887093007055, 6521.46070818893, 6444.965271288101, 6417.602618552538, 6390.23242965475, 6272.705578991253, 6218.105864686815, 6185.739556666162, 5890.770267942078, 5878.515022659757, 5852.515523972548, 5755.854655903644, 5557.127291541792, 5367.698262717293, 5349.258739865707, 5342.810269002813, 5295.556112434653, 5269.913946990077, 5201.496009926058, 5097.347326346704, 5043.5657226823405, 4841.6554282180805, 4744.293580334706, 4630.413873281719, 4568.451835593938, 4562.3317575865085, 4469.66925779811, 4287.627620508305, 4270.9458111958465, 4217.0716446194, 4156.181323241596, 4153.44800736354, 4070.8255988454034, 4009.997058240745, 3984.296126711457, 3916.7325984740905, 3907.5716526136002, 3880.4249667464546, 3866.534515208805, 3842.4699737883384, 3831.4245458487767, 3809.069370999973, 3800.3128116255384, 3656.2626938677736, 3622.3604184579, 3535.6178155153298, 3435.936281728293, 3431.752388856204, 3275.5122045952194, 3253.0863391785256, 3194.767322817334, 3148.458396992799, 3123.873857486643, 3028.40838439996, 3011.7439636217396, 2974.510650853145, 2973.252886238943, 2876.807125140421, 2653.6259321330026, 2600.8611541112796, 2512.0609799223853, 2398.715983624866, 2352.4612523125134, 2302.3836595058265, 2225.7928881004523, 2219.2864010330845, 2168.6406951267345, 2135.4407342737077, 2112.4707439546214, 2088.626707885755, 2024.4050703114624, 1981.3982982308894, 1856.431949527319, 1831.5302537429254, 1820.5415230168774, 1779.5364763382674, 1740.0817189076472, 1740.0817189076472, 1664.7636207237508, 1612.6885139714377, 1597.4783982987685, 1597.4783982987685, 1596.2026414352204, 1594.5611912366385, 1545.2060601939081, 1506.5306394470945, 1479.7125287861184, 1478.0827275302408, 1423.2850725623098, 1418.1296126598263, 1411.4256901483527, 1351.2754041630762, 1344.2442889172714, 1334.3298038137127, 1312.5255792670728, 1225.3199557651874, 1191.4706629303892, 1188.2958178799174, 1164.1295251494605, 1162.9178241588324, 1108.7419797258722, 1048.341304075889, 992.4811108262879, 943.4917106830188, 878.7642958601418, 841.0692412283294, 826.0964990829063, 814.8043527559103, 809.097859867307, 796.2748434375915, 794.6007759900851, 747.5721720902006, 724.601260009964, 715.3331676035416, 700.2577982120049, 684.8343532782028, 666.9639113601228, 648.0065594427138, 628.915660299982, 617.8870563767083, 550.7233010799288, 530.7540144098442, 499.37180526759056, 496.49616675542245, 494.78945761864907, 426.17429156171954, 378.2085777452229, 360.62249146142943, 303.25565194572476, 288.12314456582953]}],\n",
       "                        {\"geo\": {\"projection\": {\"type\": \"miller\"}, \"showframe\": false}, \"template\": {\"data\": {\"bar\": [{\"error_x\": {\"color\": \"#2a3f5f\"}, \"error_y\": {\"color\": \"#2a3f5f\"}, \"marker\": {\"line\": {\"color\": \"#E5ECF6\", \"width\": 0.5}}, \"type\": \"bar\"}], \"barpolar\": [{\"marker\": {\"line\": {\"color\": \"#E5ECF6\", \"width\": 0.5}}, \"type\": \"barpolar\"}], \"carpet\": [{\"aaxis\": {\"endlinecolor\": \"#2a3f5f\", \"gridcolor\": \"white\", \"linecolor\": \"white\", \"minorgridcolor\": \"white\", \"startlinecolor\": \"#2a3f5f\"}, \"baxis\": {\"endlinecolor\": \"#2a3f5f\", \"gridcolor\": \"white\", \"linecolor\": \"white\", \"minorgridcolor\": \"white\", \"startlinecolor\": \"#2a3f5f\"}, \"type\": \"carpet\"}], \"choropleth\": [{\"colorbar\": {\"outlinewidth\": 0, \"ticks\": \"\"}, \"type\": \"choropleth\"}], \"contour\": [{\"colorbar\": {\"outlinewidth\": 0, \"ticks\": \"\"}, \"colorscale\": [[0.0, \"#0d0887\"], [0.1111111111111111, \"#46039f\"], [0.2222222222222222, \"#7201a8\"], [0.3333333333333333, \"#9c179e\"], [0.4444444444444444, \"#bd3786\"], [0.5555555555555556, \"#d8576b\"], [0.6666666666666666, \"#ed7953\"], [0.7777777777777778, \"#fb9f3a\"], [0.8888888888888888, \"#fdca26\"], [1.0, \"#f0f921\"]], \"type\": \"contour\"}], \"contourcarpet\": [{\"colorbar\": {\"outlinewidth\": 0, \"ticks\": \"\"}, \"type\": \"contourcarpet\"}], \"heatmap\": [{\"colorbar\": {\"outlinewidth\": 0, \"ticks\": \"\"}, \"colorscale\": [[0.0, \"#0d0887\"], [0.1111111111111111, \"#46039f\"], [0.2222222222222222, \"#7201a8\"], [0.3333333333333333, \"#9c179e\"], [0.4444444444444444, \"#bd3786\"], [0.5555555555555556, \"#d8576b\"], [0.6666666666666666, \"#ed7953\"], [0.7777777777777778, \"#fb9f3a\"], [0.8888888888888888, \"#fdca26\"], [1.0, \"#f0f921\"]], \"type\": \"heatmap\"}], \"heatmapgl\": [{\"colorbar\": {\"outlinewidth\": 0, \"ticks\": \"\"}, \"colorscale\": [[0.0, \"#0d0887\"], [0.1111111111111111, \"#46039f\"], [0.2222222222222222, \"#7201a8\"], [0.3333333333333333, \"#9c179e\"], [0.4444444444444444, \"#bd3786\"], [0.5555555555555556, \"#d8576b\"], [0.6666666666666666, \"#ed7953\"], [0.7777777777777778, \"#fb9f3a\"], [0.8888888888888888, \"#fdca26\"], [1.0, \"#f0f921\"]], \"type\": \"heatmapgl\"}], \"histogram\": [{\"marker\": {\"colorbar\": {\"outlinewidth\": 0, \"ticks\": \"\"}}, \"type\": \"histogram\"}], \"histogram2d\": [{\"colorbar\": {\"outlinewidth\": 0, \"ticks\": \"\"}, \"colorscale\": [[0.0, \"#0d0887\"], [0.1111111111111111, \"#46039f\"], [0.2222222222222222, \"#7201a8\"], [0.3333333333333333, \"#9c179e\"], [0.4444444444444444, \"#bd3786\"], [0.5555555555555556, \"#d8576b\"], [0.6666666666666666, \"#ed7953\"], [0.7777777777777778, \"#fb9f3a\"], [0.8888888888888888, \"#fdca26\"], [1.0, \"#f0f921\"]], \"type\": \"histogram2d\"}], \"histogram2dcontour\": [{\"colorbar\": {\"outlinewidth\": 0, \"ticks\": \"\"}, \"colorscale\": [[0.0, \"#0d0887\"], [0.1111111111111111, \"#46039f\"], [0.2222222222222222, \"#7201a8\"], [0.3333333333333333, \"#9c179e\"], [0.4444444444444444, \"#bd3786\"], [0.5555555555555556, \"#d8576b\"], [0.6666666666666666, \"#ed7953\"], [0.7777777777777778, \"#fb9f3a\"], [0.8888888888888888, \"#fdca26\"], [1.0, \"#f0f921\"]], \"type\": \"histogram2dcontour\"}], \"mesh3d\": [{\"colorbar\": {\"outlinewidth\": 0, \"ticks\": \"\"}, \"type\": \"mesh3d\"}], \"parcoords\": [{\"line\": {\"colorbar\": {\"outlinewidth\": 0, \"ticks\": \"\"}}, \"type\": \"parcoords\"}], \"scatter\": [{\"marker\": {\"colorbar\": {\"outlinewidth\": 0, \"ticks\": \"\"}}, \"type\": \"scatter\"}], \"scatter3d\": [{\"line\": {\"colorbar\": {\"outlinewidth\": 0, \"ticks\": \"\"}}, \"marker\": {\"colorbar\": {\"outlinewidth\": 0, \"ticks\": \"\"}}, \"type\": \"scatter3d\"}], \"scattercarpet\": [{\"marker\": {\"colorbar\": {\"outlinewidth\": 0, \"ticks\": \"\"}}, \"type\": \"scattercarpet\"}], \"scattergeo\": [{\"marker\": {\"colorbar\": {\"outlinewidth\": 0, \"ticks\": \"\"}}, \"type\": \"scattergeo\"}], \"scattergl\": [{\"marker\": {\"colorbar\": {\"outlinewidth\": 0, \"ticks\": \"\"}}, \"type\": \"scattergl\"}], \"scattermapbox\": [{\"marker\": {\"colorbar\": {\"outlinewidth\": 0, \"ticks\": \"\"}}, \"type\": \"scattermapbox\"}], \"scatterpolar\": [{\"marker\": {\"colorbar\": {\"outlinewidth\": 0, \"ticks\": \"\"}}, \"type\": \"scatterpolar\"}], \"scatterpolargl\": [{\"marker\": {\"colorbar\": {\"outlinewidth\": 0, \"ticks\": \"\"}}, \"type\": \"scatterpolargl\"}], \"scatterternary\": [{\"marker\": {\"colorbar\": {\"outlinewidth\": 0, \"ticks\": \"\"}}, \"type\": \"scatterternary\"}], \"surface\": [{\"colorbar\": {\"outlinewidth\": 0, \"ticks\": \"\"}, \"colorscale\": [[0.0, \"#0d0887\"], [0.1111111111111111, \"#46039f\"], [0.2222222222222222, \"#7201a8\"], [0.3333333333333333, \"#9c179e\"], [0.4444444444444444, \"#bd3786\"], [0.5555555555555556, \"#d8576b\"], [0.6666666666666666, \"#ed7953\"], [0.7777777777777778, \"#fb9f3a\"], [0.8888888888888888, \"#fdca26\"], [1.0, \"#f0f921\"]], \"type\": \"surface\"}], \"table\": [{\"cells\": {\"fill\": {\"color\": \"#EBF0F8\"}, \"line\": {\"color\": \"white\"}}, \"header\": {\"fill\": {\"color\": \"#C8D4E3\"}, \"line\": {\"color\": \"white\"}}, \"type\": \"table\"}]}, \"layout\": {\"annotationdefaults\": {\"arrowcolor\": \"#2a3f5f\", \"arrowhead\": 0, \"arrowwidth\": 1}, \"colorscale\": {\"diverging\": [[0, \"#8e0152\"], [0.1, \"#c51b7d\"], [0.2, \"#de77ae\"], [0.3, \"#f1b6da\"], [0.4, \"#fde0ef\"], [0.5, \"#f7f7f7\"], [0.6, \"#e6f5d0\"], [0.7, \"#b8e186\"], [0.8, \"#7fbc41\"], [0.9, \"#4d9221\"], [1, \"#276419\"]], \"sequential\": [[0.0, \"#0d0887\"], [0.1111111111111111, \"#46039f\"], [0.2222222222222222, \"#7201a8\"], [0.3333333333333333, \"#9c179e\"], [0.4444444444444444, \"#bd3786\"], [0.5555555555555556, \"#d8576b\"], [0.6666666666666666, \"#ed7953\"], [0.7777777777777778, \"#fb9f3a\"], [0.8888888888888888, \"#fdca26\"], [1.0, \"#f0f921\"]], \"sequentialminus\": [[0.0, \"#0d0887\"], [0.1111111111111111, \"#46039f\"], [0.2222222222222222, \"#7201a8\"], [0.3333333333333333, \"#9c179e\"], [0.4444444444444444, \"#bd3786\"], [0.5555555555555556, \"#d8576b\"], [0.6666666666666666, \"#ed7953\"], [0.7777777777777778, \"#fb9f3a\"], [0.8888888888888888, \"#fdca26\"], [1.0, \"#f0f921\"]]}, \"colorway\": [\"#636efa\", \"#EF553B\", \"#00cc96\", \"#ab63fa\", \"#FFA15A\", \"#19d3f3\", \"#FF6692\", \"#B6E880\", \"#FF97FF\", \"#FECB52\"], \"font\": {\"color\": \"#2a3f5f\"}, \"geo\": {\"bgcolor\": \"white\", \"lakecolor\": \"white\", \"landcolor\": \"#E5ECF6\", \"showlakes\": true, \"showland\": true, \"subunitcolor\": \"white\"}, \"hoverlabel\": {\"align\": \"left\"}, \"hovermode\": \"closest\", \"mapbox\": {\"style\": \"light\"}, \"paper_bgcolor\": \"white\", \"plot_bgcolor\": \"#E5ECF6\", \"polar\": {\"angularaxis\": {\"gridcolor\": \"white\", \"linecolor\": \"white\", \"ticks\": \"\"}, \"bgcolor\": \"#E5ECF6\", \"radialaxis\": {\"gridcolor\": \"white\", \"linecolor\": \"white\", \"ticks\": \"\"}}, \"scene\": {\"xaxis\": {\"backgroundcolor\": \"#E5ECF6\", \"gridcolor\": \"white\", \"gridwidth\": 2, \"linecolor\": \"white\", \"showbackground\": true, \"ticks\": \"\", \"zerolinecolor\": \"white\"}, \"yaxis\": {\"backgroundcolor\": \"#E5ECF6\", \"gridcolor\": \"white\", \"gridwidth\": 2, \"linecolor\": \"white\", \"showbackground\": true, \"ticks\": \"\", \"zerolinecolor\": \"white\"}, \"zaxis\": {\"backgroundcolor\": \"#E5ECF6\", \"gridcolor\": \"white\", \"gridwidth\": 2, \"linecolor\": \"white\", \"showbackground\": true, \"ticks\": \"\", \"zerolinecolor\": \"white\"}}, \"shapedefaults\": {\"line\": {\"color\": \"#2a3f5f\"}}, \"ternary\": {\"aaxis\": {\"gridcolor\": \"white\", \"linecolor\": \"white\", \"ticks\": \"\"}, \"baxis\": {\"gridcolor\": \"white\", \"linecolor\": \"white\", \"ticks\": \"\"}, \"bgcolor\": \"#E5ECF6\", \"caxis\": {\"gridcolor\": \"white\", \"linecolor\": \"white\", \"ticks\": \"\"}}, \"title\": {\"x\": 0.05}, \"xaxis\": {\"automargin\": true, \"gridcolor\": \"white\", \"linecolor\": \"white\", \"ticks\": \"\", \"zerolinecolor\": \"white\", \"zerolinewidth\": 2}, \"yaxis\": {\"automargin\": true, \"gridcolor\": \"white\", \"linecolor\": \"white\", \"ticks\": \"\", \"zerolinecolor\": \"white\", \"zerolinewidth\": 2}}}, \"title\": {\"text\": \"Average GDP per Capita\", \"x\": 0.5, \"xanchor\": \"center\", \"y\": 0.9, \"yanchor\": \"top\"}},\n",
       "                        {\"responsive\": true}\n",
       "                    ).then(function(){\n",
       "                            \n",
       "var gd = document.getElementById('5ff3ce5a-367e-4081-99ab-dd1fa422c06a');\n",
       "var x = new MutationObserver(function (mutations, observer) {{\n",
       "        var display = window.getComputedStyle(gd).display;\n",
       "        if (!display || display === 'none') {{\n",
       "            console.log([gd, 'removed!']);\n",
       "            Plotly.purge(gd);\n",
       "            observer.disconnect();\n",
       "        }}\n",
       "}});\n",
       "\n",
       "// Listen for the removal of the full notebook cells\n",
       "var notebookContainer = gd.closest('#notebook-container');\n",
       "if (notebookContainer) {{\n",
       "    x.observe(notebookContainer, {childList: true});\n",
       "}}\n",
       "\n",
       "// Listen for the clearing of the current output cell\n",
       "var outputEl = gd.closest('.output');\n",
       "if (outputEl) {{\n",
       "    x.observe(outputEl, {childList: true});\n",
       "}}\n",
       "\n",
       "                        })\n",
       "                };\n",
       "                });\n",
       "            </script>\n",
       "        </div>"
      ]
     },
     "metadata": {},
     "output_type": "display_data"
    }
   ],
   "source": [
    "data = dict(type = 'choropleth', \n",
    "           locations = gdp['Country'],\n",
    "           locationmode = 'country names',\n",
    "           z = gdp['average'], \n",
    "           text = gdp['Country'],\n",
    "           colorbar = {'title':'GDP per Capita'},                              \n",
    "           colorscale = 'Spectral',\n",
    "           )\n",
    "layout = dict(title = 'Average GDP per Capita', \n",
    "                   geo = dict(showframe = False, \n",
    "                       projection = {'type': 'miller'}))\n",
    "\n",
    "choromap = go.Figure(data = [data], layout=layout)\n",
    "#not sure how to update layout above instead of using 'update_layout' code below\n",
    "choromap.update_layout(\n",
    "   title={\n",
    "      'y':0.9,\n",
    "      'x':0.5,\n",
    "      'xanchor': 'center',\n",
    "      'yanchor': 'top'})\n",
    "iplot(choromap)\n"
   ]
  },
  {
   "cell_type": "code",
   "execution_count": 27,
   "metadata": {},
   "outputs": [
    {
     "data": {
      "text/html": [
       "<div>\n",
       "<style scoped>\n",
       "    .dataframe tbody tr th:only-of-type {\n",
       "        vertical-align: middle;\n",
       "    }\n",
       "\n",
       "    .dataframe tbody tr th {\n",
       "        vertical-align: top;\n",
       "    }\n",
       "\n",
       "    .dataframe thead th {\n",
       "        text-align: right;\n",
       "    }\n",
       "</style>\n",
       "<table border=\"1\" class=\"dataframe\">\n",
       "  <thead>\n",
       "    <tr style=\"text-align: right;\">\n",
       "      <th></th>\n",
       "      <th>Country</th>\n",
       "      <th>2015</th>\n",
       "      <th>2016</th>\n",
       "      <th>2017</th>\n",
       "      <th>2018</th>\n",
       "      <th>average</th>\n",
       "      <th>rank</th>\n",
       "    </tr>\n",
       "  </thead>\n",
       "  <tbody>\n",
       "    <tr>\n",
       "      <th>147</th>\n",
       "      <td>Monaco</td>\n",
       "      <td>165937.865343</td>\n",
       "      <td>169915.804840</td>\n",
       "      <td>167101.759377</td>\n",
       "      <td>185741.279992</td>\n",
       "      <td>172174.177388</td>\n",
       "      <td>1</td>\n",
       "    </tr>\n",
       "    <tr>\n",
       "      <th>135</th>\n",
       "      <td>Liechtenstein</td>\n",
       "      <td>167290.939984</td>\n",
       "      <td>165028.245029</td>\n",
       "      <td>NaN</td>\n",
       "      <td>NaN</td>\n",
       "      <td>166159.592507</td>\n",
       "      <td>2</td>\n",
       "    </tr>\n",
       "    <tr>\n",
       "      <th>142</th>\n",
       "      <td>Luxembourg</td>\n",
       "      <td>101376.496574</td>\n",
       "      <td>104278.390972</td>\n",
       "      <td>107361.306947</td>\n",
       "      <td>116639.888047</td>\n",
       "      <td>107414.020635</td>\n",
       "      <td>3</td>\n",
       "    </tr>\n",
       "    <tr>\n",
       "      <th>35</th>\n",
       "      <td>Switzerland</td>\n",
       "      <td>82081.609206</td>\n",
       "      <td>80172.193304</td>\n",
       "      <td>80450.045820</td>\n",
       "      <td>82796.547163</td>\n",
       "      <td>81375.098873</td>\n",
       "      <td>4</td>\n",
       "    </tr>\n",
       "    <tr>\n",
       "      <th>106</th>\n",
       "      <td>Isle of Man</td>\n",
       "      <td>81606.280033</td>\n",
       "      <td>79155.541672</td>\n",
       "      <td>80989.172211</td>\n",
       "      <td>NaN</td>\n",
       "      <td>80583.664639</td>\n",
       "      <td>5</td>\n",
       "    </tr>\n",
       "    <tr>\n",
       "      <th>144</th>\n",
       "      <td>Macao SAR, China</td>\n",
       "      <td>75340.986981</td>\n",
       "      <td>74061.086035</td>\n",
       "      <td>81516.674925</td>\n",
       "      <td>87208.535913</td>\n",
       "      <td>79531.820963</td>\n",
       "      <td>6</td>\n",
       "    </tr>\n",
       "    <tr>\n",
       "      <th>50</th>\n",
       "      <td>Cayman Islands</td>\n",
       "      <td>76280.486253</td>\n",
       "      <td>78296.099927</td>\n",
       "      <td>81124.513479</td>\n",
       "      <td>NaN</td>\n",
       "      <td>78567.033220</td>\n",
       "      <td>7</td>\n",
       "    </tr>\n",
       "    <tr>\n",
       "      <th>175</th>\n",
       "      <td>Norway</td>\n",
       "      <td>74355.515858</td>\n",
       "      <td>70460.560532</td>\n",
       "      <td>75496.754058</td>\n",
       "      <td>81697.245984</td>\n",
       "      <td>75502.519108</td>\n",
       "      <td>8</td>\n",
       "    </tr>\n",
       "    <tr>\n",
       "      <th>109</th>\n",
       "      <td>Ireland</td>\n",
       "      <td>61995.422779</td>\n",
       "      <td>63197.082374</td>\n",
       "      <td>69649.882740</td>\n",
       "      <td>78806.431996</td>\n",
       "      <td>68412.204972</td>\n",
       "      <td>9</td>\n",
       "    </tr>\n",
       "    <tr>\n",
       "      <th>112</th>\n",
       "      <td>Iceland</td>\n",
       "      <td>52428.595763</td>\n",
       "      <td>61757.949306</td>\n",
       "      <td>71314.774196</td>\n",
       "      <td>73191.116315</td>\n",
       "      <td>64673.108895</td>\n",
       "      <td>10</td>\n",
       "    </tr>\n",
       "    <tr>\n",
       "      <th>198</th>\n",
       "      <td>Qatar</td>\n",
       "      <td>63039.016555</td>\n",
       "      <td>57163.060992</td>\n",
       "      <td>61264.396478</td>\n",
       "      <td>68793.784437</td>\n",
       "      <td>62565.064615</td>\n",
       "      <td>11</td>\n",
       "    </tr>\n",
       "    <tr>\n",
       "      <th>249</th>\n",
       "      <td>United States</td>\n",
       "      <td>56803.472433</td>\n",
       "      <td>57904.201961</td>\n",
       "      <td>59927.929834</td>\n",
       "      <td>62794.585652</td>\n",
       "      <td>59357.547470</td>\n",
       "      <td>12</td>\n",
       "    </tr>\n",
       "    <tr>\n",
       "      <th>206</th>\n",
       "      <td>Singapore</td>\n",
       "      <td>55646.618747</td>\n",
       "      <td>56724.170386</td>\n",
       "      <td>60297.793781</td>\n",
       "      <td>64581.944018</td>\n",
       "      <td>59312.631733</td>\n",
       "      <td>13</td>\n",
       "    </tr>\n",
       "    <tr>\n",
       "      <th>168</th>\n",
       "      <td>North America</td>\n",
       "      <td>55476.896706</td>\n",
       "      <td>56340.176507</td>\n",
       "      <td>58434.030876</td>\n",
       "      <td>61117.048373</td>\n",
       "      <td>57842.038115</td>\n",
       "      <td>14</td>\n",
       "    </tr>\n",
       "    <tr>\n",
       "      <th>56</th>\n",
       "      <td>Denmark</td>\n",
       "      <td>53254.856004</td>\n",
       "      <td>54663.998372</td>\n",
       "      <td>57141.059835</td>\n",
       "      <td>61350.347909</td>\n",
       "      <td>56602.565530</td>\n",
       "      <td>15</td>\n",
       "    </tr>\n",
       "    <tr>\n",
       "      <th>11</th>\n",
       "      <td>Australia</td>\n",
       "      <td>56755.721712</td>\n",
       "      <td>49971.131456</td>\n",
       "      <td>54066.471269</td>\n",
       "      <td>57373.686684</td>\n",
       "      <td>54541.752780</td>\n",
       "      <td>16</td>\n",
       "    </tr>\n",
       "    <tr>\n",
       "      <th>76</th>\n",
       "      <td>Faroe Islands</td>\n",
       "      <td>52404.659333</td>\n",
       "      <td>55822.914720</td>\n",
       "      <td>NaN</td>\n",
       "      <td>NaN</td>\n",
       "      <td>54113.787027</td>\n",
       "      <td>17</td>\n",
       "    </tr>\n",
       "    <tr>\n",
       "      <th>221</th>\n",
       "      <td>Sweden</td>\n",
       "      <td>51397.191756</td>\n",
       "      <td>51974.196555</td>\n",
       "      <td>53744.429032</td>\n",
       "      <td>54608.360255</td>\n",
       "      <td>52931.044400</td>\n",
       "      <td>18</td>\n",
       "    </tr>\n",
       "    <tr>\n",
       "      <th>174</th>\n",
       "      <td>Netherlands</td>\n",
       "      <td>45175.231893</td>\n",
       "      <td>46007.852921</td>\n",
       "      <td>48554.992276</td>\n",
       "      <td>53024.059213</td>\n",
       "      <td>48190.534076</td>\n",
       "      <td>19</td>\n",
       "    </tr>\n",
       "    <tr>\n",
       "      <th>12</th>\n",
       "      <td>Austria</td>\n",
       "      <td>44178.047378</td>\n",
       "      <td>45237.805092</td>\n",
       "      <td>47431.630608</td>\n",
       "      <td>51461.954780</td>\n",
       "      <td>47077.359464</td>\n",
       "      <td>20</td>\n",
       "    </tr>\n",
       "    <tr>\n",
       "      <th>210</th>\n",
       "      <td>San Marino</td>\n",
       "      <td>45774.587890</td>\n",
       "      <td>46692.351092</td>\n",
       "      <td>48494.551411</td>\n",
       "      <td>NaN</td>\n",
       "      <td>46987.163464</td>\n",
       "      <td>21</td>\n",
       "    </tr>\n",
       "    <tr>\n",
       "      <th>89</th>\n",
       "      <td>Greenland</td>\n",
       "      <td>44536.401308</td>\n",
       "      <td>48181.874188</td>\n",
       "      <td>NaN</td>\n",
       "      <td>NaN</td>\n",
       "      <td>46359.137748</td>\n",
       "      <td>22</td>\n",
       "    </tr>\n",
       "    <tr>\n",
       "      <th>73</th>\n",
       "      <td>Finland</td>\n",
       "      <td>42811.212994</td>\n",
       "      <td>43777.440089</td>\n",
       "      <td>46191.931156</td>\n",
       "      <td>50152.340141</td>\n",
       "      <td>45733.231095</td>\n",
       "      <td>23</td>\n",
       "    </tr>\n",
       "    <tr>\n",
       "      <th>94</th>\n",
       "      <td>Hong Kong SAR, China</td>\n",
       "      <td>42431.888282</td>\n",
       "      <td>43734.249994</td>\n",
       "      <td>46225.781869</td>\n",
       "      <td>48675.616460</td>\n",
       "      <td>45266.884151</td>\n",
       "      <td>24</td>\n",
       "    </tr>\n",
       "    <tr>\n",
       "      <th>33</th>\n",
       "      <td>Canada</td>\n",
       "      <td>43495.054387</td>\n",
       "      <td>42279.900823</td>\n",
       "      <td>45069.927254</td>\n",
       "      <td>46232.989623</td>\n",
       "      <td>44269.468022</td>\n",
       "      <td>25</td>\n",
       "    </tr>\n",
       "    <tr>\n",
       "      <th>53</th>\n",
       "      <td>Germany</td>\n",
       "      <td>41139.544569</td>\n",
       "      <td>42098.920445</td>\n",
       "      <td>44240.044110</td>\n",
       "      <td>47603.027633</td>\n",
       "      <td>43770.384189</td>\n",
       "      <td>26</td>\n",
       "    </tr>\n",
       "    <tr>\n",
       "      <th>15</th>\n",
       "      <td>Belgium</td>\n",
       "      <td>40991.808138</td>\n",
       "      <td>42012.099900</td>\n",
       "      <td>44219.561996</td>\n",
       "      <td>47518.636039</td>\n",
       "      <td>43685.526518</td>\n",
       "      <td>27</td>\n",
       "    </tr>\n",
       "    <tr>\n",
       "      <th>196</th>\n",
       "      <td>Post-demographic dividend</td>\n",
       "      <td>40497.756290</td>\n",
       "      <td>41202.817006</td>\n",
       "      <td>42740.901816</td>\n",
       "      <td>45126.497779</td>\n",
       "      <td>42391.993223</td>\n",
       "      <td>28</td>\n",
       "    </tr>\n",
       "    <tr>\n",
       "      <th>79</th>\n",
       "      <td>United Kingdom</td>\n",
       "      <td>44966.101925</td>\n",
       "      <td>41074.167280</td>\n",
       "      <td>40361.417383</td>\n",
       "      <td>42943.902270</td>\n",
       "      <td>42336.397214</td>\n",
       "      <td>29</td>\n",
       "    </tr>\n",
       "    <tr>\n",
       "      <th>93</th>\n",
       "      <td>High income</td>\n",
       "      <td>40196.172175</td>\n",
       "      <td>40791.787667</td>\n",
       "      <td>42375.592533</td>\n",
       "      <td>44786.579662</td>\n",
       "      <td>42037.533009</td>\n",
       "      <td>30</td>\n",
       "    </tr>\n",
       "    <tr>\n",
       "      <th>...</th>\n",
       "      <td>...</td>\n",
       "      <td>...</td>\n",
       "      <td>...</td>\n",
       "      <td>...</td>\n",
       "      <td>...</td>\n",
       "      <td>...</td>\n",
       "      <td>...</td>\n",
       "    </tr>\n",
       "    <tr>\n",
       "      <th>105</th>\n",
       "      <td>IDA only</td>\n",
       "      <td>1059.889810</td>\n",
       "      <td>1073.867893</td>\n",
       "      <td>1161.617937</td>\n",
       "      <td>1139.592278</td>\n",
       "      <td>1108.741980</td>\n",
       "      <td>221</td>\n",
       "    </tr>\n",
       "    <tr>\n",
       "      <th>133</th>\n",
       "      <td>Least developed countries: UN classification</td>\n",
       "      <td>1022.704889</td>\n",
       "      <td>1009.492685</td>\n",
       "      <td>1106.773419</td>\n",
       "      <td>1054.394224</td>\n",
       "      <td>1048.341304</td>\n",
       "      <td>222</td>\n",
       "    </tr>\n",
       "    <tr>\n",
       "      <th>244</th>\n",
       "      <td>Tanzania</td>\n",
       "      <td>947.933446</td>\n",
       "      <td>966.474622</td>\n",
       "      <td>1004.841121</td>\n",
       "      <td>1050.675254</td>\n",
       "      <td>992.481111</td>\n",
       "      <td>223</td>\n",
       "    </tr>\n",
       "    <tr>\n",
       "      <th>96</th>\n",
       "      <td>Heavily indebted poor countries (HIPC)</td>\n",
       "      <td>923.923986</td>\n",
       "      <td>920.750162</td>\n",
       "      <td>994.881642</td>\n",
       "      <td>934.411053</td>\n",
       "      <td>943.491711</td>\n",
       "      <td>224</td>\n",
       "    </tr>\n",
       "    <tr>\n",
       "      <th>176</th>\n",
       "      <td>Nepal</td>\n",
       "      <td>792.552891</td>\n",
       "      <td>777.147596</td>\n",
       "      <td>911.444267</td>\n",
       "      <td>1033.912431</td>\n",
       "      <td>878.764296</td>\n",
       "      <td>225</td>\n",
       "    </tr>\n",
       "    <tr>\n",
       "      <th>232</th>\n",
       "      <td>Tajikistan</td>\n",
       "      <td>929.095857</td>\n",
       "      <td>802.518004</td>\n",
       "      <td>806.041573</td>\n",
       "      <td>826.621531</td>\n",
       "      <td>841.069241</td>\n",
       "      <td>226</td>\n",
       "    </tr>\n",
       "    <tr>\n",
       "      <th>16</th>\n",
       "      <td>Benin</td>\n",
       "      <td>784.278407</td>\n",
       "      <td>789.084915</td>\n",
       "      <td>829.478803</td>\n",
       "      <td>901.543871</td>\n",
       "      <td>826.096499</td>\n",
       "      <td>227</td>\n",
       "    </tr>\n",
       "    <tr>\n",
       "      <th>156</th>\n",
       "      <td>Mali</td>\n",
       "      <td>751.170594</td>\n",
       "      <td>779.874933</td>\n",
       "      <td>828.511976</td>\n",
       "      <td>899.659908</td>\n",
       "      <td>814.804353</td>\n",
       "      <td>228</td>\n",
       "    </tr>\n",
       "    <tr>\n",
       "      <th>83</th>\n",
       "      <td>Guinea</td>\n",
       "      <td>769.256014</td>\n",
       "      <td>732.962173</td>\n",
       "      <td>855.573640</td>\n",
       "      <td>878.599613</td>\n",
       "      <td>809.097860</td>\n",
       "      <td>229</td>\n",
       "    </tr>\n",
       "    <tr>\n",
       "      <th>98</th>\n",
       "      <td>Haiti</td>\n",
       "      <td>815.728284</td>\n",
       "      <td>735.301770</td>\n",
       "      <td>765.727294</td>\n",
       "      <td>868.342025</td>\n",
       "      <td>796.274843</td>\n",
       "      <td>230</td>\n",
       "    </tr>\n",
       "    <tr>\n",
       "      <th>134</th>\n",
       "      <td>Low income</td>\n",
       "      <td>796.012170</td>\n",
       "      <td>759.048908</td>\n",
       "      <td>789.463130</td>\n",
       "      <td>833.878896</td>\n",
       "      <td>794.600776</td>\n",
       "      <td>231</td>\n",
       "    </tr>\n",
       "    <tr>\n",
       "      <th>201</th>\n",
       "      <td>Rwanda</td>\n",
       "      <td>728.081879</td>\n",
       "      <td>726.347974</td>\n",
       "      <td>762.914375</td>\n",
       "      <td>772.944460</td>\n",
       "      <td>747.572172</td>\n",
       "      <td>232</td>\n",
       "    </tr>\n",
       "    <tr>\n",
       "      <th>70</th>\n",
       "      <td>Ethiopia</td>\n",
       "      <td>640.541891</td>\n",
       "      <td>717.124593</td>\n",
       "      <td>768.425026</td>\n",
       "      <td>772.313530</td>\n",
       "      <td>724.601260</td>\n",
       "      <td>233</td>\n",
       "    </tr>\n",
       "    <tr>\n",
       "      <th>227</th>\n",
       "      <td>Chad</td>\n",
       "      <td>775.707524</td>\n",
       "      <td>692.978596</td>\n",
       "      <td>664.303316</td>\n",
       "      <td>728.343235</td>\n",
       "      <td>715.333168</td>\n",
       "      <td>234</td>\n",
       "    </tr>\n",
       "    <tr>\n",
       "      <th>129</th>\n",
       "      <td>Liberia</td>\n",
       "      <td>710.383858</td>\n",
       "      <td>714.623392</td>\n",
       "      <td>698.701764</td>\n",
       "      <td>677.322179</td>\n",
       "      <td>700.257798</td>\n",
       "      <td>235</td>\n",
       "    </tr>\n",
       "    <tr>\n",
       "      <th>84</th>\n",
       "      <td>Gambia, The</td>\n",
       "      <td>660.723571</td>\n",
       "      <td>682.718020</td>\n",
       "      <td>679.777333</td>\n",
       "      <td>716.118489</td>\n",
       "      <td>684.834353</td>\n",
       "      <td>236</td>\n",
       "    </tr>\n",
       "    <tr>\n",
       "      <th>85</th>\n",
       "      <td>Guinea-Bissau</td>\n",
       "      <td>603.158513</td>\n",
       "      <td>661.007655</td>\n",
       "      <td>736.725566</td>\n",
       "      <td>NaN</td>\n",
       "      <td>666.963911</td>\n",
       "      <td>237</td>\n",
       "    </tr>\n",
       "    <tr>\n",
       "      <th>245</th>\n",
       "      <td>Uganda</td>\n",
       "      <td>709.021039</td>\n",
       "      <td>608.705735</td>\n",
       "      <td>631.522720</td>\n",
       "      <td>642.776744</td>\n",
       "      <td>648.006559</td>\n",
       "      <td>238</td>\n",
       "    </tr>\n",
       "    <tr>\n",
       "      <th>17</th>\n",
       "      <td>Burkina Faso</td>\n",
       "      <td>575.314454</td>\n",
       "      <td>582.795444</td>\n",
       "      <td>642.429839</td>\n",
       "      <td>715.122904</td>\n",
       "      <td>628.915660</td>\n",
       "      <td>239</td>\n",
       "    </tr>\n",
       "    <tr>\n",
       "      <th>230</th>\n",
       "      <td>Togo</td>\n",
       "      <td>570.680737</td>\n",
       "      <td>597.065459</td>\n",
       "      <td>624.544946</td>\n",
       "      <td>679.257084</td>\n",
       "      <td>617.887056</td>\n",
       "      <td>240</td>\n",
       "    </tr>\n",
       "    <tr>\n",
       "      <th>1</th>\n",
       "      <td>Afghanistan</td>\n",
       "      <td>578.466353</td>\n",
       "      <td>547.228110</td>\n",
       "      <td>556.302139</td>\n",
       "      <td>520.896603</td>\n",
       "      <td>550.723301</td>\n",
       "      <td>241</td>\n",
       "    </tr>\n",
       "    <tr>\n",
       "      <th>208</th>\n",
       "      <td>Sierra Leone</td>\n",
       "      <td>588.228453</td>\n",
       "      <td>501.415713</td>\n",
       "      <td>499.380708</td>\n",
       "      <td>533.991184</td>\n",
       "      <td>530.754014</td>\n",
       "      <td>242</td>\n",
       "    </tr>\n",
       "    <tr>\n",
       "      <th>41</th>\n",
       "      <td>Congo, Dem. Rep.</td>\n",
       "      <td>497.316961</td>\n",
       "      <td>471.318840</td>\n",
       "      <td>467.074237</td>\n",
       "      <td>561.777182</td>\n",
       "      <td>499.371805</td>\n",
       "      <td>243</td>\n",
       "    </tr>\n",
       "    <tr>\n",
       "      <th>149</th>\n",
       "      <td>Madagascar</td>\n",
       "      <td>467.235277</td>\n",
       "      <td>475.955366</td>\n",
       "      <td>515.292739</td>\n",
       "      <td>527.501285</td>\n",
       "      <td>496.496167</td>\n",
       "      <td>244</td>\n",
       "    </tr>\n",
       "    <tr>\n",
       "      <th>163</th>\n",
       "      <td>Mozambique</td>\n",
       "      <td>589.859028</td>\n",
       "      <td>428.926488</td>\n",
       "      <td>461.415094</td>\n",
       "      <td>498.957220</td>\n",
       "      <td>494.789458</td>\n",
       "      <td>245</td>\n",
       "    </tr>\n",
       "    <tr>\n",
       "      <th>32</th>\n",
       "      <td>Central African Republic</td>\n",
       "      <td>377.271254</td>\n",
       "      <td>401.918238</td>\n",
       "      <td>449.786424</td>\n",
       "      <td>475.721251</td>\n",
       "      <td>426.174292</td>\n",
       "      <td>246</td>\n",
       "    </tr>\n",
       "    <tr>\n",
       "      <th>171</th>\n",
       "      <td>Niger</td>\n",
       "      <td>360.853384</td>\n",
       "      <td>362.131132</td>\n",
       "      <td>375.869490</td>\n",
       "      <td>413.980305</td>\n",
       "      <td>378.208578</td>\n",
       "      <td>247</td>\n",
       "    </tr>\n",
       "    <tr>\n",
       "      <th>166</th>\n",
       "      <td>Malawi</td>\n",
       "      <td>380.597033</td>\n",
       "      <td>315.777326</td>\n",
       "      <td>356.717573</td>\n",
       "      <td>389.398033</td>\n",
       "      <td>360.622491</td>\n",
       "      <td>248</td>\n",
       "    </tr>\n",
       "    <tr>\n",
       "      <th>211</th>\n",
       "      <td>Somalia</td>\n",
       "      <td>293.455236</td>\n",
       "      <td>295.967852</td>\n",
       "      <td>309.055355</td>\n",
       "      <td>314.544166</td>\n",
       "      <td>303.255652</td>\n",
       "      <td>249</td>\n",
       "    </tr>\n",
       "    <tr>\n",
       "      <th>14</th>\n",
       "      <td>Burundi</td>\n",
       "      <td>305.549773</td>\n",
       "      <td>282.193130</td>\n",
       "      <td>292.997631</td>\n",
       "      <td>271.752044</td>\n",
       "      <td>288.123145</td>\n",
       "      <td>250</td>\n",
       "    </tr>\n",
       "  </tbody>\n",
       "</table>\n",
       "<p>250 rows × 7 columns</p>\n",
       "</div>"
      ],
      "text/plain": [
       "                                          Country           2015  \\\n",
       "147                                        Monaco  165937.865343   \n",
       "135                                 Liechtenstein  167290.939984   \n",
       "142                                    Luxembourg  101376.496574   \n",
       "35                                    Switzerland   82081.609206   \n",
       "106                                   Isle of Man   81606.280033   \n",
       "144                              Macao SAR, China   75340.986981   \n",
       "50                                 Cayman Islands   76280.486253   \n",
       "175                                        Norway   74355.515858   \n",
       "109                                       Ireland   61995.422779   \n",
       "112                                       Iceland   52428.595763   \n",
       "198                                         Qatar   63039.016555   \n",
       "249                                 United States   56803.472433   \n",
       "206                                     Singapore   55646.618747   \n",
       "168                                 North America   55476.896706   \n",
       "56                                        Denmark   53254.856004   \n",
       "11                                      Australia   56755.721712   \n",
       "76                                  Faroe Islands   52404.659333   \n",
       "221                                        Sweden   51397.191756   \n",
       "174                                   Netherlands   45175.231893   \n",
       "12                                        Austria   44178.047378   \n",
       "210                                    San Marino   45774.587890   \n",
       "89                                      Greenland   44536.401308   \n",
       "73                                        Finland   42811.212994   \n",
       "94                           Hong Kong SAR, China   42431.888282   \n",
       "33                                         Canada   43495.054387   \n",
       "53                                        Germany   41139.544569   \n",
       "15                                        Belgium   40991.808138   \n",
       "196                     Post-demographic dividend   40497.756290   \n",
       "79                                 United Kingdom   44966.101925   \n",
       "93                                    High income   40196.172175   \n",
       "..                                            ...            ...   \n",
       "105                                      IDA only    1059.889810   \n",
       "133  Least developed countries: UN classification    1022.704889   \n",
       "244                                      Tanzania     947.933446   \n",
       "96         Heavily indebted poor countries (HIPC)     923.923986   \n",
       "176                                         Nepal     792.552891   \n",
       "232                                    Tajikistan     929.095857   \n",
       "16                                          Benin     784.278407   \n",
       "156                                          Mali     751.170594   \n",
       "83                                         Guinea     769.256014   \n",
       "98                                          Haiti     815.728284   \n",
       "134                                    Low income     796.012170   \n",
       "201                                        Rwanda     728.081879   \n",
       "70                                       Ethiopia     640.541891   \n",
       "227                                          Chad     775.707524   \n",
       "129                                       Liberia     710.383858   \n",
       "84                                    Gambia, The     660.723571   \n",
       "85                                  Guinea-Bissau     603.158513   \n",
       "245                                        Uganda     709.021039   \n",
       "17                                   Burkina Faso     575.314454   \n",
       "230                                          Togo     570.680737   \n",
       "1                                     Afghanistan     578.466353   \n",
       "208                                  Sierra Leone     588.228453   \n",
       "41                               Congo, Dem. Rep.     497.316961   \n",
       "149                                    Madagascar     467.235277   \n",
       "163                                    Mozambique     589.859028   \n",
       "32                       Central African Republic     377.271254   \n",
       "171                                         Niger     360.853384   \n",
       "166                                        Malawi     380.597033   \n",
       "211                                       Somalia     293.455236   \n",
       "14                                        Burundi     305.549773   \n",
       "\n",
       "              2016           2017           2018        average  rank  \n",
       "147  169915.804840  167101.759377  185741.279992  172174.177388     1  \n",
       "135  165028.245029            NaN            NaN  166159.592507     2  \n",
       "142  104278.390972  107361.306947  116639.888047  107414.020635     3  \n",
       "35    80172.193304   80450.045820   82796.547163   81375.098873     4  \n",
       "106   79155.541672   80989.172211            NaN   80583.664639     5  \n",
       "144   74061.086035   81516.674925   87208.535913   79531.820963     6  \n",
       "50    78296.099927   81124.513479            NaN   78567.033220     7  \n",
       "175   70460.560532   75496.754058   81697.245984   75502.519108     8  \n",
       "109   63197.082374   69649.882740   78806.431996   68412.204972     9  \n",
       "112   61757.949306   71314.774196   73191.116315   64673.108895    10  \n",
       "198   57163.060992   61264.396478   68793.784437   62565.064615    11  \n",
       "249   57904.201961   59927.929834   62794.585652   59357.547470    12  \n",
       "206   56724.170386   60297.793781   64581.944018   59312.631733    13  \n",
       "168   56340.176507   58434.030876   61117.048373   57842.038115    14  \n",
       "56    54663.998372   57141.059835   61350.347909   56602.565530    15  \n",
       "11    49971.131456   54066.471269   57373.686684   54541.752780    16  \n",
       "76    55822.914720            NaN            NaN   54113.787027    17  \n",
       "221   51974.196555   53744.429032   54608.360255   52931.044400    18  \n",
       "174   46007.852921   48554.992276   53024.059213   48190.534076    19  \n",
       "12    45237.805092   47431.630608   51461.954780   47077.359464    20  \n",
       "210   46692.351092   48494.551411            NaN   46987.163464    21  \n",
       "89    48181.874188            NaN            NaN   46359.137748    22  \n",
       "73    43777.440089   46191.931156   50152.340141   45733.231095    23  \n",
       "94    43734.249994   46225.781869   48675.616460   45266.884151    24  \n",
       "33    42279.900823   45069.927254   46232.989623   44269.468022    25  \n",
       "53    42098.920445   44240.044110   47603.027633   43770.384189    26  \n",
       "15    42012.099900   44219.561996   47518.636039   43685.526518    27  \n",
       "196   41202.817006   42740.901816   45126.497779   42391.993223    28  \n",
       "79    41074.167280   40361.417383   42943.902270   42336.397214    29  \n",
       "93    40791.787667   42375.592533   44786.579662   42037.533009    30  \n",
       "..             ...            ...            ...            ...   ...  \n",
       "105    1073.867893    1161.617937    1139.592278    1108.741980   221  \n",
       "133    1009.492685    1106.773419    1054.394224    1048.341304   222  \n",
       "244     966.474622    1004.841121    1050.675254     992.481111   223  \n",
       "96      920.750162     994.881642     934.411053     943.491711   224  \n",
       "176     777.147596     911.444267    1033.912431     878.764296   225  \n",
       "232     802.518004     806.041573     826.621531     841.069241   226  \n",
       "16      789.084915     829.478803     901.543871     826.096499   227  \n",
       "156     779.874933     828.511976     899.659908     814.804353   228  \n",
       "83      732.962173     855.573640     878.599613     809.097860   229  \n",
       "98      735.301770     765.727294     868.342025     796.274843   230  \n",
       "134     759.048908     789.463130     833.878896     794.600776   231  \n",
       "201     726.347974     762.914375     772.944460     747.572172   232  \n",
       "70      717.124593     768.425026     772.313530     724.601260   233  \n",
       "227     692.978596     664.303316     728.343235     715.333168   234  \n",
       "129     714.623392     698.701764     677.322179     700.257798   235  \n",
       "84      682.718020     679.777333     716.118489     684.834353   236  \n",
       "85      661.007655     736.725566            NaN     666.963911   237  \n",
       "245     608.705735     631.522720     642.776744     648.006559   238  \n",
       "17      582.795444     642.429839     715.122904     628.915660   239  \n",
       "230     597.065459     624.544946     679.257084     617.887056   240  \n",
       "1       547.228110     556.302139     520.896603     550.723301   241  \n",
       "208     501.415713     499.380708     533.991184     530.754014   242  \n",
       "41      471.318840     467.074237     561.777182     499.371805   243  \n",
       "149     475.955366     515.292739     527.501285     496.496167   244  \n",
       "163     428.926488     461.415094     498.957220     494.789458   245  \n",
       "32      401.918238     449.786424     475.721251     426.174292   246  \n",
       "171     362.131132     375.869490     413.980305     378.208578   247  \n",
       "166     315.777326     356.717573     389.398033     360.622491   248  \n",
       "211     295.967852     309.055355     314.544166     303.255652   249  \n",
       "14      282.193130     292.997631     271.752044     288.123145   250  \n",
       "\n",
       "[250 rows x 7 columns]"
      ]
     },
     "execution_count": 27,
     "metadata": {},
     "output_type": "execute_result"
    }
   ],
   "source": [
    "gdp.sort_values('rank', ascending=True)"
   ]
  },
  {
   "cell_type": "code",
   "execution_count": null,
   "metadata": {},
   "outputs": [],
   "source": []
  }
 ],
 "metadata": {
  "kernelspec": {
   "display_name": "Python 3",
   "language": "python",
   "name": "python3"
  },
  "language_info": {
   "codemirror_mode": {
    "name": "ipython",
    "version": 3
   },
   "file_extension": ".py",
   "mimetype": "text/x-python",
   "name": "python",
   "nbconvert_exporter": "python",
   "pygments_lexer": "ipython3",
   "version": "3.7.3"
  }
 },
 "nbformat": 4,
 "nbformat_minor": 2
}
